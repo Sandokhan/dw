{
 "cells": [
  {
   "cell_type": "code",
   "execution_count": 1,
   "metadata": {
    "collapsed": true
   },
   "outputs": [],
   "source": [
    "import pandas as pd"
   ]
  },
  {
   "cell_type": "code",
   "execution_count": 2,
   "outputs": [
    {
     "data": {
      "text/plain": "   ORDERNUMBER  QUANTITYORDERED  PRICEEACH  ORDERLINENUMBER    SALES  \\\n0        10107               30      95.70                2  2871.00   \n1        10121               34      81.35                5  2765.90   \n2        10134               41      94.74                2  3884.34   \n3        10145               45      83.26                6  3746.70   \n4        10159               49     100.00               14  5205.27   \n\n         ORDERDATE   STATUS  QTR_ID  MONTH_ID  YEAR_ID  ...  \\\n0   2/24/2003 0:00  Shipped       1         2     2003  ...   \n1    5/7/2003 0:00  Shipped       2         5     2003  ...   \n2    7/1/2003 0:00  Shipped       3         7     2003  ...   \n3   8/25/2003 0:00  Shipped       3         8     2003  ...   \n4  10/10/2003 0:00  Shipped       4        10     2003  ...   \n\n                    ADDRESSLINE1  ADDRESSLINE2           CITY STATE  \\\n0        897 Long Airport Avenue           NaN            NYC    NY   \n1             59 rue de l'Abbaye           NaN          Reims   NaN   \n2  27 rue du Colonel Pierre Avia           NaN          Paris   NaN   \n3             78934 Hillside Dr.           NaN       Pasadena    CA   \n4                7734 Strong St.           NaN  San Francisco    CA   \n\n  POSTALCODE COUNTRY TERRITORY CONTACTLASTNAME CONTACTFIRSTNAME DEALSIZE  \n0      10022     USA       NaN              Yu             Kwai    Small  \n1      51100  France      EMEA         Henriot             Paul    Small  \n2      75508  France      EMEA        Da Cunha           Daniel   Medium  \n3      90003     USA       NaN           Young            Julie   Medium  \n4        NaN     USA       NaN           Brown            Julie   Medium  \n\n[5 rows x 25 columns]",
      "text/html": "<div>\n<style scoped>\n    .dataframe tbody tr th:only-of-type {\n        vertical-align: middle;\n    }\n\n    .dataframe tbody tr th {\n        vertical-align: top;\n    }\n\n    .dataframe thead th {\n        text-align: right;\n    }\n</style>\n<table border=\"1\" class=\"dataframe\">\n  <thead>\n    <tr style=\"text-align: right;\">\n      <th></th>\n      <th>ORDERNUMBER</th>\n      <th>QUANTITYORDERED</th>\n      <th>PRICEEACH</th>\n      <th>ORDERLINENUMBER</th>\n      <th>SALES</th>\n      <th>ORDERDATE</th>\n      <th>STATUS</th>\n      <th>QTR_ID</th>\n      <th>MONTH_ID</th>\n      <th>YEAR_ID</th>\n      <th>...</th>\n      <th>ADDRESSLINE1</th>\n      <th>ADDRESSLINE2</th>\n      <th>CITY</th>\n      <th>STATE</th>\n      <th>POSTALCODE</th>\n      <th>COUNTRY</th>\n      <th>TERRITORY</th>\n      <th>CONTACTLASTNAME</th>\n      <th>CONTACTFIRSTNAME</th>\n      <th>DEALSIZE</th>\n    </tr>\n  </thead>\n  <tbody>\n    <tr>\n      <th>0</th>\n      <td>10107</td>\n      <td>30</td>\n      <td>95.70</td>\n      <td>2</td>\n      <td>2871.00</td>\n      <td>2/24/2003 0:00</td>\n      <td>Shipped</td>\n      <td>1</td>\n      <td>2</td>\n      <td>2003</td>\n      <td>...</td>\n      <td>897 Long Airport Avenue</td>\n      <td>NaN</td>\n      <td>NYC</td>\n      <td>NY</td>\n      <td>10022</td>\n      <td>USA</td>\n      <td>NaN</td>\n      <td>Yu</td>\n      <td>Kwai</td>\n      <td>Small</td>\n    </tr>\n    <tr>\n      <th>1</th>\n      <td>10121</td>\n      <td>34</td>\n      <td>81.35</td>\n      <td>5</td>\n      <td>2765.90</td>\n      <td>5/7/2003 0:00</td>\n      <td>Shipped</td>\n      <td>2</td>\n      <td>5</td>\n      <td>2003</td>\n      <td>...</td>\n      <td>59 rue de l'Abbaye</td>\n      <td>NaN</td>\n      <td>Reims</td>\n      <td>NaN</td>\n      <td>51100</td>\n      <td>France</td>\n      <td>EMEA</td>\n      <td>Henriot</td>\n      <td>Paul</td>\n      <td>Small</td>\n    </tr>\n    <tr>\n      <th>2</th>\n      <td>10134</td>\n      <td>41</td>\n      <td>94.74</td>\n      <td>2</td>\n      <td>3884.34</td>\n      <td>7/1/2003 0:00</td>\n      <td>Shipped</td>\n      <td>3</td>\n      <td>7</td>\n      <td>2003</td>\n      <td>...</td>\n      <td>27 rue du Colonel Pierre Avia</td>\n      <td>NaN</td>\n      <td>Paris</td>\n      <td>NaN</td>\n      <td>75508</td>\n      <td>France</td>\n      <td>EMEA</td>\n      <td>Da Cunha</td>\n      <td>Daniel</td>\n      <td>Medium</td>\n    </tr>\n    <tr>\n      <th>3</th>\n      <td>10145</td>\n      <td>45</td>\n      <td>83.26</td>\n      <td>6</td>\n      <td>3746.70</td>\n      <td>8/25/2003 0:00</td>\n      <td>Shipped</td>\n      <td>3</td>\n      <td>8</td>\n      <td>2003</td>\n      <td>...</td>\n      <td>78934 Hillside Dr.</td>\n      <td>NaN</td>\n      <td>Pasadena</td>\n      <td>CA</td>\n      <td>90003</td>\n      <td>USA</td>\n      <td>NaN</td>\n      <td>Young</td>\n      <td>Julie</td>\n      <td>Medium</td>\n    </tr>\n    <tr>\n      <th>4</th>\n      <td>10159</td>\n      <td>49</td>\n      <td>100.00</td>\n      <td>14</td>\n      <td>5205.27</td>\n      <td>10/10/2003 0:00</td>\n      <td>Shipped</td>\n      <td>4</td>\n      <td>10</td>\n      <td>2003</td>\n      <td>...</td>\n      <td>7734 Strong St.</td>\n      <td>NaN</td>\n      <td>San Francisco</td>\n      <td>CA</td>\n      <td>NaN</td>\n      <td>USA</td>\n      <td>NaN</td>\n      <td>Brown</td>\n      <td>Julie</td>\n      <td>Medium</td>\n    </tr>\n  </tbody>\n</table>\n<p>5 rows × 25 columns</p>\n</div>"
     },
     "execution_count": 2,
     "metadata": {},
     "output_type": "execute_result"
    }
   ],
   "source": [
    "df = pd.read_csv('datasets/sales_data_sample.csv', encoding='unicode_escape')\n",
    "df.head()"
   ],
   "metadata": {
    "collapsed": false
   }
  },
  {
   "cell_type": "code",
   "execution_count": 3,
   "outputs": [
    {
     "data": {
      "text/plain": "ORDERNUMBER           int64\nQUANTITYORDERED       int64\nPRICEEACH           float64\nORDERLINENUMBER       int64\nSALES               float64\nORDERDATE            object\nSTATUS               object\nQTR_ID                int64\nMONTH_ID              int64\nYEAR_ID               int64\nPRODUCTLINE          object\nMSRP                  int64\nPRODUCTCODE          object\nCUSTOMERNAME         object\nPHONE                object\nADDRESSLINE1         object\nADDRESSLINE2         object\nCITY                 object\nSTATE                object\nPOSTALCODE           object\nCOUNTRY              object\nTERRITORY            object\nCONTACTLASTNAME      object\nCONTACTFIRSTNAME     object\nDEALSIZE             object\ndtype: object"
     },
     "execution_count": 3,
     "metadata": {},
     "output_type": "execute_result"
    }
   ],
   "source": [
    "# Inspecting data types\n",
    "df.dtypes"
   ],
   "metadata": {
    "collapsed": false
   }
  },
  {
   "cell_type": "code",
   "execution_count": 4,
   "outputs": [
    {
     "data": {
      "text/plain": "   ORDERNUMBER  QUANTITYORDERED  PRICEEACH  ORDERLINENUMBER    SALES  \\\n0        10107               30      95.70                2  2871.00   \n1        10121               34      81.35                5  2765.90   \n2        10134               41      94.74                2  3884.34   \n3        10145               45      83.26                6  3746.70   \n4        10159               49     100.00               14  5205.27   \n\n          ORDERDATE   STATUS  QTR_ID  MONTH_ID  YEAR_ID  ...  \\\n0  2003-02-24 00:00  Shipped       1         2     2003  ...   \n1  2003-05-07 00:00  Shipped       2         5     2003  ...   \n2  2003-07-01 00:00  Shipped       3         7     2003  ...   \n3  2003-08-25 00:00  Shipped       3         8     2003  ...   \n4  2003-10-10 00:00  Shipped       4        10     2003  ...   \n\n                    ADDRESSLINE1  ADDRESSLINE2           CITY STATE  \\\n0        897 Long Airport Avenue           NaN            NYC    NY   \n1             59 rue de l'Abbaye           NaN          Reims   NaN   \n2  27 rue du Colonel Pierre Avia           NaN          Paris   NaN   \n3             78934 Hillside Dr.           NaN       Pasadena    CA   \n4                7734 Strong St.           NaN  San Francisco    CA   \n\n  POSTALCODE COUNTRY TERRITORY CONTACTLASTNAME CONTACTFIRSTNAME DEALSIZE  \n0      10022     USA       NaN              Yu             Kwai    Small  \n1      51100  France      EMEA         Henriot             Paul    Small  \n2      75508  France      EMEA        Da Cunha           Daniel   Medium  \n3      90003     USA       NaN           Young            Julie   Medium  \n4        NaN     USA       NaN           Brown            Julie   Medium  \n\n[5 rows x 25 columns]",
      "text/html": "<div>\n<style scoped>\n    .dataframe tbody tr th:only-of-type {\n        vertical-align: middle;\n    }\n\n    .dataframe tbody tr th {\n        vertical-align: top;\n    }\n\n    .dataframe thead th {\n        text-align: right;\n    }\n</style>\n<table border=\"1\" class=\"dataframe\">\n  <thead>\n    <tr style=\"text-align: right;\">\n      <th></th>\n      <th>ORDERNUMBER</th>\n      <th>QUANTITYORDERED</th>\n      <th>PRICEEACH</th>\n      <th>ORDERLINENUMBER</th>\n      <th>SALES</th>\n      <th>ORDERDATE</th>\n      <th>STATUS</th>\n      <th>QTR_ID</th>\n      <th>MONTH_ID</th>\n      <th>YEAR_ID</th>\n      <th>...</th>\n      <th>ADDRESSLINE1</th>\n      <th>ADDRESSLINE2</th>\n      <th>CITY</th>\n      <th>STATE</th>\n      <th>POSTALCODE</th>\n      <th>COUNTRY</th>\n      <th>TERRITORY</th>\n      <th>CONTACTLASTNAME</th>\n      <th>CONTACTFIRSTNAME</th>\n      <th>DEALSIZE</th>\n    </tr>\n  </thead>\n  <tbody>\n    <tr>\n      <th>0</th>\n      <td>10107</td>\n      <td>30</td>\n      <td>95.70</td>\n      <td>2</td>\n      <td>2871.00</td>\n      <td>2003-02-24 00:00</td>\n      <td>Shipped</td>\n      <td>1</td>\n      <td>2</td>\n      <td>2003</td>\n      <td>...</td>\n      <td>897 Long Airport Avenue</td>\n      <td>NaN</td>\n      <td>NYC</td>\n      <td>NY</td>\n      <td>10022</td>\n      <td>USA</td>\n      <td>NaN</td>\n      <td>Yu</td>\n      <td>Kwai</td>\n      <td>Small</td>\n    </tr>\n    <tr>\n      <th>1</th>\n      <td>10121</td>\n      <td>34</td>\n      <td>81.35</td>\n      <td>5</td>\n      <td>2765.90</td>\n      <td>2003-05-07 00:00</td>\n      <td>Shipped</td>\n      <td>2</td>\n      <td>5</td>\n      <td>2003</td>\n      <td>...</td>\n      <td>59 rue de l'Abbaye</td>\n      <td>NaN</td>\n      <td>Reims</td>\n      <td>NaN</td>\n      <td>51100</td>\n      <td>France</td>\n      <td>EMEA</td>\n      <td>Henriot</td>\n      <td>Paul</td>\n      <td>Small</td>\n    </tr>\n    <tr>\n      <th>2</th>\n      <td>10134</td>\n      <td>41</td>\n      <td>94.74</td>\n      <td>2</td>\n      <td>3884.34</td>\n      <td>2003-07-01 00:00</td>\n      <td>Shipped</td>\n      <td>3</td>\n      <td>7</td>\n      <td>2003</td>\n      <td>...</td>\n      <td>27 rue du Colonel Pierre Avia</td>\n      <td>NaN</td>\n      <td>Paris</td>\n      <td>NaN</td>\n      <td>75508</td>\n      <td>France</td>\n      <td>EMEA</td>\n      <td>Da Cunha</td>\n      <td>Daniel</td>\n      <td>Medium</td>\n    </tr>\n    <tr>\n      <th>3</th>\n      <td>10145</td>\n      <td>45</td>\n      <td>83.26</td>\n      <td>6</td>\n      <td>3746.70</td>\n      <td>2003-08-25 00:00</td>\n      <td>Shipped</td>\n      <td>3</td>\n      <td>8</td>\n      <td>2003</td>\n      <td>...</td>\n      <td>78934 Hillside Dr.</td>\n      <td>NaN</td>\n      <td>Pasadena</td>\n      <td>CA</td>\n      <td>90003</td>\n      <td>USA</td>\n      <td>NaN</td>\n      <td>Young</td>\n      <td>Julie</td>\n      <td>Medium</td>\n    </tr>\n    <tr>\n      <th>4</th>\n      <td>10159</td>\n      <td>49</td>\n      <td>100.00</td>\n      <td>14</td>\n      <td>5205.27</td>\n      <td>2003-10-10 00:00</td>\n      <td>Shipped</td>\n      <td>4</td>\n      <td>10</td>\n      <td>2003</td>\n      <td>...</td>\n      <td>7734 Strong St.</td>\n      <td>NaN</td>\n      <td>San Francisco</td>\n      <td>CA</td>\n      <td>NaN</td>\n      <td>USA</td>\n      <td>NaN</td>\n      <td>Brown</td>\n      <td>Julie</td>\n      <td>Medium</td>\n    </tr>\n  </tbody>\n</table>\n<p>5 rows × 25 columns</p>\n</div>"
     },
     "execution_count": 4,
     "metadata": {},
     "output_type": "execute_result"
    }
   ],
   "source": [
    "# Converting to datetime and fix format\n",
    "df['ORDERDATE'] = pd.to_datetime(df.ORDERDATE, format='%m/%d/%Y %H:%M')\n",
    "df['ORDERDATE'] = df.ORDERDATE.dt.strftime('%Y-%m-%d %H:%M')\n",
    "df.head()"
   ],
   "metadata": {
    "collapsed": false
   }
  },
  {
   "cell_type": "code",
   "execution_count": 5,
   "outputs": [
    {
     "data": {
      "text/plain": "      ORDERNUMBER  QUANTITYORDERED  PRICEEACH  ORDERLINENUMBER    SALES  \\\n2818        10350               20     100.00               15  2244.40   \n2819        10373               29     100.00                1  3978.51   \n2820        10386               43     100.00                4  5417.57   \n2821        10397               34      62.24                1  2116.16   \n2822        10414               47      65.52                9  3079.44   \n\n      ORDERDATE    STATUS  QTR_ID  MONTH_ID  YEAR_ID  ...  \\\n2818 2004-12-02   Shipped       4        12     2004  ...   \n2819 2005-01-31   Shipped       1         1     2005  ...   \n2820 2005-03-01  Resolved       1         3     2005  ...   \n2821 2005-03-28   Shipped       1         3     2005  ...   \n2822 2005-05-06   On Hold       2         5     2005  ...   \n\n               ADDRESSLINE1  ADDRESSLINE2      CITY STATE POSTALCODE  COUNTRY  \\\n2818     C/ Moralzarzal, 86           NaN    Madrid   NaN      28034    Spain   \n2819            Torikatu 38           NaN      Oulu   NaN      90110  Finland   \n2820     C/ Moralzarzal, 86           NaN    Madrid   NaN      28034    Spain   \n2821  1 rue Alsace-Lorraine           NaN  Toulouse   NaN      31000   France   \n2822     8616 Spinnaker Dr.           NaN    Boston    MA      51003      USA   \n\n     TERRITORY CONTACTLASTNAME CONTACTFIRSTNAME DEALSIZE  \n2818      EMEA          Freyre            Diego    Small  \n2819      EMEA       Koskitalo           Pirkko   Medium  \n2820      EMEA          Freyre            Diego   Medium  \n2821      EMEA          Roulet          Annette    Small  \n2822       NaN         Yoshido             Juri   Medium  \n\n[5 rows x 25 columns]",
      "text/html": "<div>\n<style scoped>\n    .dataframe tbody tr th:only-of-type {\n        vertical-align: middle;\n    }\n\n    .dataframe tbody tr th {\n        vertical-align: top;\n    }\n\n    .dataframe thead th {\n        text-align: right;\n    }\n</style>\n<table border=\"1\" class=\"dataframe\">\n  <thead>\n    <tr style=\"text-align: right;\">\n      <th></th>\n      <th>ORDERNUMBER</th>\n      <th>QUANTITYORDERED</th>\n      <th>PRICEEACH</th>\n      <th>ORDERLINENUMBER</th>\n      <th>SALES</th>\n      <th>ORDERDATE</th>\n      <th>STATUS</th>\n      <th>QTR_ID</th>\n      <th>MONTH_ID</th>\n      <th>YEAR_ID</th>\n      <th>...</th>\n      <th>ADDRESSLINE1</th>\n      <th>ADDRESSLINE2</th>\n      <th>CITY</th>\n      <th>STATE</th>\n      <th>POSTALCODE</th>\n      <th>COUNTRY</th>\n      <th>TERRITORY</th>\n      <th>CONTACTLASTNAME</th>\n      <th>CONTACTFIRSTNAME</th>\n      <th>DEALSIZE</th>\n    </tr>\n  </thead>\n  <tbody>\n    <tr>\n      <th>2818</th>\n      <td>10350</td>\n      <td>20</td>\n      <td>100.00</td>\n      <td>15</td>\n      <td>2244.40</td>\n      <td>2004-12-02</td>\n      <td>Shipped</td>\n      <td>4</td>\n      <td>12</td>\n      <td>2004</td>\n      <td>...</td>\n      <td>C/ Moralzarzal, 86</td>\n      <td>NaN</td>\n      <td>Madrid</td>\n      <td>NaN</td>\n      <td>28034</td>\n      <td>Spain</td>\n      <td>EMEA</td>\n      <td>Freyre</td>\n      <td>Diego</td>\n      <td>Small</td>\n    </tr>\n    <tr>\n      <th>2819</th>\n      <td>10373</td>\n      <td>29</td>\n      <td>100.00</td>\n      <td>1</td>\n      <td>3978.51</td>\n      <td>2005-01-31</td>\n      <td>Shipped</td>\n      <td>1</td>\n      <td>1</td>\n      <td>2005</td>\n      <td>...</td>\n      <td>Torikatu 38</td>\n      <td>NaN</td>\n      <td>Oulu</td>\n      <td>NaN</td>\n      <td>90110</td>\n      <td>Finland</td>\n      <td>EMEA</td>\n      <td>Koskitalo</td>\n      <td>Pirkko</td>\n      <td>Medium</td>\n    </tr>\n    <tr>\n      <th>2820</th>\n      <td>10386</td>\n      <td>43</td>\n      <td>100.00</td>\n      <td>4</td>\n      <td>5417.57</td>\n      <td>2005-03-01</td>\n      <td>Resolved</td>\n      <td>1</td>\n      <td>3</td>\n      <td>2005</td>\n      <td>...</td>\n      <td>C/ Moralzarzal, 86</td>\n      <td>NaN</td>\n      <td>Madrid</td>\n      <td>NaN</td>\n      <td>28034</td>\n      <td>Spain</td>\n      <td>EMEA</td>\n      <td>Freyre</td>\n      <td>Diego</td>\n      <td>Medium</td>\n    </tr>\n    <tr>\n      <th>2821</th>\n      <td>10397</td>\n      <td>34</td>\n      <td>62.24</td>\n      <td>1</td>\n      <td>2116.16</td>\n      <td>2005-03-28</td>\n      <td>Shipped</td>\n      <td>1</td>\n      <td>3</td>\n      <td>2005</td>\n      <td>...</td>\n      <td>1 rue Alsace-Lorraine</td>\n      <td>NaN</td>\n      <td>Toulouse</td>\n      <td>NaN</td>\n      <td>31000</td>\n      <td>France</td>\n      <td>EMEA</td>\n      <td>Roulet</td>\n      <td>Annette</td>\n      <td>Small</td>\n    </tr>\n    <tr>\n      <th>2822</th>\n      <td>10414</td>\n      <td>47</td>\n      <td>65.52</td>\n      <td>9</td>\n      <td>3079.44</td>\n      <td>2005-05-06</td>\n      <td>On Hold</td>\n      <td>2</td>\n      <td>5</td>\n      <td>2005</td>\n      <td>...</td>\n      <td>8616 Spinnaker Dr.</td>\n      <td>NaN</td>\n      <td>Boston</td>\n      <td>MA</td>\n      <td>51003</td>\n      <td>USA</td>\n      <td>NaN</td>\n      <td>Yoshido</td>\n      <td>Juri</td>\n      <td>Medium</td>\n    </tr>\n  </tbody>\n</table>\n<p>5 rows × 25 columns</p>\n</div>"
     },
     "execution_count": 5,
     "metadata": {},
     "output_type": "execute_result"
    }
   ],
   "source": [
    "df['ORDERDATE'] = pd.to_datetime(df.ORDERDATE)\n",
    "df.tail()"
   ],
   "metadata": {
    "collapsed": false
   }
  },
  {
   "cell_type": "markdown",
   "source": [
    "## Working dimension Time"
   ],
   "metadata": {
    "collapsed": false
   }
  },
  {
   "cell_type": "code",
   "execution_count": 6,
   "outputs": [
    {
     "data": {
      "text/plain": "   ORDERDATE  MONTH_ID  QTR_ID  YEAR_ID\n0 2003-02-24         2       1     2003\n1 2003-05-07         5       2     2003\n2 2003-07-01         7       3     2003\n3 2003-08-25         8       3     2003\n4 2003-10-10        10       4     2003",
      "text/html": "<div>\n<style scoped>\n    .dataframe tbody tr th:only-of-type {\n        vertical-align: middle;\n    }\n\n    .dataframe tbody tr th {\n        vertical-align: top;\n    }\n\n    .dataframe thead th {\n        text-align: right;\n    }\n</style>\n<table border=\"1\" class=\"dataframe\">\n  <thead>\n    <tr style=\"text-align: right;\">\n      <th></th>\n      <th>ORDERDATE</th>\n      <th>MONTH_ID</th>\n      <th>QTR_ID</th>\n      <th>YEAR_ID</th>\n    </tr>\n  </thead>\n  <tbody>\n    <tr>\n      <th>0</th>\n      <td>2003-02-24</td>\n      <td>2</td>\n      <td>1</td>\n      <td>2003</td>\n    </tr>\n    <tr>\n      <th>1</th>\n      <td>2003-05-07</td>\n      <td>5</td>\n      <td>2</td>\n      <td>2003</td>\n    </tr>\n    <tr>\n      <th>2</th>\n      <td>2003-07-01</td>\n      <td>7</td>\n      <td>3</td>\n      <td>2003</td>\n    </tr>\n    <tr>\n      <th>3</th>\n      <td>2003-08-25</td>\n      <td>8</td>\n      <td>3</td>\n      <td>2003</td>\n    </tr>\n    <tr>\n      <th>4</th>\n      <td>2003-10-10</td>\n      <td>10</td>\n      <td>4</td>\n      <td>2003</td>\n    </tr>\n  </tbody>\n</table>\n</div>"
     },
     "execution_count": 6,
     "metadata": {},
     "output_type": "execute_result"
    }
   ],
   "source": [
    "df_time = df[['ORDERDATE', 'MONTH_ID', 'QTR_ID', 'YEAR_ID']].copy(deep=True)\n",
    "df_time.head()"
   ],
   "metadata": {
    "collapsed": false
   }
  },
  {
   "cell_type": "markdown",
   "source": [
    "## First step will be getting derivate values\n",
    "\n",
    "### At this moment the dimension time should have the following fields:\n",
    "- dateid:: yyyymmdd\n",
    "- day:: dd\n",
    "- dayname:: (monday-tuesday- and so on)\n",
    "- month:: mm\n",
    "- monthname:: (January-February- and so on)\n",
    "- is_day_of_week:: True/False\n",
    "- MonthNumberByYear:: 2023-02\n",
    "- Weeknumber\n",
    "- Semester\n",
    "- Quarter\n",
    "- Year"
   ],
   "metadata": {
    "collapsed": false
   }
  },
  {
   "cell_type": "code",
   "execution_count": 7,
   "outputs": [
    {
     "data": {
      "text/plain": "    FULLDATE  MONTH  QUARTER  YEAR    DATEID  DAY    DAYNAME MONTHNAME  \\\n0 2003-02-24      2        1  2003  20030224   24     Monday  February   \n1 2003-05-07      5        2  2003  20030507    7  Wednesday       May   \n2 2003-07-01      7        3  2003  20030701    1    Tuesday      July   \n3 2003-08-25      8        3  2003  20030825   25     Monday    August   \n4 2003-10-10     10        4  2003  20031010   10     Friday   October   \n\n   WEEKNUMBER  IS_WEEKDAY  SEMESTER MONTHNUMBERBYYEAR  \n0           9           0         1           2003-02  \n1          19           1         1           2003-05  \n2          27           1         2           2003-07  \n3          35           0         2           2003-08  \n4          41           1         2           2003-10  ",
      "text/html": "<div>\n<style scoped>\n    .dataframe tbody tr th:only-of-type {\n        vertical-align: middle;\n    }\n\n    .dataframe tbody tr th {\n        vertical-align: top;\n    }\n\n    .dataframe thead th {\n        text-align: right;\n    }\n</style>\n<table border=\"1\" class=\"dataframe\">\n  <thead>\n    <tr style=\"text-align: right;\">\n      <th></th>\n      <th>FULLDATE</th>\n      <th>MONTH</th>\n      <th>QUARTER</th>\n      <th>YEAR</th>\n      <th>DATEID</th>\n      <th>DAY</th>\n      <th>DAYNAME</th>\n      <th>MONTHNAME</th>\n      <th>WEEKNUMBER</th>\n      <th>IS_WEEKDAY</th>\n      <th>SEMESTER</th>\n      <th>MONTHNUMBERBYYEAR</th>\n    </tr>\n  </thead>\n  <tbody>\n    <tr>\n      <th>0</th>\n      <td>2003-02-24</td>\n      <td>2</td>\n      <td>1</td>\n      <td>2003</td>\n      <td>20030224</td>\n      <td>24</td>\n      <td>Monday</td>\n      <td>February</td>\n      <td>9</td>\n      <td>0</td>\n      <td>1</td>\n      <td>2003-02</td>\n    </tr>\n    <tr>\n      <th>1</th>\n      <td>2003-05-07</td>\n      <td>5</td>\n      <td>2</td>\n      <td>2003</td>\n      <td>20030507</td>\n      <td>7</td>\n      <td>Wednesday</td>\n      <td>May</td>\n      <td>19</td>\n      <td>1</td>\n      <td>1</td>\n      <td>2003-05</td>\n    </tr>\n    <tr>\n      <th>2</th>\n      <td>2003-07-01</td>\n      <td>7</td>\n      <td>3</td>\n      <td>2003</td>\n      <td>20030701</td>\n      <td>1</td>\n      <td>Tuesday</td>\n      <td>July</td>\n      <td>27</td>\n      <td>1</td>\n      <td>2</td>\n      <td>2003-07</td>\n    </tr>\n    <tr>\n      <th>3</th>\n      <td>2003-08-25</td>\n      <td>8</td>\n      <td>3</td>\n      <td>2003</td>\n      <td>20030825</td>\n      <td>25</td>\n      <td>Monday</td>\n      <td>August</td>\n      <td>35</td>\n      <td>0</td>\n      <td>2</td>\n      <td>2003-08</td>\n    </tr>\n    <tr>\n      <th>4</th>\n      <td>2003-10-10</td>\n      <td>10</td>\n      <td>4</td>\n      <td>2003</td>\n      <td>20031010</td>\n      <td>10</td>\n      <td>Friday</td>\n      <td>October</td>\n      <td>41</td>\n      <td>1</td>\n      <td>2</td>\n      <td>2003-10</td>\n    </tr>\n  </tbody>\n</table>\n</div>"
     },
     "execution_count": 7,
     "metadata": {},
     "output_type": "execute_result"
    }
   ],
   "source": [
    "# Create dateid\n",
    "df_time['DATEID'] = df_time.ORDERDATE.dt.strftime('%Y%m%d')\n",
    "df_time['DAY']    = df_time.ORDERDATE.dt.day\n",
    "df_time['DAYNAME']    = df_time.ORDERDATE.dt.day_name()\n",
    "df_time['MONTHNAME']  = df_time.ORDERDATE.dt.month_name()\n",
    "df_time['WEEKNUMBER']  = df_time.ORDERDATE.dt.isocalendar().week\n",
    "df_time['IS_WEEKDAY'] = df_time['ORDERDATE'].apply(lambda x: 1 if x.weekday() else 0)\n",
    "df_time['SEMESTER'] = df_time['MONTH_ID'].apply(lambda x: 1 if x < 7 else 2)\n",
    "df_time['MONTHNUMBERBYYEAR'] = df_time.ORDERDATE.dt.strftime('%Y-%m')\n",
    "df_time.rename(columns={\"ORDERDATE\": \"FULLDATE\", 'YEAR_ID': 'YEAR', 'QTR_ID': 'QUARTER', 'MONTH_ID': 'MONTH'}, inplace=True)\n",
    "df_time.head()"
   ],
   "metadata": {
    "collapsed": false
   }
  },
  {
   "cell_type": "code",
   "execution_count": 8,
   "outputs": [
    {
     "data": {
      "text/plain": "     DATEID  YEAR  SEMESTER  QUARTER MONTHNAME  MONTH MONTHNUMBERBYYEAR  \\\n0  20030224  2003         1        1  February      2           2003-02   \n1  20030507  2003         1        2       May      5           2003-05   \n2  20030701  2003         2        3      July      7           2003-07   \n3  20030825  2003         2        3    August      8           2003-08   \n4  20031010  2003         2        4   October     10           2003-10   \n\n   WEEKNUMBER    DAYNAME  DAY  IS_WEEKDAY   FULLDATE  \n0           9     Monday   24           0 2003-02-24  \n1          19  Wednesday    7           1 2003-05-07  \n2          27    Tuesday    1           1 2003-07-01  \n3          35     Monday   25           0 2003-08-25  \n4          41     Friday   10           1 2003-10-10  ",
      "text/html": "<div>\n<style scoped>\n    .dataframe tbody tr th:only-of-type {\n        vertical-align: middle;\n    }\n\n    .dataframe tbody tr th {\n        vertical-align: top;\n    }\n\n    .dataframe thead th {\n        text-align: right;\n    }\n</style>\n<table border=\"1\" class=\"dataframe\">\n  <thead>\n    <tr style=\"text-align: right;\">\n      <th></th>\n      <th>DATEID</th>\n      <th>YEAR</th>\n      <th>SEMESTER</th>\n      <th>QUARTER</th>\n      <th>MONTHNAME</th>\n      <th>MONTH</th>\n      <th>MONTHNUMBERBYYEAR</th>\n      <th>WEEKNUMBER</th>\n      <th>DAYNAME</th>\n      <th>DAY</th>\n      <th>IS_WEEKDAY</th>\n      <th>FULLDATE</th>\n    </tr>\n  </thead>\n  <tbody>\n    <tr>\n      <th>0</th>\n      <td>20030224</td>\n      <td>2003</td>\n      <td>1</td>\n      <td>1</td>\n      <td>February</td>\n      <td>2</td>\n      <td>2003-02</td>\n      <td>9</td>\n      <td>Monday</td>\n      <td>24</td>\n      <td>0</td>\n      <td>2003-02-24</td>\n    </tr>\n    <tr>\n      <th>1</th>\n      <td>20030507</td>\n      <td>2003</td>\n      <td>1</td>\n      <td>2</td>\n      <td>May</td>\n      <td>5</td>\n      <td>2003-05</td>\n      <td>19</td>\n      <td>Wednesday</td>\n      <td>7</td>\n      <td>1</td>\n      <td>2003-05-07</td>\n    </tr>\n    <tr>\n      <th>2</th>\n      <td>20030701</td>\n      <td>2003</td>\n      <td>2</td>\n      <td>3</td>\n      <td>July</td>\n      <td>7</td>\n      <td>2003-07</td>\n      <td>27</td>\n      <td>Tuesday</td>\n      <td>1</td>\n      <td>1</td>\n      <td>2003-07-01</td>\n    </tr>\n    <tr>\n      <th>3</th>\n      <td>20030825</td>\n      <td>2003</td>\n      <td>2</td>\n      <td>3</td>\n      <td>August</td>\n      <td>8</td>\n      <td>2003-08</td>\n      <td>35</td>\n      <td>Monday</td>\n      <td>25</td>\n      <td>0</td>\n      <td>2003-08-25</td>\n    </tr>\n    <tr>\n      <th>4</th>\n      <td>20031010</td>\n      <td>2003</td>\n      <td>2</td>\n      <td>4</td>\n      <td>October</td>\n      <td>10</td>\n      <td>2003-10</td>\n      <td>41</td>\n      <td>Friday</td>\n      <td>10</td>\n      <td>1</td>\n      <td>2003-10-10</td>\n    </tr>\n  </tbody>\n</table>\n</div>"
     },
     "execution_count": 8,
     "metadata": {},
     "output_type": "execute_result"
    }
   ],
   "source": [
    "# Reorder dataframe\n",
    "cols = ['DATEID', 'YEAR', 'SEMESTER', 'QUARTER', 'MONTHNAME', 'MONTH', 'MONTHNUMBERBYYEAR', 'WEEKNUMBER', 'DAYNAME', 'DAY', 'IS_WEEKDAY', 'FULLDATE']\n",
    "df_time = df_time.reindex(columns=cols)\n",
    "df_time.head()"
   ],
   "metadata": {
    "collapsed": false
   }
  },
  {
   "cell_type": "code",
   "execution_count": 9,
   "outputs": [
    {
     "name": "stdout",
     "output_type": "stream",
     "text": [
      "Dimension Date shape: (2823, 12)\n"
     ]
    }
   ],
   "source": [
    "print(f'Dimension Date shape: {df_time.shape}')"
   ],
   "metadata": {
    "collapsed": false
   }
  },
  {
   "cell_type": "code",
   "execution_count": 10,
   "outputs": [
    {
     "name": "stdout",
     "output_type": "stream",
     "text": [
      "Dimension Date shape after dedup: (252, 12)\n"
     ]
    }
   ],
   "source": [
    "df_time.drop_duplicates(keep='first',inplace=True)\n",
    "print(f'Dimension Date shape after dedup: {df_time.shape}')"
   ],
   "metadata": {
    "collapsed": false
   }
  },
  {
   "cell_type": "code",
   "execution_count": 11,
   "outputs": [],
   "source": [
    "df_time.sort_values(by=['FULLDATE'], inplace=True)\n",
    "df_time.to_csv('output_files/dim_date.csv', index=False)"
   ],
   "metadata": {
    "collapsed": false
   }
  },
  {
   "cell_type": "markdown",
   "source": [
    "## Working dimension Location/geography"
   ],
   "metadata": {
    "collapsed": false
   }
  },
  {
   "cell_type": "code",
   "execution_count": 12,
   "outputs": [
    {
     "data": {
      "text/plain": "   ORDERNUMBER  QUANTITYORDERED  PRICEEACH  ORDERLINENUMBER    SALES  \\\n0        10107               30      95.70                2  2871.00   \n1        10121               34      81.35                5  2765.90   \n2        10134               41      94.74                2  3884.34   \n3        10145               45      83.26                6  3746.70   \n4        10159               49     100.00               14  5205.27   \n\n   ORDERDATE   STATUS  QTR_ID  MONTH_ID  YEAR_ID  ...  \\\n0 2003-02-24  Shipped       1         2     2003  ...   \n1 2003-05-07  Shipped       2         5     2003  ...   \n2 2003-07-01  Shipped       3         7     2003  ...   \n3 2003-08-25  Shipped       3         8     2003  ...   \n4 2003-10-10  Shipped       4        10     2003  ...   \n\n                    ADDRESSLINE1  ADDRESSLINE2           CITY STATE  \\\n0        897 Long Airport Avenue           NaN            NYC    NY   \n1             59 rue de l'Abbaye           NaN          Reims   NaN   \n2  27 rue du Colonel Pierre Avia           NaN          Paris   NaN   \n3             78934 Hillside Dr.           NaN       Pasadena    CA   \n4                7734 Strong St.           NaN  San Francisco    CA   \n\n  POSTALCODE COUNTRY TERRITORY CONTACTLASTNAME CONTACTFIRSTNAME DEALSIZE  \n0      10022     USA       NaN              Yu             Kwai    Small  \n1      51100  France      EMEA         Henriot             Paul    Small  \n2      75508  France      EMEA        Da Cunha           Daniel   Medium  \n3      90003     USA       NaN           Young            Julie   Medium  \n4        NaN     USA       NaN           Brown            Julie   Medium  \n\n[5 rows x 25 columns]",
      "text/html": "<div>\n<style scoped>\n    .dataframe tbody tr th:only-of-type {\n        vertical-align: middle;\n    }\n\n    .dataframe tbody tr th {\n        vertical-align: top;\n    }\n\n    .dataframe thead th {\n        text-align: right;\n    }\n</style>\n<table border=\"1\" class=\"dataframe\">\n  <thead>\n    <tr style=\"text-align: right;\">\n      <th></th>\n      <th>ORDERNUMBER</th>\n      <th>QUANTITYORDERED</th>\n      <th>PRICEEACH</th>\n      <th>ORDERLINENUMBER</th>\n      <th>SALES</th>\n      <th>ORDERDATE</th>\n      <th>STATUS</th>\n      <th>QTR_ID</th>\n      <th>MONTH_ID</th>\n      <th>YEAR_ID</th>\n      <th>...</th>\n      <th>ADDRESSLINE1</th>\n      <th>ADDRESSLINE2</th>\n      <th>CITY</th>\n      <th>STATE</th>\n      <th>POSTALCODE</th>\n      <th>COUNTRY</th>\n      <th>TERRITORY</th>\n      <th>CONTACTLASTNAME</th>\n      <th>CONTACTFIRSTNAME</th>\n      <th>DEALSIZE</th>\n    </tr>\n  </thead>\n  <tbody>\n    <tr>\n      <th>0</th>\n      <td>10107</td>\n      <td>30</td>\n      <td>95.70</td>\n      <td>2</td>\n      <td>2871.00</td>\n      <td>2003-02-24</td>\n      <td>Shipped</td>\n      <td>1</td>\n      <td>2</td>\n      <td>2003</td>\n      <td>...</td>\n      <td>897 Long Airport Avenue</td>\n      <td>NaN</td>\n      <td>NYC</td>\n      <td>NY</td>\n      <td>10022</td>\n      <td>USA</td>\n      <td>NaN</td>\n      <td>Yu</td>\n      <td>Kwai</td>\n      <td>Small</td>\n    </tr>\n    <tr>\n      <th>1</th>\n      <td>10121</td>\n      <td>34</td>\n      <td>81.35</td>\n      <td>5</td>\n      <td>2765.90</td>\n      <td>2003-05-07</td>\n      <td>Shipped</td>\n      <td>2</td>\n      <td>5</td>\n      <td>2003</td>\n      <td>...</td>\n      <td>59 rue de l'Abbaye</td>\n      <td>NaN</td>\n      <td>Reims</td>\n      <td>NaN</td>\n      <td>51100</td>\n      <td>France</td>\n      <td>EMEA</td>\n      <td>Henriot</td>\n      <td>Paul</td>\n      <td>Small</td>\n    </tr>\n    <tr>\n      <th>2</th>\n      <td>10134</td>\n      <td>41</td>\n      <td>94.74</td>\n      <td>2</td>\n      <td>3884.34</td>\n      <td>2003-07-01</td>\n      <td>Shipped</td>\n      <td>3</td>\n      <td>7</td>\n      <td>2003</td>\n      <td>...</td>\n      <td>27 rue du Colonel Pierre Avia</td>\n      <td>NaN</td>\n      <td>Paris</td>\n      <td>NaN</td>\n      <td>75508</td>\n      <td>France</td>\n      <td>EMEA</td>\n      <td>Da Cunha</td>\n      <td>Daniel</td>\n      <td>Medium</td>\n    </tr>\n    <tr>\n      <th>3</th>\n      <td>10145</td>\n      <td>45</td>\n      <td>83.26</td>\n      <td>6</td>\n      <td>3746.70</td>\n      <td>2003-08-25</td>\n      <td>Shipped</td>\n      <td>3</td>\n      <td>8</td>\n      <td>2003</td>\n      <td>...</td>\n      <td>78934 Hillside Dr.</td>\n      <td>NaN</td>\n      <td>Pasadena</td>\n      <td>CA</td>\n      <td>90003</td>\n      <td>USA</td>\n      <td>NaN</td>\n      <td>Young</td>\n      <td>Julie</td>\n      <td>Medium</td>\n    </tr>\n    <tr>\n      <th>4</th>\n      <td>10159</td>\n      <td>49</td>\n      <td>100.00</td>\n      <td>14</td>\n      <td>5205.27</td>\n      <td>2003-10-10</td>\n      <td>Shipped</td>\n      <td>4</td>\n      <td>10</td>\n      <td>2003</td>\n      <td>...</td>\n      <td>7734 Strong St.</td>\n      <td>NaN</td>\n      <td>San Francisco</td>\n      <td>CA</td>\n      <td>NaN</td>\n      <td>USA</td>\n      <td>NaN</td>\n      <td>Brown</td>\n      <td>Julie</td>\n      <td>Medium</td>\n    </tr>\n  </tbody>\n</table>\n<p>5 rows × 25 columns</p>\n</div>"
     },
     "execution_count": 12,
     "metadata": {},
     "output_type": "execute_result"
    }
   ],
   "source": [
    "df.head()"
   ],
   "metadata": {
    "collapsed": false
   }
  },
  {
   "cell_type": "code",
   "execution_count": 13,
   "outputs": [
    {
     "data": {
      "text/plain": "            CITY STATE COUNTRY TERRITORY\n0            NYC    NY     USA       NaN\n1          Reims   NaN  France      EMEA\n2          Paris   NaN  France      EMEA\n3       Pasadena    CA     USA       NaN\n4  San Francisco    CA     USA       NaN",
      "text/html": "<div>\n<style scoped>\n    .dataframe tbody tr th:only-of-type {\n        vertical-align: middle;\n    }\n\n    .dataframe tbody tr th {\n        vertical-align: top;\n    }\n\n    .dataframe thead th {\n        text-align: right;\n    }\n</style>\n<table border=\"1\" class=\"dataframe\">\n  <thead>\n    <tr style=\"text-align: right;\">\n      <th></th>\n      <th>CITY</th>\n      <th>STATE</th>\n      <th>COUNTRY</th>\n      <th>TERRITORY</th>\n    </tr>\n  </thead>\n  <tbody>\n    <tr>\n      <th>0</th>\n      <td>NYC</td>\n      <td>NY</td>\n      <td>USA</td>\n      <td>NaN</td>\n    </tr>\n    <tr>\n      <th>1</th>\n      <td>Reims</td>\n      <td>NaN</td>\n      <td>France</td>\n      <td>EMEA</td>\n    </tr>\n    <tr>\n      <th>2</th>\n      <td>Paris</td>\n      <td>NaN</td>\n      <td>France</td>\n      <td>EMEA</td>\n    </tr>\n    <tr>\n      <th>3</th>\n      <td>Pasadena</td>\n      <td>CA</td>\n      <td>USA</td>\n      <td>NaN</td>\n    </tr>\n    <tr>\n      <th>4</th>\n      <td>San Francisco</td>\n      <td>CA</td>\n      <td>USA</td>\n      <td>NaN</td>\n    </tr>\n  </tbody>\n</table>\n</div>"
     },
     "execution_count": 13,
     "metadata": {},
     "output_type": "execute_result"
    }
   ],
   "source": [
    "df_geo = df[['CITY', 'STATE', 'COUNTRY', 'TERRITORY']].copy(deep=True)\n",
    "df_geo.head()"
   ],
   "metadata": {
    "collapsed": false
   }
  },
  {
   "cell_type": "code",
   "execution_count": 14,
   "outputs": [
    {
     "name": "stdout",
     "output_type": "stream",
     "text": [
      "Dimension Location shape: (2823, 4)\n"
     ]
    }
   ],
   "source": [
    "print(f'Dimension Location shape: {df_geo.shape}')"
   ],
   "metadata": {
    "collapsed": false
   }
  },
  {
   "cell_type": "code",
   "execution_count": 15,
   "outputs": [
    {
     "name": "stdout",
     "output_type": "stream",
     "text": [
      "Dimension Location shape after dedup: (75, 4)\n"
     ]
    }
   ],
   "source": [
    "df_geo.drop_duplicates(keep='first',inplace=True)\n",
    "print(f'Dimension Location shape after dedup: {df_geo.shape}')\n",
    "df_geo.to_csv('output_files/dim_location.csv', index=False)"
   ],
   "metadata": {
    "collapsed": false
   }
  },
  {
   "cell_type": "markdown",
   "source": [
    "## Working dimension Products"
   ],
   "metadata": {
    "collapsed": false
   }
  },
  {
   "cell_type": "code",
   "execution_count": 16,
   "outputs": [
    {
     "data": {
      "text/plain": "  PRODUCTCODE  PRODUCTLINE  MSRP\n0    S10_1678  Motorcycles    95\n1    S10_1678  Motorcycles    95\n2    S10_1678  Motorcycles    95\n3    S10_1678  Motorcycles    95\n4    S10_1678  Motorcycles    95",
      "text/html": "<div>\n<style scoped>\n    .dataframe tbody tr th:only-of-type {\n        vertical-align: middle;\n    }\n\n    .dataframe tbody tr th {\n        vertical-align: top;\n    }\n\n    .dataframe thead th {\n        text-align: right;\n    }\n</style>\n<table border=\"1\" class=\"dataframe\">\n  <thead>\n    <tr style=\"text-align: right;\">\n      <th></th>\n      <th>PRODUCTCODE</th>\n      <th>PRODUCTLINE</th>\n      <th>MSRP</th>\n    </tr>\n  </thead>\n  <tbody>\n    <tr>\n      <th>0</th>\n      <td>S10_1678</td>\n      <td>Motorcycles</td>\n      <td>95</td>\n    </tr>\n    <tr>\n      <th>1</th>\n      <td>S10_1678</td>\n      <td>Motorcycles</td>\n      <td>95</td>\n    </tr>\n    <tr>\n      <th>2</th>\n      <td>S10_1678</td>\n      <td>Motorcycles</td>\n      <td>95</td>\n    </tr>\n    <tr>\n      <th>3</th>\n      <td>S10_1678</td>\n      <td>Motorcycles</td>\n      <td>95</td>\n    </tr>\n    <tr>\n      <th>4</th>\n      <td>S10_1678</td>\n      <td>Motorcycles</td>\n      <td>95</td>\n    </tr>\n  </tbody>\n</table>\n</div>"
     },
     "execution_count": 16,
     "metadata": {},
     "output_type": "execute_result"
    }
   ],
   "source": [
    "df_prod = df[['PRODUCTCODE', 'PRODUCTLINE', 'MSRP']].copy(deep=True)\n",
    "df_prod.head()"
   ],
   "metadata": {
    "collapsed": false
   }
  },
  {
   "cell_type": "code",
   "execution_count": 17,
   "outputs": [
    {
     "name": "stdout",
     "output_type": "stream",
     "text": [
      "Dimension Product shape: (2823, 3)\n"
     ]
    }
   ],
   "source": [
    "print(f'Dimension Product shape: {df_prod.shape}')"
   ],
   "metadata": {
    "collapsed": false
   }
  },
  {
   "cell_type": "code",
   "execution_count": 18,
   "outputs": [],
   "source": [
    "df_prod.drop_duplicates(keep='first',inplace=True)\n",
    "df_prod.reset_index(drop=True, inplace=True)\n",
    "df_prod.index += 1"
   ],
   "metadata": {
    "collapsed": false
   }
  },
  {
   "cell_type": "code",
   "execution_count": 19,
   "outputs": [],
   "source": [
    "df_prod.reset_index(inplace=True)"
   ],
   "metadata": {
    "collapsed": false
   }
  },
  {
   "cell_type": "code",
   "execution_count": 20,
   "outputs": [
    {
     "data": {
      "text/plain": "   index PRODUCTCODE   PRODUCTLINE  MSRP\n0      1    S10_1678   Motorcycles    95\n1      2    S10_1949  Classic Cars   214\n2      3    S10_2016   Motorcycles   118\n3      4    S10_4698   Motorcycles   193\n4      5    S10_4757  Classic Cars   136",
      "text/html": "<div>\n<style scoped>\n    .dataframe tbody tr th:only-of-type {\n        vertical-align: middle;\n    }\n\n    .dataframe tbody tr th {\n        vertical-align: top;\n    }\n\n    .dataframe thead th {\n        text-align: right;\n    }\n</style>\n<table border=\"1\" class=\"dataframe\">\n  <thead>\n    <tr style=\"text-align: right;\">\n      <th></th>\n      <th>index</th>\n      <th>PRODUCTCODE</th>\n      <th>PRODUCTLINE</th>\n      <th>MSRP</th>\n    </tr>\n  </thead>\n  <tbody>\n    <tr>\n      <th>0</th>\n      <td>1</td>\n      <td>S10_1678</td>\n      <td>Motorcycles</td>\n      <td>95</td>\n    </tr>\n    <tr>\n      <th>1</th>\n      <td>2</td>\n      <td>S10_1949</td>\n      <td>Classic Cars</td>\n      <td>214</td>\n    </tr>\n    <tr>\n      <th>2</th>\n      <td>3</td>\n      <td>S10_2016</td>\n      <td>Motorcycles</td>\n      <td>118</td>\n    </tr>\n    <tr>\n      <th>3</th>\n      <td>4</td>\n      <td>S10_4698</td>\n      <td>Motorcycles</td>\n      <td>193</td>\n    </tr>\n    <tr>\n      <th>4</th>\n      <td>5</td>\n      <td>S10_4757</td>\n      <td>Classic Cars</td>\n      <td>136</td>\n    </tr>\n  </tbody>\n</table>\n</div>"
     },
     "execution_count": 20,
     "metadata": {},
     "output_type": "execute_result"
    }
   ],
   "source": [
    "df_prod.head()"
   ],
   "metadata": {
    "collapsed": false
   }
  },
  {
   "cell_type": "code",
   "execution_count": 21,
   "outputs": [
    {
     "name": "stdout",
     "output_type": "stream",
     "text": [
      "Dimension Product shape after dedup: (109, 4)\n"
     ]
    }
   ],
   "source": [
    "df_prod.columns = ['PRODUCTID', 'PRODUCTCODE', 'PRODUCTLINE', 'MSRP']\n",
    "print(f'Dimension Product shape after dedup: {df_prod.shape}')\n",
    "df_prod.to_csv('output_files/dim_product.csv', index=False)"
   ],
   "metadata": {
    "collapsed": false
   }
  },
  {
   "cell_type": "markdown",
   "source": [
    "## Working dimension Customer"
   ],
   "metadata": {
    "collapsed": false
   }
  },
  {
   "cell_type": "code",
   "execution_count": 67,
   "outputs": [
    {
     "data": {
      "text/plain": "   ORDERNUMBER  QUANTITYORDERED  PRICEEACH  ORDERLINENUMBER    SALES  \\\n0        10107               30      95.70                2  2871.00   \n1        10121               34      81.35                5  2765.90   \n2        10134               41      94.74                2  3884.34   \n3        10145               45      83.26                6  3746.70   \n4        10159               49     100.00               14  5205.27   \n\n   ORDERDATE   STATUS  QTR_ID  MONTH_ID  YEAR_ID  ...  \\\n0 2003-02-24  Shipped       1         2     2003  ...   \n1 2003-05-07  Shipped       2         5     2003  ...   \n2 2003-07-01  Shipped       3         7     2003  ...   \n3 2003-08-25  Shipped       3         8     2003  ...   \n4 2003-10-10  Shipped       4        10     2003  ...   \n\n                    ADDRESSLINE1  ADDRESSLINE2           CITY STATE  \\\n0        897 Long Airport Avenue           NaN            NYC    NY   \n1             59 rue de l'Abbaye           NaN          Reims   NaN   \n2  27 rue du Colonel Pierre Avia           NaN          Paris   NaN   \n3             78934 Hillside Dr.           NaN       Pasadena    CA   \n4                7734 Strong St.           NaN  San Francisco    CA   \n\n  POSTALCODE COUNTRY TERRITORY CONTACTLASTNAME CONTACTFIRSTNAME DEALSIZE  \n0      10022     USA       NaN              Yu             Kwai    Small  \n1      51100  France      EMEA         Henriot             Paul    Small  \n2      75508  France      EMEA        Da Cunha           Daniel   Medium  \n3      90003     USA       NaN           Young            Julie   Medium  \n4        NaN     USA       NaN           Brown            Julie   Medium  \n\n[5 rows x 25 columns]",
      "text/html": "<div>\n<style scoped>\n    .dataframe tbody tr th:only-of-type {\n        vertical-align: middle;\n    }\n\n    .dataframe tbody tr th {\n        vertical-align: top;\n    }\n\n    .dataframe thead th {\n        text-align: right;\n    }\n</style>\n<table border=\"1\" class=\"dataframe\">\n  <thead>\n    <tr style=\"text-align: right;\">\n      <th></th>\n      <th>ORDERNUMBER</th>\n      <th>QUANTITYORDERED</th>\n      <th>PRICEEACH</th>\n      <th>ORDERLINENUMBER</th>\n      <th>SALES</th>\n      <th>ORDERDATE</th>\n      <th>STATUS</th>\n      <th>QTR_ID</th>\n      <th>MONTH_ID</th>\n      <th>YEAR_ID</th>\n      <th>...</th>\n      <th>ADDRESSLINE1</th>\n      <th>ADDRESSLINE2</th>\n      <th>CITY</th>\n      <th>STATE</th>\n      <th>POSTALCODE</th>\n      <th>COUNTRY</th>\n      <th>TERRITORY</th>\n      <th>CONTACTLASTNAME</th>\n      <th>CONTACTFIRSTNAME</th>\n      <th>DEALSIZE</th>\n    </tr>\n  </thead>\n  <tbody>\n    <tr>\n      <th>0</th>\n      <td>10107</td>\n      <td>30</td>\n      <td>95.70</td>\n      <td>2</td>\n      <td>2871.00</td>\n      <td>2003-02-24</td>\n      <td>Shipped</td>\n      <td>1</td>\n      <td>2</td>\n      <td>2003</td>\n      <td>...</td>\n      <td>897 Long Airport Avenue</td>\n      <td>NaN</td>\n      <td>NYC</td>\n      <td>NY</td>\n      <td>10022</td>\n      <td>USA</td>\n      <td>NaN</td>\n      <td>Yu</td>\n      <td>Kwai</td>\n      <td>Small</td>\n    </tr>\n    <tr>\n      <th>1</th>\n      <td>10121</td>\n      <td>34</td>\n      <td>81.35</td>\n      <td>5</td>\n      <td>2765.90</td>\n      <td>2003-05-07</td>\n      <td>Shipped</td>\n      <td>2</td>\n      <td>5</td>\n      <td>2003</td>\n      <td>...</td>\n      <td>59 rue de l'Abbaye</td>\n      <td>NaN</td>\n      <td>Reims</td>\n      <td>NaN</td>\n      <td>51100</td>\n      <td>France</td>\n      <td>EMEA</td>\n      <td>Henriot</td>\n      <td>Paul</td>\n      <td>Small</td>\n    </tr>\n    <tr>\n      <th>2</th>\n      <td>10134</td>\n      <td>41</td>\n      <td>94.74</td>\n      <td>2</td>\n      <td>3884.34</td>\n      <td>2003-07-01</td>\n      <td>Shipped</td>\n      <td>3</td>\n      <td>7</td>\n      <td>2003</td>\n      <td>...</td>\n      <td>27 rue du Colonel Pierre Avia</td>\n      <td>NaN</td>\n      <td>Paris</td>\n      <td>NaN</td>\n      <td>75508</td>\n      <td>France</td>\n      <td>EMEA</td>\n      <td>Da Cunha</td>\n      <td>Daniel</td>\n      <td>Medium</td>\n    </tr>\n    <tr>\n      <th>3</th>\n      <td>10145</td>\n      <td>45</td>\n      <td>83.26</td>\n      <td>6</td>\n      <td>3746.70</td>\n      <td>2003-08-25</td>\n      <td>Shipped</td>\n      <td>3</td>\n      <td>8</td>\n      <td>2003</td>\n      <td>...</td>\n      <td>78934 Hillside Dr.</td>\n      <td>NaN</td>\n      <td>Pasadena</td>\n      <td>CA</td>\n      <td>90003</td>\n      <td>USA</td>\n      <td>NaN</td>\n      <td>Young</td>\n      <td>Julie</td>\n      <td>Medium</td>\n    </tr>\n    <tr>\n      <th>4</th>\n      <td>10159</td>\n      <td>49</td>\n      <td>100.00</td>\n      <td>14</td>\n      <td>5205.27</td>\n      <td>2003-10-10</td>\n      <td>Shipped</td>\n      <td>4</td>\n      <td>10</td>\n      <td>2003</td>\n      <td>...</td>\n      <td>7734 Strong St.</td>\n      <td>NaN</td>\n      <td>San Francisco</td>\n      <td>CA</td>\n      <td>NaN</td>\n      <td>USA</td>\n      <td>NaN</td>\n      <td>Brown</td>\n      <td>Julie</td>\n      <td>Medium</td>\n    </tr>\n  </tbody>\n</table>\n<p>5 rows × 25 columns</p>\n</div>"
     },
     "execution_count": 67,
     "metadata": {},
     "output_type": "execute_result"
    }
   ],
   "source": [
    "df.head()"
   ],
   "metadata": {
    "collapsed": false
   }
  },
  {
   "cell_type": "code",
   "execution_count": 68,
   "outputs": [
    {
     "data": {
      "text/plain": "               CUSTOMERNAME             PHONE CONTACTFIRSTNAME  \\\n0         Land of Toys Inc.        2125557818             Kwai   \n1        Reims Collectables        26.47.1555             Paul   \n2           Lyon Souveniers  +33 1 46 62 7555           Daniel   \n3         Toys4GrownUps.com        6265557265            Julie   \n4  Corporate Gift Ideas Co.        6505551386            Julie   \n\n  CONTACTLASTNAME                   ADDRESSLINE1 ADDRESSLINE2           CITY  \\\n0              Yu        897 Long Airport Avenue          NaN            NYC   \n1         Henriot             59 rue de l'Abbaye          NaN          Reims   \n2        Da Cunha  27 rue du Colonel Pierre Avia          NaN          Paris   \n3           Young             78934 Hillside Dr.          NaN       Pasadena   \n4           Brown                7734 Strong St.          NaN  San Francisco   \n\n  STATE POSTALCODE COUNTRY TERRITORY  \n0    NY      10022     USA       NaN  \n1   NaN      51100  France      EMEA  \n2   NaN      75508  France      EMEA  \n3    CA      90003     USA       NaN  \n4    CA        NaN     USA       NaN  ",
      "text/html": "<div>\n<style scoped>\n    .dataframe tbody tr th:only-of-type {\n        vertical-align: middle;\n    }\n\n    .dataframe tbody tr th {\n        vertical-align: top;\n    }\n\n    .dataframe thead th {\n        text-align: right;\n    }\n</style>\n<table border=\"1\" class=\"dataframe\">\n  <thead>\n    <tr style=\"text-align: right;\">\n      <th></th>\n      <th>CUSTOMERNAME</th>\n      <th>PHONE</th>\n      <th>CONTACTFIRSTNAME</th>\n      <th>CONTACTLASTNAME</th>\n      <th>ADDRESSLINE1</th>\n      <th>ADDRESSLINE2</th>\n      <th>CITY</th>\n      <th>STATE</th>\n      <th>POSTALCODE</th>\n      <th>COUNTRY</th>\n      <th>TERRITORY</th>\n    </tr>\n  </thead>\n  <tbody>\n    <tr>\n      <th>0</th>\n      <td>Land of Toys Inc.</td>\n      <td>2125557818</td>\n      <td>Kwai</td>\n      <td>Yu</td>\n      <td>897 Long Airport Avenue</td>\n      <td>NaN</td>\n      <td>NYC</td>\n      <td>NY</td>\n      <td>10022</td>\n      <td>USA</td>\n      <td>NaN</td>\n    </tr>\n    <tr>\n      <th>1</th>\n      <td>Reims Collectables</td>\n      <td>26.47.1555</td>\n      <td>Paul</td>\n      <td>Henriot</td>\n      <td>59 rue de l'Abbaye</td>\n      <td>NaN</td>\n      <td>Reims</td>\n      <td>NaN</td>\n      <td>51100</td>\n      <td>France</td>\n      <td>EMEA</td>\n    </tr>\n    <tr>\n      <th>2</th>\n      <td>Lyon Souveniers</td>\n      <td>+33 1 46 62 7555</td>\n      <td>Daniel</td>\n      <td>Da Cunha</td>\n      <td>27 rue du Colonel Pierre Avia</td>\n      <td>NaN</td>\n      <td>Paris</td>\n      <td>NaN</td>\n      <td>75508</td>\n      <td>France</td>\n      <td>EMEA</td>\n    </tr>\n    <tr>\n      <th>3</th>\n      <td>Toys4GrownUps.com</td>\n      <td>6265557265</td>\n      <td>Julie</td>\n      <td>Young</td>\n      <td>78934 Hillside Dr.</td>\n      <td>NaN</td>\n      <td>Pasadena</td>\n      <td>CA</td>\n      <td>90003</td>\n      <td>USA</td>\n      <td>NaN</td>\n    </tr>\n    <tr>\n      <th>4</th>\n      <td>Corporate Gift Ideas Co.</td>\n      <td>6505551386</td>\n      <td>Julie</td>\n      <td>Brown</td>\n      <td>7734 Strong St.</td>\n      <td>NaN</td>\n      <td>San Francisco</td>\n      <td>CA</td>\n      <td>NaN</td>\n      <td>USA</td>\n      <td>NaN</td>\n    </tr>\n  </tbody>\n</table>\n</div>"
     },
     "execution_count": 68,
     "metadata": {},
     "output_type": "execute_result"
    }
   ],
   "source": [
    "df_customer = df[['CUSTOMERNAME', 'PHONE', 'CONTACTFIRSTNAME', 'CONTACTLASTNAME', 'ADDRESSLINE1', 'ADDRESSLINE2', 'CITY', 'STATE', 'POSTALCODE', 'COUNTRY', 'TERRITORY', ]].copy(deep=True)\n",
    "df_customer.head()"
   ],
   "metadata": {
    "collapsed": false
   }
  },
  {
   "cell_type": "code",
   "execution_count": 69,
   "outputs": [
    {
     "name": "stdout",
     "output_type": "stream",
     "text": [
      "Dimension Customer shape: (2823, 11)\n"
     ]
    }
   ],
   "source": [
    "print(f'Dimension Customer shape: {df_customer.shape}')"
   ],
   "metadata": {
    "collapsed": false
   }
  },
  {
   "cell_type": "code",
   "execution_count": 74,
   "outputs": [],
   "source": [
    "df_customer.drop_duplicates(keep='first',inplace=True)\n",
    "df_customer.reset_index(drop=True, inplace=True)\n",
    "df_customer.index += 1"
   ],
   "metadata": {
    "collapsed": false
   }
  },
  {
   "cell_type": "code",
   "execution_count": 75,
   "outputs": [],
   "source": [
    "df_customer.reset_index(inplace=True)\n",
    "# df_customer['LOCATIONID'] = df_customer['index']"
   ],
   "metadata": {
    "collapsed": false
   }
  },
  {
   "cell_type": "code",
   "execution_count": 76,
   "outputs": [
    {
     "data": {
      "text/plain": "Index(['index', 'CUSTOMERNAME', 'PHONE', 'CONTACTFIRSTNAME', 'CONTACTLASTNAME',\n       'ADDRESSLINE1', 'ADDRESSLINE2', 'CITY', 'STATE', 'POSTALCODE',\n       'COUNTRY', 'TERRITORY'],\n      dtype='object')"
     },
     "execution_count": 76,
     "metadata": {},
     "output_type": "execute_result"
    }
   ],
   "source": [
    "df_customer.columns"
   ],
   "metadata": {
    "collapsed": false
   }
  },
  {
   "cell_type": "code",
   "execution_count": 77,
   "outputs": [
    {
     "data": {
      "text/plain": "   CUSTOMERID              CUSTOMERNAME             PHONE CONTACTFIRSTNAME  \\\n0           1         Land of Toys Inc.        2125557818             Kwai   \n1           2        Reims Collectables        26.47.1555             Paul   \n2           3           Lyon Souveniers  +33 1 46 62 7555           Daniel   \n3           4         Toys4GrownUps.com        6265557265            Julie   \n4           5  Corporate Gift Ideas Co.        6505551386            Julie   \n\n  CONTACTLASTNAME                   ADDRESSLINE1 ADDRESSLINE2           CITY  \\\n0              Yu        897 Long Airport Avenue          NaN            NYC   \n1         Henriot             59 rue de l'Abbaye          NaN          Reims   \n2        Da Cunha  27 rue du Colonel Pierre Avia          NaN          Paris   \n3           Young             78934 Hillside Dr.          NaN       Pasadena   \n4           Brown                7734 Strong St.          NaN  San Francisco   \n\n  STATE POSTALCODE COUNTRY TERRITORY  \n0    NY      10022     USA       NaN  \n1   NaN      51100  France      EMEA  \n2   NaN      75508  France      EMEA  \n3    CA      90003     USA       NaN  \n4    CA        NaN     USA       NaN  ",
      "text/html": "<div>\n<style scoped>\n    .dataframe tbody tr th:only-of-type {\n        vertical-align: middle;\n    }\n\n    .dataframe tbody tr th {\n        vertical-align: top;\n    }\n\n    .dataframe thead th {\n        text-align: right;\n    }\n</style>\n<table border=\"1\" class=\"dataframe\">\n  <thead>\n    <tr style=\"text-align: right;\">\n      <th></th>\n      <th>CUSTOMERID</th>\n      <th>CUSTOMERNAME</th>\n      <th>PHONE</th>\n      <th>CONTACTFIRSTNAME</th>\n      <th>CONTACTLASTNAME</th>\n      <th>ADDRESSLINE1</th>\n      <th>ADDRESSLINE2</th>\n      <th>CITY</th>\n      <th>STATE</th>\n      <th>POSTALCODE</th>\n      <th>COUNTRY</th>\n      <th>TERRITORY</th>\n    </tr>\n  </thead>\n  <tbody>\n    <tr>\n      <th>0</th>\n      <td>1</td>\n      <td>Land of Toys Inc.</td>\n      <td>2125557818</td>\n      <td>Kwai</td>\n      <td>Yu</td>\n      <td>897 Long Airport Avenue</td>\n      <td>NaN</td>\n      <td>NYC</td>\n      <td>NY</td>\n      <td>10022</td>\n      <td>USA</td>\n      <td>NaN</td>\n    </tr>\n    <tr>\n      <th>1</th>\n      <td>2</td>\n      <td>Reims Collectables</td>\n      <td>26.47.1555</td>\n      <td>Paul</td>\n      <td>Henriot</td>\n      <td>59 rue de l'Abbaye</td>\n      <td>NaN</td>\n      <td>Reims</td>\n      <td>NaN</td>\n      <td>51100</td>\n      <td>France</td>\n      <td>EMEA</td>\n    </tr>\n    <tr>\n      <th>2</th>\n      <td>3</td>\n      <td>Lyon Souveniers</td>\n      <td>+33 1 46 62 7555</td>\n      <td>Daniel</td>\n      <td>Da Cunha</td>\n      <td>27 rue du Colonel Pierre Avia</td>\n      <td>NaN</td>\n      <td>Paris</td>\n      <td>NaN</td>\n      <td>75508</td>\n      <td>France</td>\n      <td>EMEA</td>\n    </tr>\n    <tr>\n      <th>3</th>\n      <td>4</td>\n      <td>Toys4GrownUps.com</td>\n      <td>6265557265</td>\n      <td>Julie</td>\n      <td>Young</td>\n      <td>78934 Hillside Dr.</td>\n      <td>NaN</td>\n      <td>Pasadena</td>\n      <td>CA</td>\n      <td>90003</td>\n      <td>USA</td>\n      <td>NaN</td>\n    </tr>\n    <tr>\n      <th>4</th>\n      <td>5</td>\n      <td>Corporate Gift Ideas Co.</td>\n      <td>6505551386</td>\n      <td>Julie</td>\n      <td>Brown</td>\n      <td>7734 Strong St.</td>\n      <td>NaN</td>\n      <td>San Francisco</td>\n      <td>CA</td>\n      <td>NaN</td>\n      <td>USA</td>\n      <td>NaN</td>\n    </tr>\n  </tbody>\n</table>\n</div>"
     },
     "execution_count": 77,
     "metadata": {},
     "output_type": "execute_result"
    }
   ],
   "source": [
    "df_customer = df_customer[['index', 'CUSTOMERNAME', 'PHONE', 'CONTACTFIRSTNAME', 'CONTACTLASTNAME',\n",
    "                           'ADDRESSLINE1', 'ADDRESSLINE2', 'CITY', 'STATE', 'POSTALCODE',\n",
    "                           'COUNTRY', 'TERRITORY']]\n",
    "df_customer.rename(columns={'index': 'CUSTOMERID'}, inplace=True)\n",
    "df_customer.head()"
   ],
   "metadata": {
    "collapsed": false
   }
  },
  {
   "cell_type": "code",
   "execution_count": 78,
   "outputs": [
    {
     "name": "stdout",
     "output_type": "stream",
     "text": [
      "Dimension Customer shape after dedup: (92, 12)\n"
     ]
    }
   ],
   "source": [
    "df_customer.drop_duplicates(keep='first',inplace=True)\n",
    "print(f'Dimension Customer shape after dedup: {df_customer.shape}')\n",
    "df_customer.to_csv('output_files/dim_customer.csv', index=False)"
   ],
   "metadata": {
    "collapsed": false
   }
  },
  {
   "cell_type": "markdown",
   "source": [
    "## Work in factorderlines"
   ],
   "metadata": {
    "collapsed": false
   }
  },
  {
   "cell_type": "code",
   "execution_count": 48,
   "outputs": [
    {
     "data": {
      "text/plain": "   ORDERNUMBER  QUANTITYORDERED  PRICEEACH  ORDERLINENUMBER    SALES  \\\n0        10107               30      95.70                2  2871.00   \n1        10121               34      81.35                5  2765.90   \n2        10134               41      94.74                2  3884.34   \n3        10145               45      83.26                6  3746.70   \n4        10159               49     100.00               14  5205.27   \n\n   ORDERDATE   STATUS  QTR_ID  MONTH_ID  YEAR_ID  ...  \\\n0 2003-02-24  Shipped       1         2     2003  ...   \n1 2003-05-07  Shipped       2         5     2003  ...   \n2 2003-07-01  Shipped       3         7     2003  ...   \n3 2003-08-25  Shipped       3         8     2003  ...   \n4 2003-10-10  Shipped       4        10     2003  ...   \n\n                    ADDRESSLINE1  ADDRESSLINE2           CITY STATE  \\\n0        897 Long Airport Avenue           NaN            NYC    NY   \n1             59 rue de l'Abbaye           NaN          Reims   NaN   \n2  27 rue du Colonel Pierre Avia           NaN          Paris   NaN   \n3             78934 Hillside Dr.           NaN       Pasadena    CA   \n4                7734 Strong St.           NaN  San Francisco    CA   \n\n  POSTALCODE COUNTRY TERRITORY CONTACTLASTNAME CONTACTFIRSTNAME DEALSIZE  \n0      10022     USA       NaN              Yu             Kwai    Small  \n1      51100  France      EMEA         Henriot             Paul    Small  \n2      75508  France      EMEA        Da Cunha           Daniel   Medium  \n3      90003     USA       NaN           Young            Julie   Medium  \n4        NaN     USA       NaN           Brown            Julie   Medium  \n\n[5 rows x 25 columns]",
      "text/html": "<div>\n<style scoped>\n    .dataframe tbody tr th:only-of-type {\n        vertical-align: middle;\n    }\n\n    .dataframe tbody tr th {\n        vertical-align: top;\n    }\n\n    .dataframe thead th {\n        text-align: right;\n    }\n</style>\n<table border=\"1\" class=\"dataframe\">\n  <thead>\n    <tr style=\"text-align: right;\">\n      <th></th>\n      <th>ORDERNUMBER</th>\n      <th>QUANTITYORDERED</th>\n      <th>PRICEEACH</th>\n      <th>ORDERLINENUMBER</th>\n      <th>SALES</th>\n      <th>ORDERDATE</th>\n      <th>STATUS</th>\n      <th>QTR_ID</th>\n      <th>MONTH_ID</th>\n      <th>YEAR_ID</th>\n      <th>...</th>\n      <th>ADDRESSLINE1</th>\n      <th>ADDRESSLINE2</th>\n      <th>CITY</th>\n      <th>STATE</th>\n      <th>POSTALCODE</th>\n      <th>COUNTRY</th>\n      <th>TERRITORY</th>\n      <th>CONTACTLASTNAME</th>\n      <th>CONTACTFIRSTNAME</th>\n      <th>DEALSIZE</th>\n    </tr>\n  </thead>\n  <tbody>\n    <tr>\n      <th>0</th>\n      <td>10107</td>\n      <td>30</td>\n      <td>95.70</td>\n      <td>2</td>\n      <td>2871.00</td>\n      <td>2003-02-24</td>\n      <td>Shipped</td>\n      <td>1</td>\n      <td>2</td>\n      <td>2003</td>\n      <td>...</td>\n      <td>897 Long Airport Avenue</td>\n      <td>NaN</td>\n      <td>NYC</td>\n      <td>NY</td>\n      <td>10022</td>\n      <td>USA</td>\n      <td>NaN</td>\n      <td>Yu</td>\n      <td>Kwai</td>\n      <td>Small</td>\n    </tr>\n    <tr>\n      <th>1</th>\n      <td>10121</td>\n      <td>34</td>\n      <td>81.35</td>\n      <td>5</td>\n      <td>2765.90</td>\n      <td>2003-05-07</td>\n      <td>Shipped</td>\n      <td>2</td>\n      <td>5</td>\n      <td>2003</td>\n      <td>...</td>\n      <td>59 rue de l'Abbaye</td>\n      <td>NaN</td>\n      <td>Reims</td>\n      <td>NaN</td>\n      <td>51100</td>\n      <td>France</td>\n      <td>EMEA</td>\n      <td>Henriot</td>\n      <td>Paul</td>\n      <td>Small</td>\n    </tr>\n    <tr>\n      <th>2</th>\n      <td>10134</td>\n      <td>41</td>\n      <td>94.74</td>\n      <td>2</td>\n      <td>3884.34</td>\n      <td>2003-07-01</td>\n      <td>Shipped</td>\n      <td>3</td>\n      <td>7</td>\n      <td>2003</td>\n      <td>...</td>\n      <td>27 rue du Colonel Pierre Avia</td>\n      <td>NaN</td>\n      <td>Paris</td>\n      <td>NaN</td>\n      <td>75508</td>\n      <td>France</td>\n      <td>EMEA</td>\n      <td>Da Cunha</td>\n      <td>Daniel</td>\n      <td>Medium</td>\n    </tr>\n    <tr>\n      <th>3</th>\n      <td>10145</td>\n      <td>45</td>\n      <td>83.26</td>\n      <td>6</td>\n      <td>3746.70</td>\n      <td>2003-08-25</td>\n      <td>Shipped</td>\n      <td>3</td>\n      <td>8</td>\n      <td>2003</td>\n      <td>...</td>\n      <td>78934 Hillside Dr.</td>\n      <td>NaN</td>\n      <td>Pasadena</td>\n      <td>CA</td>\n      <td>90003</td>\n      <td>USA</td>\n      <td>NaN</td>\n      <td>Young</td>\n      <td>Julie</td>\n      <td>Medium</td>\n    </tr>\n    <tr>\n      <th>4</th>\n      <td>10159</td>\n      <td>49</td>\n      <td>100.00</td>\n      <td>14</td>\n      <td>5205.27</td>\n      <td>2003-10-10</td>\n      <td>Shipped</td>\n      <td>4</td>\n      <td>10</td>\n      <td>2003</td>\n      <td>...</td>\n      <td>7734 Strong St.</td>\n      <td>NaN</td>\n      <td>San Francisco</td>\n      <td>CA</td>\n      <td>NaN</td>\n      <td>USA</td>\n      <td>NaN</td>\n      <td>Brown</td>\n      <td>Julie</td>\n      <td>Medium</td>\n    </tr>\n  </tbody>\n</table>\n<p>5 rows × 25 columns</p>\n</div>"
     },
     "execution_count": 48,
     "metadata": {},
     "output_type": "execute_result"
    }
   ],
   "source": [
    "df.head()"
   ],
   "metadata": {
    "collapsed": false
   }
  },
  {
   "cell_type": "code",
   "execution_count": 49,
   "outputs": [
    {
     "data": {
      "text/plain": "      ORDERNUMBER  QUANTITYORDERED  PRICEEACH  ORDERLINENUMBER    SALES  \\\n3           10145               45      83.26                6  3746.70   \n57          10145               37     100.00                9  5192.95   \n83          10145               33     100.00                8  5176.38   \n243         10145               49     100.00                5  8339.80   \n784         10145               30      85.32               14  2559.60   \n807         10145               30      49.67               10  1490.10   \n1469        10145               43      95.80                7  4119.40   \n1519        10145               40      87.54               16  3501.60   \n1567        10145               47      83.03               11  3902.41   \n1671        10145               27      60.95                3  1645.65   \n2101        10145               33      84.77               15  2797.41   \n2176        10145               33      93.90               12  3098.70   \n2200        10145               31      35.80                1  1109.80   \n2330        10145               27     100.00                4  3251.34   \n2435        10145               38      81.36                2  3091.68   \n2644        10145               20     100.00               13  2752.60   \n\n      ORDERDATE   STATUS  QTR_ID  MONTH_ID  YEAR_ID  ...        ADDRESSLINE1  \\\n3    2003-08-25  Shipped       3         8     2003  ...  78934 Hillside Dr.   \n57   2003-08-25  Shipped       3         8     2003  ...  78934 Hillside Dr.   \n83   2003-08-25  Shipped       3         8     2003  ...  78934 Hillside Dr.   \n243  2003-08-25  Shipped       3         8     2003  ...  78934 Hillside Dr.   \n784  2003-08-25  Shipped       3         8     2003  ...  78934 Hillside Dr.   \n807  2003-08-25  Shipped       3         8     2003  ...  78934 Hillside Dr.   \n1469 2003-08-25  Shipped       3         8     2003  ...  78934 Hillside Dr.   \n1519 2003-08-25  Shipped       3         8     2003  ...  78934 Hillside Dr.   \n1567 2003-08-25  Shipped       3         8     2003  ...  78934 Hillside Dr.   \n1671 2003-08-25  Shipped       3         8     2003  ...  78934 Hillside Dr.   \n2101 2003-08-25  Shipped       3         8     2003  ...  78934 Hillside Dr.   \n2176 2003-08-25  Shipped       3         8     2003  ...  78934 Hillside Dr.   \n2200 2003-08-25  Shipped       3         8     2003  ...  78934 Hillside Dr.   \n2330 2003-08-25  Shipped       3         8     2003  ...  78934 Hillside Dr.   \n2435 2003-08-25  Shipped       3         8     2003  ...  78934 Hillside Dr.   \n2644 2003-08-25  Shipped       3         8     2003  ...  78934 Hillside Dr.   \n\n      ADDRESSLINE2      CITY STATE POSTALCODE COUNTRY TERRITORY  \\\n3              NaN  Pasadena    CA      90003     USA       NaN   \n57             NaN  Pasadena    CA      90003     USA       NaN   \n83             NaN  Pasadena    CA      90003     USA       NaN   \n243            NaN  Pasadena    CA      90003     USA       NaN   \n784            NaN  Pasadena    CA      90003     USA       NaN   \n807            NaN  Pasadena    CA      90003     USA       NaN   \n1469           NaN  Pasadena    CA      90003     USA       NaN   \n1519           NaN  Pasadena    CA      90003     USA       NaN   \n1567           NaN  Pasadena    CA      90003     USA       NaN   \n1671           NaN  Pasadena    CA      90003     USA       NaN   \n2101           NaN  Pasadena    CA      90003     USA       NaN   \n2176           NaN  Pasadena    CA      90003     USA       NaN   \n2200           NaN  Pasadena    CA      90003     USA       NaN   \n2330           NaN  Pasadena    CA      90003     USA       NaN   \n2435           NaN  Pasadena    CA      90003     USA       NaN   \n2644           NaN  Pasadena    CA      90003     USA       NaN   \n\n     CONTACTLASTNAME CONTACTFIRSTNAME DEALSIZE  \n3              Young            Julie   Medium  \n57             Young            Julie   Medium  \n83             Young            Julie   Medium  \n243            Young            Julie    Large  \n784            Young            Julie    Small  \n807            Young            Julie    Small  \n1469           Young            Julie   Medium  \n1519           Young            Julie   Medium  \n1567           Young            Julie   Medium  \n1671           Young            Julie    Small  \n2101           Young            Julie    Small  \n2176           Young            Julie   Medium  \n2200           Young            Julie    Small  \n2330           Young            Julie   Medium  \n2435           Young            Julie   Medium  \n2644           Young            Julie    Small  \n\n[16 rows x 25 columns]",
      "text/html": "<div>\n<style scoped>\n    .dataframe tbody tr th:only-of-type {\n        vertical-align: middle;\n    }\n\n    .dataframe tbody tr th {\n        vertical-align: top;\n    }\n\n    .dataframe thead th {\n        text-align: right;\n    }\n</style>\n<table border=\"1\" class=\"dataframe\">\n  <thead>\n    <tr style=\"text-align: right;\">\n      <th></th>\n      <th>ORDERNUMBER</th>\n      <th>QUANTITYORDERED</th>\n      <th>PRICEEACH</th>\n      <th>ORDERLINENUMBER</th>\n      <th>SALES</th>\n      <th>ORDERDATE</th>\n      <th>STATUS</th>\n      <th>QTR_ID</th>\n      <th>MONTH_ID</th>\n      <th>YEAR_ID</th>\n      <th>...</th>\n      <th>ADDRESSLINE1</th>\n      <th>ADDRESSLINE2</th>\n      <th>CITY</th>\n      <th>STATE</th>\n      <th>POSTALCODE</th>\n      <th>COUNTRY</th>\n      <th>TERRITORY</th>\n      <th>CONTACTLASTNAME</th>\n      <th>CONTACTFIRSTNAME</th>\n      <th>DEALSIZE</th>\n    </tr>\n  </thead>\n  <tbody>\n    <tr>\n      <th>3</th>\n      <td>10145</td>\n      <td>45</td>\n      <td>83.26</td>\n      <td>6</td>\n      <td>3746.70</td>\n      <td>2003-08-25</td>\n      <td>Shipped</td>\n      <td>3</td>\n      <td>8</td>\n      <td>2003</td>\n      <td>...</td>\n      <td>78934 Hillside Dr.</td>\n      <td>NaN</td>\n      <td>Pasadena</td>\n      <td>CA</td>\n      <td>90003</td>\n      <td>USA</td>\n      <td>NaN</td>\n      <td>Young</td>\n      <td>Julie</td>\n      <td>Medium</td>\n    </tr>\n    <tr>\n      <th>57</th>\n      <td>10145</td>\n      <td>37</td>\n      <td>100.00</td>\n      <td>9</td>\n      <td>5192.95</td>\n      <td>2003-08-25</td>\n      <td>Shipped</td>\n      <td>3</td>\n      <td>8</td>\n      <td>2003</td>\n      <td>...</td>\n      <td>78934 Hillside Dr.</td>\n      <td>NaN</td>\n      <td>Pasadena</td>\n      <td>CA</td>\n      <td>90003</td>\n      <td>USA</td>\n      <td>NaN</td>\n      <td>Young</td>\n      <td>Julie</td>\n      <td>Medium</td>\n    </tr>\n    <tr>\n      <th>83</th>\n      <td>10145</td>\n      <td>33</td>\n      <td>100.00</td>\n      <td>8</td>\n      <td>5176.38</td>\n      <td>2003-08-25</td>\n      <td>Shipped</td>\n      <td>3</td>\n      <td>8</td>\n      <td>2003</td>\n      <td>...</td>\n      <td>78934 Hillside Dr.</td>\n      <td>NaN</td>\n      <td>Pasadena</td>\n      <td>CA</td>\n      <td>90003</td>\n      <td>USA</td>\n      <td>NaN</td>\n      <td>Young</td>\n      <td>Julie</td>\n      <td>Medium</td>\n    </tr>\n    <tr>\n      <th>243</th>\n      <td>10145</td>\n      <td>49</td>\n      <td>100.00</td>\n      <td>5</td>\n      <td>8339.80</td>\n      <td>2003-08-25</td>\n      <td>Shipped</td>\n      <td>3</td>\n      <td>8</td>\n      <td>2003</td>\n      <td>...</td>\n      <td>78934 Hillside Dr.</td>\n      <td>NaN</td>\n      <td>Pasadena</td>\n      <td>CA</td>\n      <td>90003</td>\n      <td>USA</td>\n      <td>NaN</td>\n      <td>Young</td>\n      <td>Julie</td>\n      <td>Large</td>\n    </tr>\n    <tr>\n      <th>784</th>\n      <td>10145</td>\n      <td>30</td>\n      <td>85.32</td>\n      <td>14</td>\n      <td>2559.60</td>\n      <td>2003-08-25</td>\n      <td>Shipped</td>\n      <td>3</td>\n      <td>8</td>\n      <td>2003</td>\n      <td>...</td>\n      <td>78934 Hillside Dr.</td>\n      <td>NaN</td>\n      <td>Pasadena</td>\n      <td>CA</td>\n      <td>90003</td>\n      <td>USA</td>\n      <td>NaN</td>\n      <td>Young</td>\n      <td>Julie</td>\n      <td>Small</td>\n    </tr>\n    <tr>\n      <th>807</th>\n      <td>10145</td>\n      <td>30</td>\n      <td>49.67</td>\n      <td>10</td>\n      <td>1490.10</td>\n      <td>2003-08-25</td>\n      <td>Shipped</td>\n      <td>3</td>\n      <td>8</td>\n      <td>2003</td>\n      <td>...</td>\n      <td>78934 Hillside Dr.</td>\n      <td>NaN</td>\n      <td>Pasadena</td>\n      <td>CA</td>\n      <td>90003</td>\n      <td>USA</td>\n      <td>NaN</td>\n      <td>Young</td>\n      <td>Julie</td>\n      <td>Small</td>\n    </tr>\n    <tr>\n      <th>1469</th>\n      <td>10145</td>\n      <td>43</td>\n      <td>95.80</td>\n      <td>7</td>\n      <td>4119.40</td>\n      <td>2003-08-25</td>\n      <td>Shipped</td>\n      <td>3</td>\n      <td>8</td>\n      <td>2003</td>\n      <td>...</td>\n      <td>78934 Hillside Dr.</td>\n      <td>NaN</td>\n      <td>Pasadena</td>\n      <td>CA</td>\n      <td>90003</td>\n      <td>USA</td>\n      <td>NaN</td>\n      <td>Young</td>\n      <td>Julie</td>\n      <td>Medium</td>\n    </tr>\n    <tr>\n      <th>1519</th>\n      <td>10145</td>\n      <td>40</td>\n      <td>87.54</td>\n      <td>16</td>\n      <td>3501.60</td>\n      <td>2003-08-25</td>\n      <td>Shipped</td>\n      <td>3</td>\n      <td>8</td>\n      <td>2003</td>\n      <td>...</td>\n      <td>78934 Hillside Dr.</td>\n      <td>NaN</td>\n      <td>Pasadena</td>\n      <td>CA</td>\n      <td>90003</td>\n      <td>USA</td>\n      <td>NaN</td>\n      <td>Young</td>\n      <td>Julie</td>\n      <td>Medium</td>\n    </tr>\n    <tr>\n      <th>1567</th>\n      <td>10145</td>\n      <td>47</td>\n      <td>83.03</td>\n      <td>11</td>\n      <td>3902.41</td>\n      <td>2003-08-25</td>\n      <td>Shipped</td>\n      <td>3</td>\n      <td>8</td>\n      <td>2003</td>\n      <td>...</td>\n      <td>78934 Hillside Dr.</td>\n      <td>NaN</td>\n      <td>Pasadena</td>\n      <td>CA</td>\n      <td>90003</td>\n      <td>USA</td>\n      <td>NaN</td>\n      <td>Young</td>\n      <td>Julie</td>\n      <td>Medium</td>\n    </tr>\n    <tr>\n      <th>1671</th>\n      <td>10145</td>\n      <td>27</td>\n      <td>60.95</td>\n      <td>3</td>\n      <td>1645.65</td>\n      <td>2003-08-25</td>\n      <td>Shipped</td>\n      <td>3</td>\n      <td>8</td>\n      <td>2003</td>\n      <td>...</td>\n      <td>78934 Hillside Dr.</td>\n      <td>NaN</td>\n      <td>Pasadena</td>\n      <td>CA</td>\n      <td>90003</td>\n      <td>USA</td>\n      <td>NaN</td>\n      <td>Young</td>\n      <td>Julie</td>\n      <td>Small</td>\n    </tr>\n    <tr>\n      <th>2101</th>\n      <td>10145</td>\n      <td>33</td>\n      <td>84.77</td>\n      <td>15</td>\n      <td>2797.41</td>\n      <td>2003-08-25</td>\n      <td>Shipped</td>\n      <td>3</td>\n      <td>8</td>\n      <td>2003</td>\n      <td>...</td>\n      <td>78934 Hillside Dr.</td>\n      <td>NaN</td>\n      <td>Pasadena</td>\n      <td>CA</td>\n      <td>90003</td>\n      <td>USA</td>\n      <td>NaN</td>\n      <td>Young</td>\n      <td>Julie</td>\n      <td>Small</td>\n    </tr>\n    <tr>\n      <th>2176</th>\n      <td>10145</td>\n      <td>33</td>\n      <td>93.90</td>\n      <td>12</td>\n      <td>3098.70</td>\n      <td>2003-08-25</td>\n      <td>Shipped</td>\n      <td>3</td>\n      <td>8</td>\n      <td>2003</td>\n      <td>...</td>\n      <td>78934 Hillside Dr.</td>\n      <td>NaN</td>\n      <td>Pasadena</td>\n      <td>CA</td>\n      <td>90003</td>\n      <td>USA</td>\n      <td>NaN</td>\n      <td>Young</td>\n      <td>Julie</td>\n      <td>Medium</td>\n    </tr>\n    <tr>\n      <th>2200</th>\n      <td>10145</td>\n      <td>31</td>\n      <td>35.80</td>\n      <td>1</td>\n      <td>1109.80</td>\n      <td>2003-08-25</td>\n      <td>Shipped</td>\n      <td>3</td>\n      <td>8</td>\n      <td>2003</td>\n      <td>...</td>\n      <td>78934 Hillside Dr.</td>\n      <td>NaN</td>\n      <td>Pasadena</td>\n      <td>CA</td>\n      <td>90003</td>\n      <td>USA</td>\n      <td>NaN</td>\n      <td>Young</td>\n      <td>Julie</td>\n      <td>Small</td>\n    </tr>\n    <tr>\n      <th>2330</th>\n      <td>10145</td>\n      <td>27</td>\n      <td>100.00</td>\n      <td>4</td>\n      <td>3251.34</td>\n      <td>2003-08-25</td>\n      <td>Shipped</td>\n      <td>3</td>\n      <td>8</td>\n      <td>2003</td>\n      <td>...</td>\n      <td>78934 Hillside Dr.</td>\n      <td>NaN</td>\n      <td>Pasadena</td>\n      <td>CA</td>\n      <td>90003</td>\n      <td>USA</td>\n      <td>NaN</td>\n      <td>Young</td>\n      <td>Julie</td>\n      <td>Medium</td>\n    </tr>\n    <tr>\n      <th>2435</th>\n      <td>10145</td>\n      <td>38</td>\n      <td>81.36</td>\n      <td>2</td>\n      <td>3091.68</td>\n      <td>2003-08-25</td>\n      <td>Shipped</td>\n      <td>3</td>\n      <td>8</td>\n      <td>2003</td>\n      <td>...</td>\n      <td>78934 Hillside Dr.</td>\n      <td>NaN</td>\n      <td>Pasadena</td>\n      <td>CA</td>\n      <td>90003</td>\n      <td>USA</td>\n      <td>NaN</td>\n      <td>Young</td>\n      <td>Julie</td>\n      <td>Medium</td>\n    </tr>\n    <tr>\n      <th>2644</th>\n      <td>10145</td>\n      <td>20</td>\n      <td>100.00</td>\n      <td>13</td>\n      <td>2752.60</td>\n      <td>2003-08-25</td>\n      <td>Shipped</td>\n      <td>3</td>\n      <td>8</td>\n      <td>2003</td>\n      <td>...</td>\n      <td>78934 Hillside Dr.</td>\n      <td>NaN</td>\n      <td>Pasadena</td>\n      <td>CA</td>\n      <td>90003</td>\n      <td>USA</td>\n      <td>NaN</td>\n      <td>Young</td>\n      <td>Julie</td>\n      <td>Small</td>\n    </tr>\n  </tbody>\n</table>\n<p>16 rows × 25 columns</p>\n</div>"
     },
     "execution_count": 49,
     "metadata": {},
     "output_type": "execute_result"
    }
   ],
   "source": [
    "df[df.ORDERNUMBER == 10145]"
   ],
   "metadata": {
    "collapsed": false
   }
  },
  {
   "cell_type": "code",
   "execution_count": 59,
   "outputs": [
    {
     "data": {
      "text/plain": "   ORDERNUMBER  ORDERLINENUMBER  ORDERDATE              CUSTOMERNAME  \\\n0        10107                2 2003-02-24         Land of Toys Inc.   \n1        10121                5 2003-05-07        Reims Collectables   \n2        10134                2 2003-07-01           Lyon Souveniers   \n3        10145                6 2003-08-25         Toys4GrownUps.com   \n4        10159               14 2003-10-10  Corporate Gift Ideas Co.   \n\n  PRODUCTCODE  QUANTITYORDERED  PRICEEACH    SALES DEALSIZE  \n0    S10_1678               30      95.70  2871.00    Small  \n1    S10_1678               34      81.35  2765.90    Small  \n2    S10_1678               41      94.74  3884.34   Medium  \n3    S10_1678               45      83.26  3746.70   Medium  \n4    S10_1678               49     100.00  5205.27   Medium  ",
      "text/html": "<div>\n<style scoped>\n    .dataframe tbody tr th:only-of-type {\n        vertical-align: middle;\n    }\n\n    .dataframe tbody tr th {\n        vertical-align: top;\n    }\n\n    .dataframe thead th {\n        text-align: right;\n    }\n</style>\n<table border=\"1\" class=\"dataframe\">\n  <thead>\n    <tr style=\"text-align: right;\">\n      <th></th>\n      <th>ORDERNUMBER</th>\n      <th>ORDERLINENUMBER</th>\n      <th>ORDERDATE</th>\n      <th>CUSTOMERNAME</th>\n      <th>PRODUCTCODE</th>\n      <th>QUANTITYORDERED</th>\n      <th>PRICEEACH</th>\n      <th>SALES</th>\n      <th>DEALSIZE</th>\n    </tr>\n  </thead>\n  <tbody>\n    <tr>\n      <th>0</th>\n      <td>10107</td>\n      <td>2</td>\n      <td>2003-02-24</td>\n      <td>Land of Toys Inc.</td>\n      <td>S10_1678</td>\n      <td>30</td>\n      <td>95.70</td>\n      <td>2871.00</td>\n      <td>Small</td>\n    </tr>\n    <tr>\n      <th>1</th>\n      <td>10121</td>\n      <td>5</td>\n      <td>2003-05-07</td>\n      <td>Reims Collectables</td>\n      <td>S10_1678</td>\n      <td>34</td>\n      <td>81.35</td>\n      <td>2765.90</td>\n      <td>Small</td>\n    </tr>\n    <tr>\n      <th>2</th>\n      <td>10134</td>\n      <td>2</td>\n      <td>2003-07-01</td>\n      <td>Lyon Souveniers</td>\n      <td>S10_1678</td>\n      <td>41</td>\n      <td>94.74</td>\n      <td>3884.34</td>\n      <td>Medium</td>\n    </tr>\n    <tr>\n      <th>3</th>\n      <td>10145</td>\n      <td>6</td>\n      <td>2003-08-25</td>\n      <td>Toys4GrownUps.com</td>\n      <td>S10_1678</td>\n      <td>45</td>\n      <td>83.26</td>\n      <td>3746.70</td>\n      <td>Medium</td>\n    </tr>\n    <tr>\n      <th>4</th>\n      <td>10159</td>\n      <td>14</td>\n      <td>2003-10-10</td>\n      <td>Corporate Gift Ideas Co.</td>\n      <td>S10_1678</td>\n      <td>49</td>\n      <td>100.00</td>\n      <td>5205.27</td>\n      <td>Medium</td>\n    </tr>\n  </tbody>\n</table>\n</div>"
     },
     "execution_count": 59,
     "metadata": {},
     "output_type": "execute_result"
    }
   ],
   "source": [
    "df_factorderlines = df[['ORDERNUMBER', 'ORDERLINENUMBER', 'ORDERDATE', 'CUSTOMERNAME', 'PRODUCTCODE', 'QUANTITYORDERED', 'PRICEEACH', 'SALES','DEALSIZE']].copy(deep=True)\n",
    "df_factorderlines.reset_index(drop=True, inplace=True)\n",
    "df_factorderlines.head()"
   ],
   "metadata": {
    "collapsed": false
   }
  },
  {
   "cell_type": "code",
   "execution_count": 60,
   "outputs": [
    {
     "data": {
      "text/plain": "   ORDERNUMBER  ORDERLINENUMBER  ORDERDATE              CUSTOMERNAME  \\\n0        10107                2 2003-02-24         Land of Toys Inc.   \n1        10121                5 2003-05-07        Reims Collectables   \n2        10134                2 2003-07-01           Lyon Souveniers   \n3        10145                6 2003-08-25         Toys4GrownUps.com   \n4        10159               14 2003-10-10  Corporate Gift Ideas Co.   \n\n  PRODUCTCODE  QUANTITYORDERED  PRICEEACH    SALES DEALSIZE  CUSTOMERID  \n0    S10_1678               30      95.70  2871.00    Small           1  \n1    S10_1678               34      81.35  2765.90    Small           2  \n2    S10_1678               41      94.74  3884.34   Medium           3  \n3    S10_1678               45      83.26  3746.70   Medium           4  \n4    S10_1678               49     100.00  5205.27   Medium           5  ",
      "text/html": "<div>\n<style scoped>\n    .dataframe tbody tr th:only-of-type {\n        vertical-align: middle;\n    }\n\n    .dataframe tbody tr th {\n        vertical-align: top;\n    }\n\n    .dataframe thead th {\n        text-align: right;\n    }\n</style>\n<table border=\"1\" class=\"dataframe\">\n  <thead>\n    <tr style=\"text-align: right;\">\n      <th></th>\n      <th>ORDERNUMBER</th>\n      <th>ORDERLINENUMBER</th>\n      <th>ORDERDATE</th>\n      <th>CUSTOMERNAME</th>\n      <th>PRODUCTCODE</th>\n      <th>QUANTITYORDERED</th>\n      <th>PRICEEACH</th>\n      <th>SALES</th>\n      <th>DEALSIZE</th>\n      <th>CUSTOMERID</th>\n    </tr>\n  </thead>\n  <tbody>\n    <tr>\n      <th>0</th>\n      <td>10107</td>\n      <td>2</td>\n      <td>2003-02-24</td>\n      <td>Land of Toys Inc.</td>\n      <td>S10_1678</td>\n      <td>30</td>\n      <td>95.70</td>\n      <td>2871.00</td>\n      <td>Small</td>\n      <td>1</td>\n    </tr>\n    <tr>\n      <th>1</th>\n      <td>10121</td>\n      <td>5</td>\n      <td>2003-05-07</td>\n      <td>Reims Collectables</td>\n      <td>S10_1678</td>\n      <td>34</td>\n      <td>81.35</td>\n      <td>2765.90</td>\n      <td>Small</td>\n      <td>2</td>\n    </tr>\n    <tr>\n      <th>2</th>\n      <td>10134</td>\n      <td>2</td>\n      <td>2003-07-01</td>\n      <td>Lyon Souveniers</td>\n      <td>S10_1678</td>\n      <td>41</td>\n      <td>94.74</td>\n      <td>3884.34</td>\n      <td>Medium</td>\n      <td>3</td>\n    </tr>\n    <tr>\n      <th>3</th>\n      <td>10145</td>\n      <td>6</td>\n      <td>2003-08-25</td>\n      <td>Toys4GrownUps.com</td>\n      <td>S10_1678</td>\n      <td>45</td>\n      <td>83.26</td>\n      <td>3746.70</td>\n      <td>Medium</td>\n      <td>4</td>\n    </tr>\n    <tr>\n      <th>4</th>\n      <td>10159</td>\n      <td>14</td>\n      <td>2003-10-10</td>\n      <td>Corporate Gift Ideas Co.</td>\n      <td>S10_1678</td>\n      <td>49</td>\n      <td>100.00</td>\n      <td>5205.27</td>\n      <td>Medium</td>\n      <td>5</td>\n    </tr>\n  </tbody>\n</table>\n</div>"
     },
     "execution_count": 60,
     "metadata": {},
     "output_type": "execute_result"
    }
   ],
   "source": [
    "# Add CustomerId\n",
    "df_merged = df_factorderlines.merge(df_customer[['CUSTOMERNAME', 'CUSTOMERID']], on='CUSTOMERNAME', how='left')\n",
    "df_merged.head()"
   ],
   "metadata": {
    "collapsed": false
   }
  },
  {
   "cell_type": "code",
   "execution_count": 61,
   "outputs": [
    {
     "data": {
      "text/plain": "   ORDERNUMBER  ORDERLINENUMBER  ORDERDATE              CUSTOMERNAME  \\\n0        10107                2 2003-02-24         Land of Toys Inc.   \n1        10121                5 2003-05-07        Reims Collectables   \n2        10134                2 2003-07-01           Lyon Souveniers   \n3        10145                6 2003-08-25         Toys4GrownUps.com   \n4        10159               14 2003-10-10  Corporate Gift Ideas Co.   \n\n  PRODUCTCODE  QUANTITYORDERED  PRICEEACH    SALES DEALSIZE  CUSTOMERID  \\\n0    S10_1678               30      95.70  2871.00    Small           1   \n1    S10_1678               34      81.35  2765.90    Small           2   \n2    S10_1678               41      94.74  3884.34   Medium           3   \n3    S10_1678               45      83.26  3746.70   Medium           4   \n4    S10_1678               49     100.00  5205.27   Medium           5   \n\n    FULLDATE    DATEID  \n0 2003-02-24  20030224  \n1 2003-05-07  20030507  \n2 2003-07-01  20030701  \n3 2003-08-25  20030825  \n4 2003-10-10  20031010  ",
      "text/html": "<div>\n<style scoped>\n    .dataframe tbody tr th:only-of-type {\n        vertical-align: middle;\n    }\n\n    .dataframe tbody tr th {\n        vertical-align: top;\n    }\n\n    .dataframe thead th {\n        text-align: right;\n    }\n</style>\n<table border=\"1\" class=\"dataframe\">\n  <thead>\n    <tr style=\"text-align: right;\">\n      <th></th>\n      <th>ORDERNUMBER</th>\n      <th>ORDERLINENUMBER</th>\n      <th>ORDERDATE</th>\n      <th>CUSTOMERNAME</th>\n      <th>PRODUCTCODE</th>\n      <th>QUANTITYORDERED</th>\n      <th>PRICEEACH</th>\n      <th>SALES</th>\n      <th>DEALSIZE</th>\n      <th>CUSTOMERID</th>\n      <th>FULLDATE</th>\n      <th>DATEID</th>\n    </tr>\n  </thead>\n  <tbody>\n    <tr>\n      <th>0</th>\n      <td>10107</td>\n      <td>2</td>\n      <td>2003-02-24</td>\n      <td>Land of Toys Inc.</td>\n      <td>S10_1678</td>\n      <td>30</td>\n      <td>95.70</td>\n      <td>2871.00</td>\n      <td>Small</td>\n      <td>1</td>\n      <td>2003-02-24</td>\n      <td>20030224</td>\n    </tr>\n    <tr>\n      <th>1</th>\n      <td>10121</td>\n      <td>5</td>\n      <td>2003-05-07</td>\n      <td>Reims Collectables</td>\n      <td>S10_1678</td>\n      <td>34</td>\n      <td>81.35</td>\n      <td>2765.90</td>\n      <td>Small</td>\n      <td>2</td>\n      <td>2003-05-07</td>\n      <td>20030507</td>\n    </tr>\n    <tr>\n      <th>2</th>\n      <td>10134</td>\n      <td>2</td>\n      <td>2003-07-01</td>\n      <td>Lyon Souveniers</td>\n      <td>S10_1678</td>\n      <td>41</td>\n      <td>94.74</td>\n      <td>3884.34</td>\n      <td>Medium</td>\n      <td>3</td>\n      <td>2003-07-01</td>\n      <td>20030701</td>\n    </tr>\n    <tr>\n      <th>3</th>\n      <td>10145</td>\n      <td>6</td>\n      <td>2003-08-25</td>\n      <td>Toys4GrownUps.com</td>\n      <td>S10_1678</td>\n      <td>45</td>\n      <td>83.26</td>\n      <td>3746.70</td>\n      <td>Medium</td>\n      <td>4</td>\n      <td>2003-08-25</td>\n      <td>20030825</td>\n    </tr>\n    <tr>\n      <th>4</th>\n      <td>10159</td>\n      <td>14</td>\n      <td>2003-10-10</td>\n      <td>Corporate Gift Ideas Co.</td>\n      <td>S10_1678</td>\n      <td>49</td>\n      <td>100.00</td>\n      <td>5205.27</td>\n      <td>Medium</td>\n      <td>5</td>\n      <td>2003-10-10</td>\n      <td>20031010</td>\n    </tr>\n  </tbody>\n</table>\n</div>"
     },
     "execution_count": 61,
     "metadata": {},
     "output_type": "execute_result"
    }
   ],
   "source": [
    "# Add DateID\n",
    "df_merged = df_merged.merge(df_time[['FULLDATE', 'DATEID']], left_on='ORDERDATE', right_on='FULLDATE', how='left')\n",
    "df_merged.head()"
   ],
   "metadata": {
    "collapsed": false
   }
  },
  {
   "cell_type": "code",
   "execution_count": 62,
   "outputs": [
    {
     "data": {
      "text/plain": "   ORDERNUMBER  ORDERLINENUMBER  ORDERDATE              CUSTOMERNAME  \\\n0        10107                2 2003-02-24         Land of Toys Inc.   \n1        10121                5 2003-05-07        Reims Collectables   \n2        10134                2 2003-07-01           Lyon Souveniers   \n3        10145                6 2003-08-25         Toys4GrownUps.com   \n4        10159               14 2003-10-10  Corporate Gift Ideas Co.   \n\n  PRODUCTCODE  QUANTITYORDERED  PRICEEACH    SALES DEALSIZE  CUSTOMERID  \\\n0    S10_1678               30      95.70  2871.00    Small           1   \n1    S10_1678               34      81.35  2765.90    Small           2   \n2    S10_1678               41      94.74  3884.34   Medium           3   \n3    S10_1678               45      83.26  3746.70   Medium           4   \n4    S10_1678               49     100.00  5205.27   Medium           5   \n\n    FULLDATE    DATEID  PRODUCTID  \n0 2003-02-24  20030224          1  \n1 2003-05-07  20030507          1  \n2 2003-07-01  20030701          1  \n3 2003-08-25  20030825          1  \n4 2003-10-10  20031010          1  ",
      "text/html": "<div>\n<style scoped>\n    .dataframe tbody tr th:only-of-type {\n        vertical-align: middle;\n    }\n\n    .dataframe tbody tr th {\n        vertical-align: top;\n    }\n\n    .dataframe thead th {\n        text-align: right;\n    }\n</style>\n<table border=\"1\" class=\"dataframe\">\n  <thead>\n    <tr style=\"text-align: right;\">\n      <th></th>\n      <th>ORDERNUMBER</th>\n      <th>ORDERLINENUMBER</th>\n      <th>ORDERDATE</th>\n      <th>CUSTOMERNAME</th>\n      <th>PRODUCTCODE</th>\n      <th>QUANTITYORDERED</th>\n      <th>PRICEEACH</th>\n      <th>SALES</th>\n      <th>DEALSIZE</th>\n      <th>CUSTOMERID</th>\n      <th>FULLDATE</th>\n      <th>DATEID</th>\n      <th>PRODUCTID</th>\n    </tr>\n  </thead>\n  <tbody>\n    <tr>\n      <th>0</th>\n      <td>10107</td>\n      <td>2</td>\n      <td>2003-02-24</td>\n      <td>Land of Toys Inc.</td>\n      <td>S10_1678</td>\n      <td>30</td>\n      <td>95.70</td>\n      <td>2871.00</td>\n      <td>Small</td>\n      <td>1</td>\n      <td>2003-02-24</td>\n      <td>20030224</td>\n      <td>1</td>\n    </tr>\n    <tr>\n      <th>1</th>\n      <td>10121</td>\n      <td>5</td>\n      <td>2003-05-07</td>\n      <td>Reims Collectables</td>\n      <td>S10_1678</td>\n      <td>34</td>\n      <td>81.35</td>\n      <td>2765.90</td>\n      <td>Small</td>\n      <td>2</td>\n      <td>2003-05-07</td>\n      <td>20030507</td>\n      <td>1</td>\n    </tr>\n    <tr>\n      <th>2</th>\n      <td>10134</td>\n      <td>2</td>\n      <td>2003-07-01</td>\n      <td>Lyon Souveniers</td>\n      <td>S10_1678</td>\n      <td>41</td>\n      <td>94.74</td>\n      <td>3884.34</td>\n      <td>Medium</td>\n      <td>3</td>\n      <td>2003-07-01</td>\n      <td>20030701</td>\n      <td>1</td>\n    </tr>\n    <tr>\n      <th>3</th>\n      <td>10145</td>\n      <td>6</td>\n      <td>2003-08-25</td>\n      <td>Toys4GrownUps.com</td>\n      <td>S10_1678</td>\n      <td>45</td>\n      <td>83.26</td>\n      <td>3746.70</td>\n      <td>Medium</td>\n      <td>4</td>\n      <td>2003-08-25</td>\n      <td>20030825</td>\n      <td>1</td>\n    </tr>\n    <tr>\n      <th>4</th>\n      <td>10159</td>\n      <td>14</td>\n      <td>2003-10-10</td>\n      <td>Corporate Gift Ideas Co.</td>\n      <td>S10_1678</td>\n      <td>49</td>\n      <td>100.00</td>\n      <td>5205.27</td>\n      <td>Medium</td>\n      <td>5</td>\n      <td>2003-10-10</td>\n      <td>20031010</td>\n      <td>1</td>\n    </tr>\n  </tbody>\n</table>\n</div>"
     },
     "execution_count": 62,
     "metadata": {},
     "output_type": "execute_result"
    }
   ],
   "source": [
    "# Add ProductID\n",
    "df_merged = df_merged.merge(df_prod[['PRODUCTCODE', 'PRODUCTID']], on='PRODUCTCODE', how='left')\n",
    "df_merged.head()"
   ],
   "metadata": {
    "collapsed": false
   }
  },
  {
   "cell_type": "code",
   "execution_count": 63,
   "outputs": [
    {
     "data": {
      "text/plain": "   ORDERNUMBER  ORDERLINENUMBER  QUANTITYORDERED  PRICEEACH    SALES DEALSIZE  \\\n0        10107                2               30      95.70  2871.00    Small   \n1        10121                5               34      81.35  2765.90    Small   \n2        10134                2               41      94.74  3884.34   Medium   \n3        10145                6               45      83.26  3746.70   Medium   \n4        10159               14               49     100.00  5205.27   Medium   \n\n   CUSTOMERID    DATEID  PRODUCTID  \n0           1  20030224          1  \n1           2  20030507          1  \n2           3  20030701          1  \n3           4  20030825          1  \n4           5  20031010          1  ",
      "text/html": "<div>\n<style scoped>\n    .dataframe tbody tr th:only-of-type {\n        vertical-align: middle;\n    }\n\n    .dataframe tbody tr th {\n        vertical-align: top;\n    }\n\n    .dataframe thead th {\n        text-align: right;\n    }\n</style>\n<table border=\"1\" class=\"dataframe\">\n  <thead>\n    <tr style=\"text-align: right;\">\n      <th></th>\n      <th>ORDERNUMBER</th>\n      <th>ORDERLINENUMBER</th>\n      <th>QUANTITYORDERED</th>\n      <th>PRICEEACH</th>\n      <th>SALES</th>\n      <th>DEALSIZE</th>\n      <th>CUSTOMERID</th>\n      <th>DATEID</th>\n      <th>PRODUCTID</th>\n    </tr>\n  </thead>\n  <tbody>\n    <tr>\n      <th>0</th>\n      <td>10107</td>\n      <td>2</td>\n      <td>30</td>\n      <td>95.70</td>\n      <td>2871.00</td>\n      <td>Small</td>\n      <td>1</td>\n      <td>20030224</td>\n      <td>1</td>\n    </tr>\n    <tr>\n      <th>1</th>\n      <td>10121</td>\n      <td>5</td>\n      <td>34</td>\n      <td>81.35</td>\n      <td>2765.90</td>\n      <td>Small</td>\n      <td>2</td>\n      <td>20030507</td>\n      <td>1</td>\n    </tr>\n    <tr>\n      <th>2</th>\n      <td>10134</td>\n      <td>2</td>\n      <td>41</td>\n      <td>94.74</td>\n      <td>3884.34</td>\n      <td>Medium</td>\n      <td>3</td>\n      <td>20030701</td>\n      <td>1</td>\n    </tr>\n    <tr>\n      <th>3</th>\n      <td>10145</td>\n      <td>6</td>\n      <td>45</td>\n      <td>83.26</td>\n      <td>3746.70</td>\n      <td>Medium</td>\n      <td>4</td>\n      <td>20030825</td>\n      <td>1</td>\n    </tr>\n    <tr>\n      <th>4</th>\n      <td>10159</td>\n      <td>14</td>\n      <td>49</td>\n      <td>100.00</td>\n      <td>5205.27</td>\n      <td>Medium</td>\n      <td>5</td>\n      <td>20031010</td>\n      <td>1</td>\n    </tr>\n  </tbody>\n</table>\n</div>"
     },
     "execution_count": 63,
     "metadata": {},
     "output_type": "execute_result"
    }
   ],
   "source": [
    "# Drop ORDERDATE, FULLDATE, CUSTOMERNAME, AND PRODUCTCODE\n",
    "df_merged.drop(columns=['ORDERDATE', 'FULLDATE', 'CUSTOMERNAME', 'PRODUCTCODE'], inplace=True)\n",
    "df_merged.head()"
   ],
   "metadata": {
    "collapsed": false
   }
  },
  {
   "cell_type": "code",
   "execution_count": 64,
   "outputs": [
    {
     "data": {
      "text/plain": "   PRODUCTID  CUSTOMERID    DATEID  ORDERNUMBER  ORDERLINENUMBER  \\\n0          1           1  20030224        10107                2   \n1          1           2  20030507        10121                5   \n2          1           3  20030701        10134                2   \n3          1           4  20030825        10145                6   \n4          1           5  20031010        10159               14   \n\n   QUANTITYORDERED  PRICEEACH    SALES DEALSIZE  TOTAL_ORDERLINE_AMOUNT  \\\n0               30      95.70  2871.00    Small                 2871.00   \n1               34      81.35  2765.90    Small                 2765.90   \n2               41      94.74  3884.34   Medium                 3884.34   \n3               45      83.26  3746.70   Medium                 3746.70   \n4               49     100.00  5205.27   Medium                 4900.00   \n\n   UNITPRICE  \n0      95.70  \n1      81.35  \n2      94.74  \n3      83.26  \n4     106.23  ",
      "text/html": "<div>\n<style scoped>\n    .dataframe tbody tr th:only-of-type {\n        vertical-align: middle;\n    }\n\n    .dataframe tbody tr th {\n        vertical-align: top;\n    }\n\n    .dataframe thead th {\n        text-align: right;\n    }\n</style>\n<table border=\"1\" class=\"dataframe\">\n  <thead>\n    <tr style=\"text-align: right;\">\n      <th></th>\n      <th>PRODUCTID</th>\n      <th>CUSTOMERID</th>\n      <th>DATEID</th>\n      <th>ORDERNUMBER</th>\n      <th>ORDERLINENUMBER</th>\n      <th>QUANTITYORDERED</th>\n      <th>PRICEEACH</th>\n      <th>SALES</th>\n      <th>DEALSIZE</th>\n      <th>TOTAL_ORDERLINE_AMOUNT</th>\n      <th>UNITPRICE</th>\n    </tr>\n  </thead>\n  <tbody>\n    <tr>\n      <th>0</th>\n      <td>1</td>\n      <td>1</td>\n      <td>20030224</td>\n      <td>10107</td>\n      <td>2</td>\n      <td>30</td>\n      <td>95.70</td>\n      <td>2871.00</td>\n      <td>Small</td>\n      <td>2871.00</td>\n      <td>95.70</td>\n    </tr>\n    <tr>\n      <th>1</th>\n      <td>1</td>\n      <td>2</td>\n      <td>20030507</td>\n      <td>10121</td>\n      <td>5</td>\n      <td>34</td>\n      <td>81.35</td>\n      <td>2765.90</td>\n      <td>Small</td>\n      <td>2765.90</td>\n      <td>81.35</td>\n    </tr>\n    <tr>\n      <th>2</th>\n      <td>1</td>\n      <td>3</td>\n      <td>20030701</td>\n      <td>10134</td>\n      <td>2</td>\n      <td>41</td>\n      <td>94.74</td>\n      <td>3884.34</td>\n      <td>Medium</td>\n      <td>3884.34</td>\n      <td>94.74</td>\n    </tr>\n    <tr>\n      <th>3</th>\n      <td>1</td>\n      <td>4</td>\n      <td>20030825</td>\n      <td>10145</td>\n      <td>6</td>\n      <td>45</td>\n      <td>83.26</td>\n      <td>3746.70</td>\n      <td>Medium</td>\n      <td>3746.70</td>\n      <td>83.26</td>\n    </tr>\n    <tr>\n      <th>4</th>\n      <td>1</td>\n      <td>5</td>\n      <td>20031010</td>\n      <td>10159</td>\n      <td>14</td>\n      <td>49</td>\n      <td>100.00</td>\n      <td>5205.27</td>\n      <td>Medium</td>\n      <td>4900.00</td>\n      <td>106.23</td>\n    </tr>\n  </tbody>\n</table>\n</div>"
     },
     "execution_count": 64,
     "metadata": {},
     "output_type": "execute_result"
    }
   ],
   "source": [
    "df_merged = df_merged[['PRODUCTID', 'CUSTOMERID', 'DATEID', 'ORDERNUMBER', 'ORDERLINENUMBER', 'QUANTITYORDERED', 'PRICEEACH', 'SALES','DEALSIZE']]\n",
    "df_merged['TOTAL_ORDERLINE_AMOUNT'] = df_merged.apply(lambda row: round(row['PRICEEACH'] * row['QUANTITYORDERED'],2), axis=1)\n",
    "df_merged['UNITPRICE'] = df_merged.apply(lambda row: round(row['SALES'] / row['QUANTITYORDERED'],2), axis=1)\n",
    "df_merged.head()"
   ],
   "metadata": {
    "collapsed": false
   }
  },
  {
   "cell_type": "code",
   "execution_count": 65,
   "outputs": [
    {
     "data": {
      "text/plain": "    PRODUCTID  CUSTOMERID    DATEID  ORDERNUMBER  ORDERLINENUMBER  \\\n4           1           5  20031010        10159               14   \n7           1           8  20031118        10188                1   \n9           1          10  20040115        10211               14   \n10          1          11  20040220        10223                1   \n11          1          12  20040405        10237                7   \n\n    QUANTITYORDERED  PRICEEACH    SALES DEALSIZE  TOTAL_ORDERLINE_AMOUNT  \\\n4                49      100.0  5205.27   Medium                  4900.0   \n7                48      100.0  5512.32   Medium                  4800.0   \n9                41      100.0  4708.44   Medium                  4100.0   \n10               37      100.0  3965.66   Medium                  3700.0   \n11               23      100.0  2333.12    Small                  2300.0   \n\n    UNITPRICE  \n4      106.23  \n7      114.84  \n9      114.84  \n10     107.18  \n11     101.44  ",
      "text/html": "<div>\n<style scoped>\n    .dataframe tbody tr th:only-of-type {\n        vertical-align: middle;\n    }\n\n    .dataframe tbody tr th {\n        vertical-align: top;\n    }\n\n    .dataframe thead th {\n        text-align: right;\n    }\n</style>\n<table border=\"1\" class=\"dataframe\">\n  <thead>\n    <tr style=\"text-align: right;\">\n      <th></th>\n      <th>PRODUCTID</th>\n      <th>CUSTOMERID</th>\n      <th>DATEID</th>\n      <th>ORDERNUMBER</th>\n      <th>ORDERLINENUMBER</th>\n      <th>QUANTITYORDERED</th>\n      <th>PRICEEACH</th>\n      <th>SALES</th>\n      <th>DEALSIZE</th>\n      <th>TOTAL_ORDERLINE_AMOUNT</th>\n      <th>UNITPRICE</th>\n    </tr>\n  </thead>\n  <tbody>\n    <tr>\n      <th>4</th>\n      <td>1</td>\n      <td>5</td>\n      <td>20031010</td>\n      <td>10159</td>\n      <td>14</td>\n      <td>49</td>\n      <td>100.0</td>\n      <td>5205.27</td>\n      <td>Medium</td>\n      <td>4900.0</td>\n      <td>106.23</td>\n    </tr>\n    <tr>\n      <th>7</th>\n      <td>1</td>\n      <td>8</td>\n      <td>20031118</td>\n      <td>10188</td>\n      <td>1</td>\n      <td>48</td>\n      <td>100.0</td>\n      <td>5512.32</td>\n      <td>Medium</td>\n      <td>4800.0</td>\n      <td>114.84</td>\n    </tr>\n    <tr>\n      <th>9</th>\n      <td>1</td>\n      <td>10</td>\n      <td>20040115</td>\n      <td>10211</td>\n      <td>14</td>\n      <td>41</td>\n      <td>100.0</td>\n      <td>4708.44</td>\n      <td>Medium</td>\n      <td>4100.0</td>\n      <td>114.84</td>\n    </tr>\n    <tr>\n      <th>10</th>\n      <td>1</td>\n      <td>11</td>\n      <td>20040220</td>\n      <td>10223</td>\n      <td>1</td>\n      <td>37</td>\n      <td>100.0</td>\n      <td>3965.66</td>\n      <td>Medium</td>\n      <td>3700.0</td>\n      <td>107.18</td>\n    </tr>\n    <tr>\n      <th>11</th>\n      <td>1</td>\n      <td>12</td>\n      <td>20040405</td>\n      <td>10237</td>\n      <td>7</td>\n      <td>23</td>\n      <td>100.0</td>\n      <td>2333.12</td>\n      <td>Small</td>\n      <td>2300.0</td>\n      <td>101.44</td>\n    </tr>\n  </tbody>\n</table>\n</div>"
     },
     "execution_count": 65,
     "metadata": {},
     "output_type": "execute_result"
    }
   ],
   "source": [
    "df_merged[df_merged['SALES'].round(2) != df_merged['TOTAL_ORDERLINE_AMOUNT'].round(2)].head()"
   ],
   "metadata": {
    "collapsed": false
   }
  },
  {
   "cell_type": "code",
   "execution_count": 66,
   "outputs": [],
   "source": [
    "df_merged.drop_duplicates(keep='first', inplace=True)\n",
    "df_merged.to_csv('output_files/factorderlines.csv', index=False)"
   ],
   "metadata": {
    "collapsed": false
   }
  },
  {
   "cell_type": "markdown",
   "source": [
    "## Work in factorders"
   ],
   "metadata": {
    "collapsed": false
   }
  },
  {
   "cell_type": "code",
   "execution_count": null,
   "outputs": [],
   "source": [
    "df_factorders = df[['CUSTOMERNAME', 'ORDERDATE', 'ORDERNUMBER', 'ORDERLINENUMBER', 'STATUS']].copy(deep=True)\n",
    "df_factorders.head()"
   ],
   "metadata": {
    "collapsed": false
   }
  },
  {
   "cell_type": "code",
   "execution_count": null,
   "outputs": [],
   "source": [
    "df_join = df_factorders.merge(df_merged[['ORDERNUMBER', 'ORDERLINENUMBER', 'CUSTOMERID', 'DATEID', 'SALEPRICE']], on=['ORDERNUMBER', 'ORDERLINENUMBER'], how='left')\n",
    "df_join.head()"
   ],
   "metadata": {
    "collapsed": false
   }
  },
  {
   "cell_type": "code",
   "execution_count": null,
   "outputs": [],
   "source": [
    "# Drop columns 'CUSTOMERNAME', AND 'ORDERDATE'\n",
    "df_join.drop(columns=['CUSTOMERNAME', 'ORDERDATE'], inplace=True)\n",
    "df_join.head()"
   ],
   "metadata": {
    "collapsed": false
   }
  },
  {
   "cell_type": "code",
   "execution_count": null,
   "outputs": [],
   "source": [
    "factorders = df_join.groupby(['ORDERNUMBER', 'DATEID', 'CUSTOMERID', 'STATUS'])[['SALEPRICE']].sum()"
   ],
   "metadata": {
    "collapsed": false
   }
  },
  {
   "cell_type": "code",
   "execution_count": null,
   "outputs": [],
   "source": [
    "factorders.head()"
   ],
   "metadata": {
    "collapsed": false
   }
  },
  {
   "cell_type": "code",
   "execution_count": null,
   "outputs": [],
   "source": [
    "factorders.reset_index(inplace=True)\n",
    "factorders = factorders[['CUSTOMERID', 'DATEID','ORDERNUMBER', 'STATUS', 'SALEPRICE']]"
   ],
   "metadata": {
    "collapsed": false
   }
  },
  {
   "cell_type": "code",
   "execution_count": null,
   "outputs": [],
   "source": [
    "factorders.rename(columns={'SALEPRICE': 'TOTAL_ORDER_AMOUNT'}, inplace=True)\n",
    "factorders.head()"
   ],
   "metadata": {
    "collapsed": false
   }
  },
  {
   "cell_type": "code",
   "execution_count": null,
   "outputs": [],
   "source": [
    "factorders.to_csv('output_files/factorders.csv', index=False)"
   ],
   "metadata": {
    "collapsed": false
   }
  },
  {
   "cell_type": "code",
   "execution_count": 1,
   "outputs": [
    {
     "name": "stdout",
     "output_type": "stream",
     "text": [
      "hello world\n"
     ]
    }
   ],
   "source": [
    "print(\"hello world\")"
   ],
   "metadata": {
    "collapsed": false
   }
  },
  {
   "cell_type": "code",
   "execution_count": null,
   "outputs": [],
   "source": [],
   "metadata": {
    "collapsed": false
   }
  }
 ],
 "metadata": {
  "kernelspec": {
   "display_name": "Python 3",
   "language": "python",
   "name": "python3"
  },
  "language_info": {
   "codemirror_mode": {
    "name": "ipython",
    "version": 2
   },
   "file_extension": ".py",
   "mimetype": "text/x-python",
   "name": "python",
   "nbconvert_exporter": "python",
   "pygments_lexer": "ipython2",
   "version": "2.7.6"
  }
 },
 "nbformat": 4,
 "nbformat_minor": 0
}
