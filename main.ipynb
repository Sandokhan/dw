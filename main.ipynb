{
 "cells": [
  {
   "cell_type": "code",
   "execution_count": 1,
   "metadata": {
    "collapsed": true
   },
   "outputs": [],
   "source": [
    "import pandas as pd"
   ]
  },
  {
   "cell_type": "code",
   "execution_count": 2,
   "outputs": [
    {
     "data": {
      "text/plain": "   ORDERNUMBER  QUANTITYORDERED  PRICEEACH  ORDERLINENUMBER    SALES  \\\n0        10107               30      95.70                2  2871.00   \n1        10121               34      81.35                5  2765.90   \n2        10134               41      94.74                2  3884.34   \n3        10145               45      83.26                6  3746.70   \n4        10159               49     100.00               14  5205.27   \n\n         ORDERDATE   STATUS  QTR_ID  MONTH_ID  YEAR_ID  ...  \\\n0   2/24/2003 0:00  Shipped       1         2     2003  ...   \n1    5/7/2003 0:00  Shipped       2         5     2003  ...   \n2    7/1/2003 0:00  Shipped       3         7     2003  ...   \n3   8/25/2003 0:00  Shipped       3         8     2003  ...   \n4  10/10/2003 0:00  Shipped       4        10     2003  ...   \n\n                    ADDRESSLINE1  ADDRESSLINE2           CITY STATE  \\\n0        897 Long Airport Avenue           NaN            NYC    NY   \n1             59 rue de l'Abbaye           NaN          Reims   NaN   \n2  27 rue du Colonel Pierre Avia           NaN          Paris   NaN   \n3             78934 Hillside Dr.           NaN       Pasadena    CA   \n4                7734 Strong St.           NaN  San Francisco    CA   \n\n  POSTALCODE COUNTRY TERRITORY CONTACTLASTNAME CONTACTFIRSTNAME DEALSIZE  \n0      10022     USA       NaN              Yu             Kwai    Small  \n1      51100  France      EMEA         Henriot             Paul    Small  \n2      75508  France      EMEA        Da Cunha           Daniel   Medium  \n3      90003     USA       NaN           Young            Julie   Medium  \n4        NaN     USA       NaN           Brown            Julie   Medium  \n\n[5 rows x 25 columns]",
      "text/html": "<div>\n<style scoped>\n    .dataframe tbody tr th:only-of-type {\n        vertical-align: middle;\n    }\n\n    .dataframe tbody tr th {\n        vertical-align: top;\n    }\n\n    .dataframe thead th {\n        text-align: right;\n    }\n</style>\n<table border=\"1\" class=\"dataframe\">\n  <thead>\n    <tr style=\"text-align: right;\">\n      <th></th>\n      <th>ORDERNUMBER</th>\n      <th>QUANTITYORDERED</th>\n      <th>PRICEEACH</th>\n      <th>ORDERLINENUMBER</th>\n      <th>SALES</th>\n      <th>ORDERDATE</th>\n      <th>STATUS</th>\n      <th>QTR_ID</th>\n      <th>MONTH_ID</th>\n      <th>YEAR_ID</th>\n      <th>...</th>\n      <th>ADDRESSLINE1</th>\n      <th>ADDRESSLINE2</th>\n      <th>CITY</th>\n      <th>STATE</th>\n      <th>POSTALCODE</th>\n      <th>COUNTRY</th>\n      <th>TERRITORY</th>\n      <th>CONTACTLASTNAME</th>\n      <th>CONTACTFIRSTNAME</th>\n      <th>DEALSIZE</th>\n    </tr>\n  </thead>\n  <tbody>\n    <tr>\n      <th>0</th>\n      <td>10107</td>\n      <td>30</td>\n      <td>95.70</td>\n      <td>2</td>\n      <td>2871.00</td>\n      <td>2/24/2003 0:00</td>\n      <td>Shipped</td>\n      <td>1</td>\n      <td>2</td>\n      <td>2003</td>\n      <td>...</td>\n      <td>897 Long Airport Avenue</td>\n      <td>NaN</td>\n      <td>NYC</td>\n      <td>NY</td>\n      <td>10022</td>\n      <td>USA</td>\n      <td>NaN</td>\n      <td>Yu</td>\n      <td>Kwai</td>\n      <td>Small</td>\n    </tr>\n    <tr>\n      <th>1</th>\n      <td>10121</td>\n      <td>34</td>\n      <td>81.35</td>\n      <td>5</td>\n      <td>2765.90</td>\n      <td>5/7/2003 0:00</td>\n      <td>Shipped</td>\n      <td>2</td>\n      <td>5</td>\n      <td>2003</td>\n      <td>...</td>\n      <td>59 rue de l'Abbaye</td>\n      <td>NaN</td>\n      <td>Reims</td>\n      <td>NaN</td>\n      <td>51100</td>\n      <td>France</td>\n      <td>EMEA</td>\n      <td>Henriot</td>\n      <td>Paul</td>\n      <td>Small</td>\n    </tr>\n    <tr>\n      <th>2</th>\n      <td>10134</td>\n      <td>41</td>\n      <td>94.74</td>\n      <td>2</td>\n      <td>3884.34</td>\n      <td>7/1/2003 0:00</td>\n      <td>Shipped</td>\n      <td>3</td>\n      <td>7</td>\n      <td>2003</td>\n      <td>...</td>\n      <td>27 rue du Colonel Pierre Avia</td>\n      <td>NaN</td>\n      <td>Paris</td>\n      <td>NaN</td>\n      <td>75508</td>\n      <td>France</td>\n      <td>EMEA</td>\n      <td>Da Cunha</td>\n      <td>Daniel</td>\n      <td>Medium</td>\n    </tr>\n    <tr>\n      <th>3</th>\n      <td>10145</td>\n      <td>45</td>\n      <td>83.26</td>\n      <td>6</td>\n      <td>3746.70</td>\n      <td>8/25/2003 0:00</td>\n      <td>Shipped</td>\n      <td>3</td>\n      <td>8</td>\n      <td>2003</td>\n      <td>...</td>\n      <td>78934 Hillside Dr.</td>\n      <td>NaN</td>\n      <td>Pasadena</td>\n      <td>CA</td>\n      <td>90003</td>\n      <td>USA</td>\n      <td>NaN</td>\n      <td>Young</td>\n      <td>Julie</td>\n      <td>Medium</td>\n    </tr>\n    <tr>\n      <th>4</th>\n      <td>10159</td>\n      <td>49</td>\n      <td>100.00</td>\n      <td>14</td>\n      <td>5205.27</td>\n      <td>10/10/2003 0:00</td>\n      <td>Shipped</td>\n      <td>4</td>\n      <td>10</td>\n      <td>2003</td>\n      <td>...</td>\n      <td>7734 Strong St.</td>\n      <td>NaN</td>\n      <td>San Francisco</td>\n      <td>CA</td>\n      <td>NaN</td>\n      <td>USA</td>\n      <td>NaN</td>\n      <td>Brown</td>\n      <td>Julie</td>\n      <td>Medium</td>\n    </tr>\n  </tbody>\n</table>\n<p>5 rows × 25 columns</p>\n</div>"
     },
     "execution_count": 2,
     "metadata": {},
     "output_type": "execute_result"
    }
   ],
   "source": [
    "df = pd.read_csv('datasets/sales_data_sample.csv', encoding='unicode_escape')\n",
    "df.head()"
   ],
   "metadata": {
    "collapsed": false
   }
  },
  {
   "cell_type": "code",
   "execution_count": 3,
   "outputs": [
    {
     "data": {
      "text/plain": "ORDERNUMBER           int64\nQUANTITYORDERED       int64\nPRICEEACH           float64\nORDERLINENUMBER       int64\nSALES               float64\nORDERDATE            object\nSTATUS               object\nQTR_ID                int64\nMONTH_ID              int64\nYEAR_ID               int64\nPRODUCTLINE          object\nMSRP                  int64\nPRODUCTCODE          object\nCUSTOMERNAME         object\nPHONE                object\nADDRESSLINE1         object\nADDRESSLINE2         object\nCITY                 object\nSTATE                object\nPOSTALCODE           object\nCOUNTRY              object\nTERRITORY            object\nCONTACTLASTNAME      object\nCONTACTFIRSTNAME     object\nDEALSIZE             object\ndtype: object"
     },
     "execution_count": 3,
     "metadata": {},
     "output_type": "execute_result"
    }
   ],
   "source": [
    "# Inspecting data types\n",
    "df.dtypes"
   ],
   "metadata": {
    "collapsed": false
   }
  },
  {
   "cell_type": "code",
   "execution_count": 4,
   "outputs": [
    {
     "data": {
      "text/plain": "   ORDERNUMBER  QUANTITYORDERED  PRICEEACH  ORDERLINENUMBER    SALES  \\\n0        10107               30      95.70                2  2871.00   \n1        10121               34      81.35                5  2765.90   \n2        10134               41      94.74                2  3884.34   \n3        10145               45      83.26                6  3746.70   \n4        10159               49     100.00               14  5205.27   \n\n          ORDERDATE   STATUS  QTR_ID  MONTH_ID  YEAR_ID  ...  \\\n0  2003-02-24 00:00  Shipped       1         2     2003  ...   \n1  2003-05-07 00:00  Shipped       2         5     2003  ...   \n2  2003-07-01 00:00  Shipped       3         7     2003  ...   \n3  2003-08-25 00:00  Shipped       3         8     2003  ...   \n4  2003-10-10 00:00  Shipped       4        10     2003  ...   \n\n                    ADDRESSLINE1  ADDRESSLINE2           CITY STATE  \\\n0        897 Long Airport Avenue           NaN            NYC    NY   \n1             59 rue de l'Abbaye           NaN          Reims   NaN   \n2  27 rue du Colonel Pierre Avia           NaN          Paris   NaN   \n3             78934 Hillside Dr.           NaN       Pasadena    CA   \n4                7734 Strong St.           NaN  San Francisco    CA   \n\n  POSTALCODE COUNTRY TERRITORY CONTACTLASTNAME CONTACTFIRSTNAME DEALSIZE  \n0      10022     USA       NaN              Yu             Kwai    Small  \n1      51100  France      EMEA         Henriot             Paul    Small  \n2      75508  France      EMEA        Da Cunha           Daniel   Medium  \n3      90003     USA       NaN           Young            Julie   Medium  \n4        NaN     USA       NaN           Brown            Julie   Medium  \n\n[5 rows x 25 columns]",
      "text/html": "<div>\n<style scoped>\n    .dataframe tbody tr th:only-of-type {\n        vertical-align: middle;\n    }\n\n    .dataframe tbody tr th {\n        vertical-align: top;\n    }\n\n    .dataframe thead th {\n        text-align: right;\n    }\n</style>\n<table border=\"1\" class=\"dataframe\">\n  <thead>\n    <tr style=\"text-align: right;\">\n      <th></th>\n      <th>ORDERNUMBER</th>\n      <th>QUANTITYORDERED</th>\n      <th>PRICEEACH</th>\n      <th>ORDERLINENUMBER</th>\n      <th>SALES</th>\n      <th>ORDERDATE</th>\n      <th>STATUS</th>\n      <th>QTR_ID</th>\n      <th>MONTH_ID</th>\n      <th>YEAR_ID</th>\n      <th>...</th>\n      <th>ADDRESSLINE1</th>\n      <th>ADDRESSLINE2</th>\n      <th>CITY</th>\n      <th>STATE</th>\n      <th>POSTALCODE</th>\n      <th>COUNTRY</th>\n      <th>TERRITORY</th>\n      <th>CONTACTLASTNAME</th>\n      <th>CONTACTFIRSTNAME</th>\n      <th>DEALSIZE</th>\n    </tr>\n  </thead>\n  <tbody>\n    <tr>\n      <th>0</th>\n      <td>10107</td>\n      <td>30</td>\n      <td>95.70</td>\n      <td>2</td>\n      <td>2871.00</td>\n      <td>2003-02-24 00:00</td>\n      <td>Shipped</td>\n      <td>1</td>\n      <td>2</td>\n      <td>2003</td>\n      <td>...</td>\n      <td>897 Long Airport Avenue</td>\n      <td>NaN</td>\n      <td>NYC</td>\n      <td>NY</td>\n      <td>10022</td>\n      <td>USA</td>\n      <td>NaN</td>\n      <td>Yu</td>\n      <td>Kwai</td>\n      <td>Small</td>\n    </tr>\n    <tr>\n      <th>1</th>\n      <td>10121</td>\n      <td>34</td>\n      <td>81.35</td>\n      <td>5</td>\n      <td>2765.90</td>\n      <td>2003-05-07 00:00</td>\n      <td>Shipped</td>\n      <td>2</td>\n      <td>5</td>\n      <td>2003</td>\n      <td>...</td>\n      <td>59 rue de l'Abbaye</td>\n      <td>NaN</td>\n      <td>Reims</td>\n      <td>NaN</td>\n      <td>51100</td>\n      <td>France</td>\n      <td>EMEA</td>\n      <td>Henriot</td>\n      <td>Paul</td>\n      <td>Small</td>\n    </tr>\n    <tr>\n      <th>2</th>\n      <td>10134</td>\n      <td>41</td>\n      <td>94.74</td>\n      <td>2</td>\n      <td>3884.34</td>\n      <td>2003-07-01 00:00</td>\n      <td>Shipped</td>\n      <td>3</td>\n      <td>7</td>\n      <td>2003</td>\n      <td>...</td>\n      <td>27 rue du Colonel Pierre Avia</td>\n      <td>NaN</td>\n      <td>Paris</td>\n      <td>NaN</td>\n      <td>75508</td>\n      <td>France</td>\n      <td>EMEA</td>\n      <td>Da Cunha</td>\n      <td>Daniel</td>\n      <td>Medium</td>\n    </tr>\n    <tr>\n      <th>3</th>\n      <td>10145</td>\n      <td>45</td>\n      <td>83.26</td>\n      <td>6</td>\n      <td>3746.70</td>\n      <td>2003-08-25 00:00</td>\n      <td>Shipped</td>\n      <td>3</td>\n      <td>8</td>\n      <td>2003</td>\n      <td>...</td>\n      <td>78934 Hillside Dr.</td>\n      <td>NaN</td>\n      <td>Pasadena</td>\n      <td>CA</td>\n      <td>90003</td>\n      <td>USA</td>\n      <td>NaN</td>\n      <td>Young</td>\n      <td>Julie</td>\n      <td>Medium</td>\n    </tr>\n    <tr>\n      <th>4</th>\n      <td>10159</td>\n      <td>49</td>\n      <td>100.00</td>\n      <td>14</td>\n      <td>5205.27</td>\n      <td>2003-10-10 00:00</td>\n      <td>Shipped</td>\n      <td>4</td>\n      <td>10</td>\n      <td>2003</td>\n      <td>...</td>\n      <td>7734 Strong St.</td>\n      <td>NaN</td>\n      <td>San Francisco</td>\n      <td>CA</td>\n      <td>NaN</td>\n      <td>USA</td>\n      <td>NaN</td>\n      <td>Brown</td>\n      <td>Julie</td>\n      <td>Medium</td>\n    </tr>\n  </tbody>\n</table>\n<p>5 rows × 25 columns</p>\n</div>"
     },
     "execution_count": 4,
     "metadata": {},
     "output_type": "execute_result"
    }
   ],
   "source": [
    "# Converting to datetime and fix format\n",
    "df['ORDERDATE'] = pd.to_datetime(df.ORDERDATE, format='%m/%d/%Y %H:%M')\n",
    "df['ORDERDATE'] = df.ORDERDATE.dt.strftime('%Y-%m-%d %H:%M')\n",
    "df.head()"
   ],
   "metadata": {
    "collapsed": false
   }
  },
  {
   "cell_type": "code",
   "execution_count": 5,
   "outputs": [
    {
     "data": {
      "text/plain": "      ORDERNUMBER  QUANTITYORDERED  PRICEEACH  ORDERLINENUMBER    SALES  \\\n2818        10350               20     100.00               15  2244.40   \n2819        10373               29     100.00                1  3978.51   \n2820        10386               43     100.00                4  5417.57   \n2821        10397               34      62.24                1  2116.16   \n2822        10414               47      65.52                9  3079.44   \n\n      ORDERDATE    STATUS  QTR_ID  MONTH_ID  YEAR_ID  ...  \\\n2818 2004-12-02   Shipped       4        12     2004  ...   \n2819 2005-01-31   Shipped       1         1     2005  ...   \n2820 2005-03-01  Resolved       1         3     2005  ...   \n2821 2005-03-28   Shipped       1         3     2005  ...   \n2822 2005-05-06   On Hold       2         5     2005  ...   \n\n               ADDRESSLINE1  ADDRESSLINE2      CITY STATE POSTALCODE  COUNTRY  \\\n2818     C/ Moralzarzal, 86           NaN    Madrid   NaN      28034    Spain   \n2819            Torikatu 38           NaN      Oulu   NaN      90110  Finland   \n2820     C/ Moralzarzal, 86           NaN    Madrid   NaN      28034    Spain   \n2821  1 rue Alsace-Lorraine           NaN  Toulouse   NaN      31000   France   \n2822     8616 Spinnaker Dr.           NaN    Boston    MA      51003      USA   \n\n     TERRITORY CONTACTLASTNAME CONTACTFIRSTNAME DEALSIZE  \n2818      EMEA          Freyre            Diego    Small  \n2819      EMEA       Koskitalo           Pirkko   Medium  \n2820      EMEA          Freyre            Diego   Medium  \n2821      EMEA          Roulet          Annette    Small  \n2822       NaN         Yoshido             Juri   Medium  \n\n[5 rows x 25 columns]",
      "text/html": "<div>\n<style scoped>\n    .dataframe tbody tr th:only-of-type {\n        vertical-align: middle;\n    }\n\n    .dataframe tbody tr th {\n        vertical-align: top;\n    }\n\n    .dataframe thead th {\n        text-align: right;\n    }\n</style>\n<table border=\"1\" class=\"dataframe\">\n  <thead>\n    <tr style=\"text-align: right;\">\n      <th></th>\n      <th>ORDERNUMBER</th>\n      <th>QUANTITYORDERED</th>\n      <th>PRICEEACH</th>\n      <th>ORDERLINENUMBER</th>\n      <th>SALES</th>\n      <th>ORDERDATE</th>\n      <th>STATUS</th>\n      <th>QTR_ID</th>\n      <th>MONTH_ID</th>\n      <th>YEAR_ID</th>\n      <th>...</th>\n      <th>ADDRESSLINE1</th>\n      <th>ADDRESSLINE2</th>\n      <th>CITY</th>\n      <th>STATE</th>\n      <th>POSTALCODE</th>\n      <th>COUNTRY</th>\n      <th>TERRITORY</th>\n      <th>CONTACTLASTNAME</th>\n      <th>CONTACTFIRSTNAME</th>\n      <th>DEALSIZE</th>\n    </tr>\n  </thead>\n  <tbody>\n    <tr>\n      <th>2818</th>\n      <td>10350</td>\n      <td>20</td>\n      <td>100.00</td>\n      <td>15</td>\n      <td>2244.40</td>\n      <td>2004-12-02</td>\n      <td>Shipped</td>\n      <td>4</td>\n      <td>12</td>\n      <td>2004</td>\n      <td>...</td>\n      <td>C/ Moralzarzal, 86</td>\n      <td>NaN</td>\n      <td>Madrid</td>\n      <td>NaN</td>\n      <td>28034</td>\n      <td>Spain</td>\n      <td>EMEA</td>\n      <td>Freyre</td>\n      <td>Diego</td>\n      <td>Small</td>\n    </tr>\n    <tr>\n      <th>2819</th>\n      <td>10373</td>\n      <td>29</td>\n      <td>100.00</td>\n      <td>1</td>\n      <td>3978.51</td>\n      <td>2005-01-31</td>\n      <td>Shipped</td>\n      <td>1</td>\n      <td>1</td>\n      <td>2005</td>\n      <td>...</td>\n      <td>Torikatu 38</td>\n      <td>NaN</td>\n      <td>Oulu</td>\n      <td>NaN</td>\n      <td>90110</td>\n      <td>Finland</td>\n      <td>EMEA</td>\n      <td>Koskitalo</td>\n      <td>Pirkko</td>\n      <td>Medium</td>\n    </tr>\n    <tr>\n      <th>2820</th>\n      <td>10386</td>\n      <td>43</td>\n      <td>100.00</td>\n      <td>4</td>\n      <td>5417.57</td>\n      <td>2005-03-01</td>\n      <td>Resolved</td>\n      <td>1</td>\n      <td>3</td>\n      <td>2005</td>\n      <td>...</td>\n      <td>C/ Moralzarzal, 86</td>\n      <td>NaN</td>\n      <td>Madrid</td>\n      <td>NaN</td>\n      <td>28034</td>\n      <td>Spain</td>\n      <td>EMEA</td>\n      <td>Freyre</td>\n      <td>Diego</td>\n      <td>Medium</td>\n    </tr>\n    <tr>\n      <th>2821</th>\n      <td>10397</td>\n      <td>34</td>\n      <td>62.24</td>\n      <td>1</td>\n      <td>2116.16</td>\n      <td>2005-03-28</td>\n      <td>Shipped</td>\n      <td>1</td>\n      <td>3</td>\n      <td>2005</td>\n      <td>...</td>\n      <td>1 rue Alsace-Lorraine</td>\n      <td>NaN</td>\n      <td>Toulouse</td>\n      <td>NaN</td>\n      <td>31000</td>\n      <td>France</td>\n      <td>EMEA</td>\n      <td>Roulet</td>\n      <td>Annette</td>\n      <td>Small</td>\n    </tr>\n    <tr>\n      <th>2822</th>\n      <td>10414</td>\n      <td>47</td>\n      <td>65.52</td>\n      <td>9</td>\n      <td>3079.44</td>\n      <td>2005-05-06</td>\n      <td>On Hold</td>\n      <td>2</td>\n      <td>5</td>\n      <td>2005</td>\n      <td>...</td>\n      <td>8616 Spinnaker Dr.</td>\n      <td>NaN</td>\n      <td>Boston</td>\n      <td>MA</td>\n      <td>51003</td>\n      <td>USA</td>\n      <td>NaN</td>\n      <td>Yoshido</td>\n      <td>Juri</td>\n      <td>Medium</td>\n    </tr>\n  </tbody>\n</table>\n<p>5 rows × 25 columns</p>\n</div>"
     },
     "execution_count": 5,
     "metadata": {},
     "output_type": "execute_result"
    }
   ],
   "source": [
    "df['ORDERDATE'] = pd.to_datetime(df.ORDERDATE)\n",
    "df.tail()"
   ],
   "metadata": {
    "collapsed": false
   }
  },
  {
   "cell_type": "markdown",
   "source": [
    "## Working dimension Time"
   ],
   "metadata": {
    "collapsed": false
   }
  },
  {
   "cell_type": "code",
   "execution_count": 17,
   "outputs": [
    {
     "data": {
      "text/plain": "   ORDERDATE  MONTH_ID  QTR_ID  YEAR_ID\n0 2003-02-24         2       1     2003\n1 2003-05-07         5       2     2003\n2 2003-07-01         7       3     2003\n3 2003-08-25         8       3     2003\n4 2003-10-10        10       4     2003",
      "text/html": "<div>\n<style scoped>\n    .dataframe tbody tr th:only-of-type {\n        vertical-align: middle;\n    }\n\n    .dataframe tbody tr th {\n        vertical-align: top;\n    }\n\n    .dataframe thead th {\n        text-align: right;\n    }\n</style>\n<table border=\"1\" class=\"dataframe\">\n  <thead>\n    <tr style=\"text-align: right;\">\n      <th></th>\n      <th>ORDERDATE</th>\n      <th>MONTH_ID</th>\n      <th>QTR_ID</th>\n      <th>YEAR_ID</th>\n    </tr>\n  </thead>\n  <tbody>\n    <tr>\n      <th>0</th>\n      <td>2003-02-24</td>\n      <td>2</td>\n      <td>1</td>\n      <td>2003</td>\n    </tr>\n    <tr>\n      <th>1</th>\n      <td>2003-05-07</td>\n      <td>5</td>\n      <td>2</td>\n      <td>2003</td>\n    </tr>\n    <tr>\n      <th>2</th>\n      <td>2003-07-01</td>\n      <td>7</td>\n      <td>3</td>\n      <td>2003</td>\n    </tr>\n    <tr>\n      <th>3</th>\n      <td>2003-08-25</td>\n      <td>8</td>\n      <td>3</td>\n      <td>2003</td>\n    </tr>\n    <tr>\n      <th>4</th>\n      <td>2003-10-10</td>\n      <td>10</td>\n      <td>4</td>\n      <td>2003</td>\n    </tr>\n  </tbody>\n</table>\n</div>"
     },
     "execution_count": 17,
     "metadata": {},
     "output_type": "execute_result"
    }
   ],
   "source": [
    "df_time = df[['ORDERDATE', 'MONTH_ID', 'QTR_ID', 'YEAR_ID']].copy(deep=True)\n",
    "df_time.head()"
   ],
   "metadata": {
    "collapsed": false
   }
  },
  {
   "cell_type": "markdown",
   "source": [
    "## First step will be getting derivate values\n",
    "\n",
    "### At this moment the dimension time should have the following fields:\n",
    "- dateid:: yyyymmdd\n",
    "- day:: dd\n",
    "- dayname:: (monday-tuesday- and so on)\n",
    "- month:: mm\n",
    "- monthname:: (January-February- and so on)\n",
    "- is_day_of_week:: True/False\n",
    "- MonthNumberByYear:: 2023-02\n",
    "- Weeknumber\n",
    "- Semester\n",
    "- Quarter\n",
    "- Year"
   ],
   "metadata": {
    "collapsed": false
   }
  },
  {
   "cell_type": "code",
   "execution_count": 18,
   "outputs": [
    {
     "data": {
      "text/plain": "    FULLDATE  MONTH  QUARTER  YEAR    DATEID  DAY    DAYNAME MONTHNAME  \\\n0 2003-02-24      2        1  2003  20030224   24     Monday  February   \n1 2003-05-07      5        2  2003  20030507    7  Wednesday       May   \n2 2003-07-01      7        3  2003  20030701    1    Tuesday      July   \n3 2003-08-25      8        3  2003  20030825   25     Monday    August   \n4 2003-10-10     10        4  2003  20031010   10     Friday   October   \n\n   WEEKNUMBER  IS_WEEKDAY  SEMESTER MONTHNUMBERBYYEAR  \n0           9           0         1           2003-02  \n1          19           1         1           2003-05  \n2          27           1         2           2003-07  \n3          35           0         2           2003-08  \n4          41           1         2           2003-10  ",
      "text/html": "<div>\n<style scoped>\n    .dataframe tbody tr th:only-of-type {\n        vertical-align: middle;\n    }\n\n    .dataframe tbody tr th {\n        vertical-align: top;\n    }\n\n    .dataframe thead th {\n        text-align: right;\n    }\n</style>\n<table border=\"1\" class=\"dataframe\">\n  <thead>\n    <tr style=\"text-align: right;\">\n      <th></th>\n      <th>FULLDATE</th>\n      <th>MONTH</th>\n      <th>QUARTER</th>\n      <th>YEAR</th>\n      <th>DATEID</th>\n      <th>DAY</th>\n      <th>DAYNAME</th>\n      <th>MONTHNAME</th>\n      <th>WEEKNUMBER</th>\n      <th>IS_WEEKDAY</th>\n      <th>SEMESTER</th>\n      <th>MONTHNUMBERBYYEAR</th>\n    </tr>\n  </thead>\n  <tbody>\n    <tr>\n      <th>0</th>\n      <td>2003-02-24</td>\n      <td>2</td>\n      <td>1</td>\n      <td>2003</td>\n      <td>20030224</td>\n      <td>24</td>\n      <td>Monday</td>\n      <td>February</td>\n      <td>9</td>\n      <td>0</td>\n      <td>1</td>\n      <td>2003-02</td>\n    </tr>\n    <tr>\n      <th>1</th>\n      <td>2003-05-07</td>\n      <td>5</td>\n      <td>2</td>\n      <td>2003</td>\n      <td>20030507</td>\n      <td>7</td>\n      <td>Wednesday</td>\n      <td>May</td>\n      <td>19</td>\n      <td>1</td>\n      <td>1</td>\n      <td>2003-05</td>\n    </tr>\n    <tr>\n      <th>2</th>\n      <td>2003-07-01</td>\n      <td>7</td>\n      <td>3</td>\n      <td>2003</td>\n      <td>20030701</td>\n      <td>1</td>\n      <td>Tuesday</td>\n      <td>July</td>\n      <td>27</td>\n      <td>1</td>\n      <td>2</td>\n      <td>2003-07</td>\n    </tr>\n    <tr>\n      <th>3</th>\n      <td>2003-08-25</td>\n      <td>8</td>\n      <td>3</td>\n      <td>2003</td>\n      <td>20030825</td>\n      <td>25</td>\n      <td>Monday</td>\n      <td>August</td>\n      <td>35</td>\n      <td>0</td>\n      <td>2</td>\n      <td>2003-08</td>\n    </tr>\n    <tr>\n      <th>4</th>\n      <td>2003-10-10</td>\n      <td>10</td>\n      <td>4</td>\n      <td>2003</td>\n      <td>20031010</td>\n      <td>10</td>\n      <td>Friday</td>\n      <td>October</td>\n      <td>41</td>\n      <td>1</td>\n      <td>2</td>\n      <td>2003-10</td>\n    </tr>\n  </tbody>\n</table>\n</div>"
     },
     "execution_count": 18,
     "metadata": {},
     "output_type": "execute_result"
    }
   ],
   "source": [
    "# Create dateid\n",
    "df_time['DATEID'] = df_time.ORDERDATE.dt.strftime('%Y%m%d')\n",
    "df_time['DAY']    = df_time.ORDERDATE.dt.day\n",
    "df_time['DAYNAME']    = df_time.ORDERDATE.dt.day_name()\n",
    "df_time['MONTHNAME']  = df_time.ORDERDATE.dt.month_name()\n",
    "df_time['WEEKNUMBER']  = df_time.ORDERDATE.dt.isocalendar().week\n",
    "df_time['IS_WEEKDAY'] = df_time['ORDERDATE'].apply(lambda x: 1 if x.weekday() else 0)\n",
    "df_time['SEMESTER'] = df_time['MONTH_ID'].apply(lambda x: 1 if x < 7 else 2)\n",
    "df_time['MONTHNUMBERBYYEAR'] = df_time.ORDERDATE.dt.strftime('%Y-%m')\n",
    "df_time.rename(columns={\"ORDERDATE\": \"FULLDATE\", 'YEAR_ID': 'YEAR', 'QTR_ID': 'QUARTER', 'MONTH_ID': 'MONTH'}, inplace=True)\n",
    "df_time.head()"
   ],
   "metadata": {
    "collapsed": false
   }
  },
  {
   "cell_type": "code",
   "execution_count": 19,
   "outputs": [
    {
     "data": {
      "text/plain": "     DATEID  YEAR  SEMESTER  QUARTER MONTHNAME  MONTH MONTHNUMBERBYYEAR  \\\n0  20030224  2003         1        1  February      2           2003-02   \n1  20030507  2003         1        2       May      5           2003-05   \n2  20030701  2003         2        3      July      7           2003-07   \n3  20030825  2003         2        3    August      8           2003-08   \n4  20031010  2003         2        4   October     10           2003-10   \n\n   WEEKNUMBER    DAYNAME  DAY  IS_WEEKDAY   FULLDATE  \n0           9     Monday   24           0 2003-02-24  \n1          19  Wednesday    7           1 2003-05-07  \n2          27    Tuesday    1           1 2003-07-01  \n3          35     Monday   25           0 2003-08-25  \n4          41     Friday   10           1 2003-10-10  ",
      "text/html": "<div>\n<style scoped>\n    .dataframe tbody tr th:only-of-type {\n        vertical-align: middle;\n    }\n\n    .dataframe tbody tr th {\n        vertical-align: top;\n    }\n\n    .dataframe thead th {\n        text-align: right;\n    }\n</style>\n<table border=\"1\" class=\"dataframe\">\n  <thead>\n    <tr style=\"text-align: right;\">\n      <th></th>\n      <th>DATEID</th>\n      <th>YEAR</th>\n      <th>SEMESTER</th>\n      <th>QUARTER</th>\n      <th>MONTHNAME</th>\n      <th>MONTH</th>\n      <th>MONTHNUMBERBYYEAR</th>\n      <th>WEEKNUMBER</th>\n      <th>DAYNAME</th>\n      <th>DAY</th>\n      <th>IS_WEEKDAY</th>\n      <th>FULLDATE</th>\n    </tr>\n  </thead>\n  <tbody>\n    <tr>\n      <th>0</th>\n      <td>20030224</td>\n      <td>2003</td>\n      <td>1</td>\n      <td>1</td>\n      <td>February</td>\n      <td>2</td>\n      <td>2003-02</td>\n      <td>9</td>\n      <td>Monday</td>\n      <td>24</td>\n      <td>0</td>\n      <td>2003-02-24</td>\n    </tr>\n    <tr>\n      <th>1</th>\n      <td>20030507</td>\n      <td>2003</td>\n      <td>1</td>\n      <td>2</td>\n      <td>May</td>\n      <td>5</td>\n      <td>2003-05</td>\n      <td>19</td>\n      <td>Wednesday</td>\n      <td>7</td>\n      <td>1</td>\n      <td>2003-05-07</td>\n    </tr>\n    <tr>\n      <th>2</th>\n      <td>20030701</td>\n      <td>2003</td>\n      <td>2</td>\n      <td>3</td>\n      <td>July</td>\n      <td>7</td>\n      <td>2003-07</td>\n      <td>27</td>\n      <td>Tuesday</td>\n      <td>1</td>\n      <td>1</td>\n      <td>2003-07-01</td>\n    </tr>\n    <tr>\n      <th>3</th>\n      <td>20030825</td>\n      <td>2003</td>\n      <td>2</td>\n      <td>3</td>\n      <td>August</td>\n      <td>8</td>\n      <td>2003-08</td>\n      <td>35</td>\n      <td>Monday</td>\n      <td>25</td>\n      <td>0</td>\n      <td>2003-08-25</td>\n    </tr>\n    <tr>\n      <th>4</th>\n      <td>20031010</td>\n      <td>2003</td>\n      <td>2</td>\n      <td>4</td>\n      <td>October</td>\n      <td>10</td>\n      <td>2003-10</td>\n      <td>41</td>\n      <td>Friday</td>\n      <td>10</td>\n      <td>1</td>\n      <td>2003-10-10</td>\n    </tr>\n  </tbody>\n</table>\n</div>"
     },
     "execution_count": 19,
     "metadata": {},
     "output_type": "execute_result"
    }
   ],
   "source": [
    "# Reorder dataframe\n",
    "cols = ['DATEID', 'YEAR', 'SEMESTER', 'QUARTER', 'MONTHNAME', 'MONTH', 'MONTHNUMBERBYYEAR', 'WEEKNUMBER', 'DAYNAME', 'DAY', 'IS_WEEKDAY', 'FULLDATE']\n",
    "df_time = df_time.reindex(columns=cols)\n",
    "df_time.head()"
   ],
   "metadata": {
    "collapsed": false
   }
  },
  {
   "cell_type": "code",
   "execution_count": 25,
   "outputs": [
    {
     "name": "stdout",
     "output_type": "stream",
     "text": [
      "Dimension Time shape: (2823, 12)\n"
     ]
    }
   ],
   "source": [
    "print(f'Dimension Time shape: {df_time.shape}')"
   ],
   "metadata": {
    "collapsed": false
   }
  },
  {
   "cell_type": "code",
   "execution_count": 27,
   "outputs": [
    {
     "name": "stdout",
     "output_type": "stream",
     "text": [
      "Dimension Time shape after dedup: (252, 12)\n"
     ]
    }
   ],
   "source": [
    "df_time.drop_duplicates(keep='first',inplace=True)\n",
    "print(f'Dimension Time shape after dedup: {df_time.shape}')"
   ],
   "metadata": {
    "collapsed": false
   }
  },
  {
   "cell_type": "code",
   "execution_count": 33,
   "outputs": [],
   "source": [
    "df_time.sort_values(by=['FULLDATE'], inplace=True)\n",
    "df_time.to_csv('output_files/dim_time.csv', index=False)"
   ],
   "metadata": {
    "collapsed": false
   }
  },
  {
   "cell_type": "markdown",
   "source": [
    "## Working dimension Location/geography"
   ],
   "metadata": {
    "collapsed": false
   }
  },
  {
   "cell_type": "code",
   "execution_count": 22,
   "outputs": [
    {
     "data": {
      "text/plain": "   ORDERNUMBER  QUANTITYORDERED  PRICEEACH  ORDERLINENUMBER    SALES  \\\n0        10107               30      95.70                2  2871.00   \n1        10121               34      81.35                5  2765.90   \n2        10134               41      94.74                2  3884.34   \n3        10145               45      83.26                6  3746.70   \n4        10159               49     100.00               14  5205.27   \n\n   ORDERDATE   STATUS  QTR_ID  MONTH_ID  YEAR_ID  ...  \\\n0 2003-02-24  Shipped       1         2     2003  ...   \n1 2003-05-07  Shipped       2         5     2003  ...   \n2 2003-07-01  Shipped       3         7     2003  ...   \n3 2003-08-25  Shipped       3         8     2003  ...   \n4 2003-10-10  Shipped       4        10     2003  ...   \n\n                    ADDRESSLINE1  ADDRESSLINE2           CITY STATE  \\\n0        897 Long Airport Avenue           NaN            NYC    NY   \n1             59 rue de l'Abbaye           NaN          Reims   NaN   \n2  27 rue du Colonel Pierre Avia           NaN          Paris   NaN   \n3             78934 Hillside Dr.           NaN       Pasadena    CA   \n4                7734 Strong St.           NaN  San Francisco    CA   \n\n  POSTALCODE COUNTRY TERRITORY CONTACTLASTNAME CONTACTFIRSTNAME DEALSIZE  \n0      10022     USA       NaN              Yu             Kwai    Small  \n1      51100  France      EMEA         Henriot             Paul    Small  \n2      75508  France      EMEA        Da Cunha           Daniel   Medium  \n3      90003     USA       NaN           Young            Julie   Medium  \n4        NaN     USA       NaN           Brown            Julie   Medium  \n\n[5 rows x 25 columns]",
      "text/html": "<div>\n<style scoped>\n    .dataframe tbody tr th:only-of-type {\n        vertical-align: middle;\n    }\n\n    .dataframe tbody tr th {\n        vertical-align: top;\n    }\n\n    .dataframe thead th {\n        text-align: right;\n    }\n</style>\n<table border=\"1\" class=\"dataframe\">\n  <thead>\n    <tr style=\"text-align: right;\">\n      <th></th>\n      <th>ORDERNUMBER</th>\n      <th>QUANTITYORDERED</th>\n      <th>PRICEEACH</th>\n      <th>ORDERLINENUMBER</th>\n      <th>SALES</th>\n      <th>ORDERDATE</th>\n      <th>STATUS</th>\n      <th>QTR_ID</th>\n      <th>MONTH_ID</th>\n      <th>YEAR_ID</th>\n      <th>...</th>\n      <th>ADDRESSLINE1</th>\n      <th>ADDRESSLINE2</th>\n      <th>CITY</th>\n      <th>STATE</th>\n      <th>POSTALCODE</th>\n      <th>COUNTRY</th>\n      <th>TERRITORY</th>\n      <th>CONTACTLASTNAME</th>\n      <th>CONTACTFIRSTNAME</th>\n      <th>DEALSIZE</th>\n    </tr>\n  </thead>\n  <tbody>\n    <tr>\n      <th>0</th>\n      <td>10107</td>\n      <td>30</td>\n      <td>95.70</td>\n      <td>2</td>\n      <td>2871.00</td>\n      <td>2003-02-24</td>\n      <td>Shipped</td>\n      <td>1</td>\n      <td>2</td>\n      <td>2003</td>\n      <td>...</td>\n      <td>897 Long Airport Avenue</td>\n      <td>NaN</td>\n      <td>NYC</td>\n      <td>NY</td>\n      <td>10022</td>\n      <td>USA</td>\n      <td>NaN</td>\n      <td>Yu</td>\n      <td>Kwai</td>\n      <td>Small</td>\n    </tr>\n    <tr>\n      <th>1</th>\n      <td>10121</td>\n      <td>34</td>\n      <td>81.35</td>\n      <td>5</td>\n      <td>2765.90</td>\n      <td>2003-05-07</td>\n      <td>Shipped</td>\n      <td>2</td>\n      <td>5</td>\n      <td>2003</td>\n      <td>...</td>\n      <td>59 rue de l'Abbaye</td>\n      <td>NaN</td>\n      <td>Reims</td>\n      <td>NaN</td>\n      <td>51100</td>\n      <td>France</td>\n      <td>EMEA</td>\n      <td>Henriot</td>\n      <td>Paul</td>\n      <td>Small</td>\n    </tr>\n    <tr>\n      <th>2</th>\n      <td>10134</td>\n      <td>41</td>\n      <td>94.74</td>\n      <td>2</td>\n      <td>3884.34</td>\n      <td>2003-07-01</td>\n      <td>Shipped</td>\n      <td>3</td>\n      <td>7</td>\n      <td>2003</td>\n      <td>...</td>\n      <td>27 rue du Colonel Pierre Avia</td>\n      <td>NaN</td>\n      <td>Paris</td>\n      <td>NaN</td>\n      <td>75508</td>\n      <td>France</td>\n      <td>EMEA</td>\n      <td>Da Cunha</td>\n      <td>Daniel</td>\n      <td>Medium</td>\n    </tr>\n    <tr>\n      <th>3</th>\n      <td>10145</td>\n      <td>45</td>\n      <td>83.26</td>\n      <td>6</td>\n      <td>3746.70</td>\n      <td>2003-08-25</td>\n      <td>Shipped</td>\n      <td>3</td>\n      <td>8</td>\n      <td>2003</td>\n      <td>...</td>\n      <td>78934 Hillside Dr.</td>\n      <td>NaN</td>\n      <td>Pasadena</td>\n      <td>CA</td>\n      <td>90003</td>\n      <td>USA</td>\n      <td>NaN</td>\n      <td>Young</td>\n      <td>Julie</td>\n      <td>Medium</td>\n    </tr>\n    <tr>\n      <th>4</th>\n      <td>10159</td>\n      <td>49</td>\n      <td>100.00</td>\n      <td>14</td>\n      <td>5205.27</td>\n      <td>2003-10-10</td>\n      <td>Shipped</td>\n      <td>4</td>\n      <td>10</td>\n      <td>2003</td>\n      <td>...</td>\n      <td>7734 Strong St.</td>\n      <td>NaN</td>\n      <td>San Francisco</td>\n      <td>CA</td>\n      <td>NaN</td>\n      <td>USA</td>\n      <td>NaN</td>\n      <td>Brown</td>\n      <td>Julie</td>\n      <td>Medium</td>\n    </tr>\n  </tbody>\n</table>\n<p>5 rows × 25 columns</p>\n</div>"
     },
     "execution_count": 22,
     "metadata": {},
     "output_type": "execute_result"
    }
   ],
   "source": [
    "df.head()"
   ],
   "metadata": {
    "collapsed": false
   }
  },
  {
   "cell_type": "code",
   "execution_count": 23,
   "outputs": [
    {
     "data": {
      "text/plain": "            CITY STATE COUNTRY TERRITORY\n0            NYC    NY     USA       NaN\n1          Reims   NaN  France      EMEA\n2          Paris   NaN  France      EMEA\n3       Pasadena    CA     USA       NaN\n4  San Francisco    CA     USA       NaN",
      "text/html": "<div>\n<style scoped>\n    .dataframe tbody tr th:only-of-type {\n        vertical-align: middle;\n    }\n\n    .dataframe tbody tr th {\n        vertical-align: top;\n    }\n\n    .dataframe thead th {\n        text-align: right;\n    }\n</style>\n<table border=\"1\" class=\"dataframe\">\n  <thead>\n    <tr style=\"text-align: right;\">\n      <th></th>\n      <th>CITY</th>\n      <th>STATE</th>\n      <th>COUNTRY</th>\n      <th>TERRITORY</th>\n    </tr>\n  </thead>\n  <tbody>\n    <tr>\n      <th>0</th>\n      <td>NYC</td>\n      <td>NY</td>\n      <td>USA</td>\n      <td>NaN</td>\n    </tr>\n    <tr>\n      <th>1</th>\n      <td>Reims</td>\n      <td>NaN</td>\n      <td>France</td>\n      <td>EMEA</td>\n    </tr>\n    <tr>\n      <th>2</th>\n      <td>Paris</td>\n      <td>NaN</td>\n      <td>France</td>\n      <td>EMEA</td>\n    </tr>\n    <tr>\n      <th>3</th>\n      <td>Pasadena</td>\n      <td>CA</td>\n      <td>USA</td>\n      <td>NaN</td>\n    </tr>\n    <tr>\n      <th>4</th>\n      <td>San Francisco</td>\n      <td>CA</td>\n      <td>USA</td>\n      <td>NaN</td>\n    </tr>\n  </tbody>\n</table>\n</div>"
     },
     "execution_count": 23,
     "metadata": {},
     "output_type": "execute_result"
    }
   ],
   "source": [
    "df_geo = df[['CITY', 'STATE', 'COUNTRY', 'TERRITORY']].copy(deep=True)\n",
    "df_geo.head()"
   ],
   "metadata": {
    "collapsed": false
   }
  },
  {
   "cell_type": "markdown",
   "source": [],
   "metadata": {
    "collapsed": false
   }
  },
  {
   "cell_type": "markdown",
   "source": [
    "## Working dimension Products"
   ],
   "metadata": {
    "collapsed": false
   }
  },
  {
   "cell_type": "code",
   "execution_count": 24,
   "outputs": [
    {
     "data": {
      "text/plain": "  PRODUCTCODE  PRODUCTLINE  MSRP\n0    S10_1678  Motorcycles    95\n1    S10_1678  Motorcycles    95\n2    S10_1678  Motorcycles    95\n3    S10_1678  Motorcycles    95\n4    S10_1678  Motorcycles    95",
      "text/html": "<div>\n<style scoped>\n    .dataframe tbody tr th:only-of-type {\n        vertical-align: middle;\n    }\n\n    .dataframe tbody tr th {\n        vertical-align: top;\n    }\n\n    .dataframe thead th {\n        text-align: right;\n    }\n</style>\n<table border=\"1\" class=\"dataframe\">\n  <thead>\n    <tr style=\"text-align: right;\">\n      <th></th>\n      <th>PRODUCTCODE</th>\n      <th>PRODUCTLINE</th>\n      <th>MSRP</th>\n    </tr>\n  </thead>\n  <tbody>\n    <tr>\n      <th>0</th>\n      <td>S10_1678</td>\n      <td>Motorcycles</td>\n      <td>95</td>\n    </tr>\n    <tr>\n      <th>1</th>\n      <td>S10_1678</td>\n      <td>Motorcycles</td>\n      <td>95</td>\n    </tr>\n    <tr>\n      <th>2</th>\n      <td>S10_1678</td>\n      <td>Motorcycles</td>\n      <td>95</td>\n    </tr>\n    <tr>\n      <th>3</th>\n      <td>S10_1678</td>\n      <td>Motorcycles</td>\n      <td>95</td>\n    </tr>\n    <tr>\n      <th>4</th>\n      <td>S10_1678</td>\n      <td>Motorcycles</td>\n      <td>95</td>\n    </tr>\n  </tbody>\n</table>\n</div>"
     },
     "execution_count": 24,
     "metadata": {},
     "output_type": "execute_result"
    }
   ],
   "source": [
    "df_prod = df[['PRODUCTCODE', 'PRODUCTLINE', 'MSRP']].copy(deep=True)\n",
    "df_prod.head()"
   ],
   "metadata": {
    "collapsed": false
   }
  },
  {
   "cell_type": "code",
   "execution_count": null,
   "outputs": [],
   "source": [],
   "metadata": {
    "collapsed": false
   }
  }
 ],
 "metadata": {
  "kernelspec": {
   "display_name": "Python 3",
   "language": "python",
   "name": "python3"
  },
  "language_info": {
   "codemirror_mode": {
    "name": "ipython",
    "version": 2
   },
   "file_extension": ".py",
   "mimetype": "text/x-python",
   "name": "python",
   "nbconvert_exporter": "python",
   "pygments_lexer": "ipython2",
   "version": "2.7.6"
  }
 },
 "nbformat": 4,
 "nbformat_minor": 0
}
