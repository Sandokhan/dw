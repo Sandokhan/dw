{
 "cells": [
  {
   "cell_type": "code",
   "execution_count": 1,
   "metadata": {
    "collapsed": true,
    "ExecuteTime": {
     "start_time": "2023-04-11T20:19:49.751255Z",
     "end_time": "2023-04-11T20:19:50.942727Z"
    }
   },
   "outputs": [],
   "source": [
    "import pandas as pd"
   ]
  },
  {
   "cell_type": "code",
   "execution_count": 2,
   "outputs": [
    {
     "data": {
      "text/plain": "   ORDERNUMBER  QUANTITYORDERED  PRICEEACH  ORDERLINENUMBER    SALES  \\\n0        10107               30      95.70                2  2871.00   \n1        10121               34      81.35                5  2765.90   \n2        10134               41      94.74                2  3884.34   \n3        10145               45      83.26                6  3746.70   \n4        10159               49     100.00               14  5205.27   \n\n         ORDERDATE   STATUS  QTR_ID  MONTH_ID  YEAR_ID  ...  \\\n0   2/24/2003 0:00  Shipped       1         2     2003  ...   \n1    5/7/2003 0:00  Shipped       2         5     2003  ...   \n2    7/1/2003 0:00  Shipped       3         7     2003  ...   \n3   8/25/2003 0:00  Shipped       3         8     2003  ...   \n4  10/10/2003 0:00  Shipped       4        10     2003  ...   \n\n                    ADDRESSLINE1  ADDRESSLINE2           CITY STATE  \\\n0        897 Long Airport Avenue           NaN            NYC    NY   \n1             59 rue de l'Abbaye           NaN          Reims   NaN   \n2  27 rue du Colonel Pierre Avia           NaN          Paris   NaN   \n3             78934 Hillside Dr.           NaN       Pasadena    CA   \n4                7734 Strong St.           NaN  San Francisco    CA   \n\n  POSTALCODE COUNTRY TERRITORY CONTACTLASTNAME CONTACTFIRSTNAME DEALSIZE  \n0      10022     USA       NaN              Yu             Kwai    Small  \n1      51100  France      EMEA         Henriot             Paul    Small  \n2      75508  France      EMEA        Da Cunha           Daniel   Medium  \n3      90003     USA       NaN           Young            Julie   Medium  \n4        NaN     USA       NaN           Brown            Julie   Medium  \n\n[5 rows x 25 columns]",
      "text/html": "<div>\n<style scoped>\n    .dataframe tbody tr th:only-of-type {\n        vertical-align: middle;\n    }\n\n    .dataframe tbody tr th {\n        vertical-align: top;\n    }\n\n    .dataframe thead th {\n        text-align: right;\n    }\n</style>\n<table border=\"1\" class=\"dataframe\">\n  <thead>\n    <tr style=\"text-align: right;\">\n      <th></th>\n      <th>ORDERNUMBER</th>\n      <th>QUANTITYORDERED</th>\n      <th>PRICEEACH</th>\n      <th>ORDERLINENUMBER</th>\n      <th>SALES</th>\n      <th>ORDERDATE</th>\n      <th>STATUS</th>\n      <th>QTR_ID</th>\n      <th>MONTH_ID</th>\n      <th>YEAR_ID</th>\n      <th>...</th>\n      <th>ADDRESSLINE1</th>\n      <th>ADDRESSLINE2</th>\n      <th>CITY</th>\n      <th>STATE</th>\n      <th>POSTALCODE</th>\n      <th>COUNTRY</th>\n      <th>TERRITORY</th>\n      <th>CONTACTLASTNAME</th>\n      <th>CONTACTFIRSTNAME</th>\n      <th>DEALSIZE</th>\n    </tr>\n  </thead>\n  <tbody>\n    <tr>\n      <th>0</th>\n      <td>10107</td>\n      <td>30</td>\n      <td>95.70</td>\n      <td>2</td>\n      <td>2871.00</td>\n      <td>2/24/2003 0:00</td>\n      <td>Shipped</td>\n      <td>1</td>\n      <td>2</td>\n      <td>2003</td>\n      <td>...</td>\n      <td>897 Long Airport Avenue</td>\n      <td>NaN</td>\n      <td>NYC</td>\n      <td>NY</td>\n      <td>10022</td>\n      <td>USA</td>\n      <td>NaN</td>\n      <td>Yu</td>\n      <td>Kwai</td>\n      <td>Small</td>\n    </tr>\n    <tr>\n      <th>1</th>\n      <td>10121</td>\n      <td>34</td>\n      <td>81.35</td>\n      <td>5</td>\n      <td>2765.90</td>\n      <td>5/7/2003 0:00</td>\n      <td>Shipped</td>\n      <td>2</td>\n      <td>5</td>\n      <td>2003</td>\n      <td>...</td>\n      <td>59 rue de l'Abbaye</td>\n      <td>NaN</td>\n      <td>Reims</td>\n      <td>NaN</td>\n      <td>51100</td>\n      <td>France</td>\n      <td>EMEA</td>\n      <td>Henriot</td>\n      <td>Paul</td>\n      <td>Small</td>\n    </tr>\n    <tr>\n      <th>2</th>\n      <td>10134</td>\n      <td>41</td>\n      <td>94.74</td>\n      <td>2</td>\n      <td>3884.34</td>\n      <td>7/1/2003 0:00</td>\n      <td>Shipped</td>\n      <td>3</td>\n      <td>7</td>\n      <td>2003</td>\n      <td>...</td>\n      <td>27 rue du Colonel Pierre Avia</td>\n      <td>NaN</td>\n      <td>Paris</td>\n      <td>NaN</td>\n      <td>75508</td>\n      <td>France</td>\n      <td>EMEA</td>\n      <td>Da Cunha</td>\n      <td>Daniel</td>\n      <td>Medium</td>\n    </tr>\n    <tr>\n      <th>3</th>\n      <td>10145</td>\n      <td>45</td>\n      <td>83.26</td>\n      <td>6</td>\n      <td>3746.70</td>\n      <td>8/25/2003 0:00</td>\n      <td>Shipped</td>\n      <td>3</td>\n      <td>8</td>\n      <td>2003</td>\n      <td>...</td>\n      <td>78934 Hillside Dr.</td>\n      <td>NaN</td>\n      <td>Pasadena</td>\n      <td>CA</td>\n      <td>90003</td>\n      <td>USA</td>\n      <td>NaN</td>\n      <td>Young</td>\n      <td>Julie</td>\n      <td>Medium</td>\n    </tr>\n    <tr>\n      <th>4</th>\n      <td>10159</td>\n      <td>49</td>\n      <td>100.00</td>\n      <td>14</td>\n      <td>5205.27</td>\n      <td>10/10/2003 0:00</td>\n      <td>Shipped</td>\n      <td>4</td>\n      <td>10</td>\n      <td>2003</td>\n      <td>...</td>\n      <td>7734 Strong St.</td>\n      <td>NaN</td>\n      <td>San Francisco</td>\n      <td>CA</td>\n      <td>NaN</td>\n      <td>USA</td>\n      <td>NaN</td>\n      <td>Brown</td>\n      <td>Julie</td>\n      <td>Medium</td>\n    </tr>\n  </tbody>\n</table>\n<p>5 rows × 25 columns</p>\n</div>"
     },
     "execution_count": 2,
     "metadata": {},
     "output_type": "execute_result"
    }
   ],
   "source": [
    "df = pd.read_csv('datasets/sales_data_sample.csv', encoding='unicode_escape')\n",
    "df.head()"
   ],
   "metadata": {
    "collapsed": false,
    "ExecuteTime": {
     "start_time": "2023-04-11T20:19:54.330603Z",
     "end_time": "2023-04-11T20:19:54.414083Z"
    }
   }
  },
  {
   "cell_type": "code",
   "execution_count": 4,
   "outputs": [
    {
     "data": {
      "text/plain": "Index(['ORDERNUMBER', 'QUANTITYORDERED', 'PRICEEACH', 'ORDERLINENUMBER',\n       'SALES', 'ORDERDATE', 'STATUS', 'QTR_ID', 'MONTH_ID', 'YEAR_ID',\n       'PRODUCTLINE', 'MSRP', 'PRODUCTCODE', 'CUSTOMERNAME', 'PHONE',\n       'ADDRESSLINE1', 'ADDRESSLINE2', 'CITY', 'STATE', 'POSTALCODE',\n       'COUNTRY', 'TERRITORY', 'CONTACTLASTNAME', 'CONTACTFIRSTNAME',\n       'DEALSIZE'],\n      dtype='object')"
     },
     "execution_count": 4,
     "metadata": {},
     "output_type": "execute_result"
    }
   ],
   "source": [
    "# Inspecting data types\n",
    "df.columns"
   ],
   "metadata": {
    "collapsed": false,
    "ExecuteTime": {
     "start_time": "2023-04-11T20:39:44.941485Z",
     "end_time": "2023-04-11T20:39:44.952338Z"
    }
   }
  },
  {
   "cell_type": "code",
   "execution_count": null,
   "outputs": [],
   "source": [
    "# Converting to datetime and fix format\n",
    "df['ORDERDATE'] = pd.to_datetime(df.ORDERDATE, format='%m/%d/%Y %H:%M')\n",
    "df['ORDERDATE'] = df.ORDERDATE.dt.strftime('%Y-%m-%d %H:%M')\n",
    "df.head()"
   ],
   "metadata": {
    "collapsed": false,
    "ExecuteTime": {
     "start_time": "2023-04-09T16:52:38.263150Z",
     "end_time": "2023-04-09T16:52:38.323488Z"
    }
   }
  },
  {
   "cell_type": "code",
   "execution_count": null,
   "outputs": [],
   "source": [
    "df['ORDERDATE'] = pd.to_datetime(df.ORDERDATE)\n",
    "df.tail()"
   ],
   "metadata": {
    "collapsed": false,
    "ExecuteTime": {
     "start_time": "2023-04-09T16:52:38.298934Z",
     "end_time": "2023-04-09T16:52:38.345180Z"
    }
   }
  },
  {
   "cell_type": "markdown",
   "source": [
    "## Working dimension Time"
   ],
   "metadata": {
    "collapsed": false
   }
  },
  {
   "cell_type": "code",
   "execution_count": null,
   "outputs": [],
   "source": [
    "df_time = df[['ORDERDATE', 'MONTH_ID', 'QTR_ID', 'YEAR_ID']].copy(deep=True)\n",
    "df_time.head()"
   ],
   "metadata": {
    "collapsed": false,
    "ExecuteTime": {
     "start_time": "2023-04-09T16:52:38.305776Z",
     "end_time": "2023-04-09T16:52:38.345379Z"
    }
   }
  },
  {
   "cell_type": "markdown",
   "source": [
    "## First step will be getting derivate values\n",
    "\n",
    "### At this moment the dimension time should have the following fields:\n",
    "- dateid:: yyyymmdd\n",
    "- day:: dd\n",
    "- dayname:: (monday-tuesday- and so on)\n",
    "- month:: mm\n",
    "- monthname:: (January-February- and so on)\n",
    "- is_day_of_week:: True/False\n",
    "- MonthNumberByYear:: 2023-02\n",
    "- Weeknumber\n",
    "- Semester\n",
    "- Quarter\n",
    "- Year"
   ],
   "metadata": {
    "collapsed": false
   }
  },
  {
   "cell_type": "code",
   "execution_count": null,
   "outputs": [],
   "source": [
    "# Create dateid\n",
    "df_time['DATEID'] = df_time.ORDERDATE.dt.strftime('%Y%m%d')\n",
    "df_time['DAY']    = df_time.ORDERDATE.dt.day\n",
    "df_time['DAYNAME']    = df_time.ORDERDATE.dt.day_name()\n",
    "df_time['MONTHNAME']  = df_time.ORDERDATE.dt.month_name()\n",
    "df_time['WEEKNUMBER']  = df_time.ORDERDATE.dt.isocalendar().week\n",
    "df_time['IS_WEEKDAY'] = df_time['ORDERDATE'].apply(lambda x: 1 if x.weekday() else 0)\n",
    "df_time['SEMESTER'] = df_time['MONTH_ID'].apply(lambda x: 1 if x < 7 else 2)\n",
    "df_time['MONTHNUMBERBYYEAR'] = df_time.ORDERDATE.dt.strftime('%Y-%m')\n",
    "df_time.rename(columns={\"ORDERDATE\": \"FULLDATE\", 'YEAR_ID': 'YEAR', 'QTR_ID': 'QUARTER', 'MONTH_ID': 'MONTH'}, inplace=True)\n",
    "df_time.head()"
   ],
   "metadata": {
    "collapsed": false,
    "ExecuteTime": {
     "start_time": "2023-04-09T16:52:38.310681Z",
     "end_time": "2023-04-09T16:52:38.379923Z"
    }
   }
  },
  {
   "cell_type": "code",
   "execution_count": null,
   "outputs": [],
   "source": [
    "# Reorder dataframe\n",
    "cols = ['DATEID', 'YEAR', 'SEMESTER', 'QUARTER', 'MONTHNAME', 'MONTH', 'MONTHNUMBERBYYEAR', 'WEEKNUMBER', 'DAYNAME', 'DAY', 'IS_WEEKDAY', 'FULLDATE']\n",
    "df_time = df_time.reindex(columns=cols)\n",
    "df_time.head()"
   ],
   "metadata": {
    "collapsed": false,
    "ExecuteTime": {
     "start_time": "2023-04-09T16:52:38.351424Z",
     "end_time": "2023-04-09T16:52:38.415735Z"
    }
   }
  },
  {
   "cell_type": "code",
   "execution_count": null,
   "outputs": [],
   "source": [
    "print(f'Dimension Date shape: {df_time.shape}')"
   ],
   "metadata": {
    "collapsed": false,
    "ExecuteTime": {
     "start_time": "2023-04-09T16:52:38.359964Z",
     "end_time": "2023-04-09T16:52:38.415947Z"
    }
   }
  },
  {
   "cell_type": "code",
   "execution_count": null,
   "outputs": [],
   "source": [
    "df_time.drop_duplicates(keep='first',inplace=True)\n",
    "print(f'Dimension Date shape after dedup: {df_time.shape}')"
   ],
   "metadata": {
    "collapsed": false,
    "ExecuteTime": {
     "start_time": "2023-04-09T16:52:38.362828Z",
     "end_time": "2023-04-09T16:52:38.416122Z"
    }
   }
  },
  {
   "cell_type": "code",
   "execution_count": null,
   "outputs": [],
   "source": [
    "df_time.sort_values(by=['FULLDATE'], inplace=True)\n",
    "df_time.to_csv('output_files/dim_date.csv', index=False)"
   ],
   "metadata": {
    "collapsed": false,
    "ExecuteTime": {
     "start_time": "2023-04-09T16:52:38.371512Z",
     "end_time": "2023-04-09T16:52:38.429122Z"
    }
   }
  },
  {
   "cell_type": "code",
   "execution_count": null,
   "outputs": [],
   "source": [
    "import pandas as pd\n",
    "\n",
    "df = pd.read_csv('datasets/sales_data_sample.csv', encoding='unicode_escape')\n",
    "\n",
    "# Converting to datetime and fix format\n",
    "df['ORDERDATE'] = pd.to_datetime(df.ORDERDATE, format='%m/%d/%Y %H:%M')\n",
    "df['ORDERDATE'] = df.ORDERDATE.dt.strftime('%Y-%m-%d %H:%M')\n",
    "\n",
    "df_time = df[['ORDERDATE', 'MONTH_ID', 'QTR_ID', 'YEAR_ID']].copy(deep=True)\n",
    "\n",
    "df_time['ORDERDATE'] = pd.to_datetime(df_time.ORDERDATE)\n",
    "\n",
    "# Create derivative columns\n",
    "df_time['DATEID'] = df_time.ORDERDATE.dt.strftime('%Y%m%d')\n",
    "df_time['DAY']    = df_time.ORDERDATE.dt.day\n",
    "df_time['DAYNAME']    = df_time.ORDERDATE.dt.day_name()\n",
    "df_time['MONTHNAME']  = df_time.ORDERDATE.dt.month_name()\n",
    "df_time['WEEKNUMBER']  = df_time.ORDERDATE.dt.isocalendar().week\n",
    "df_time['IS_WEEKDAY'] = df_time['ORDERDATE'].apply(lambda x: 1 if x.weekday() else 0)\n",
    "df_time['SEMESTER'] = df_time['MONTH_ID'].apply(lambda x: 1 if x < 7 else 2)\n",
    "df_time['MONTHNUMBERBYYEAR'] = df_time.ORDERDATE.dt.strftime('%Y-%m')\n",
    "\n",
    "# Renaming columns\n",
    "df_time.rename(columns={\"ORDERDATE\": \"FULLDATE\", 'YEAR_ID': 'YEAR',\n",
    "                        'QTR_ID': 'QUARTER', 'MONTH_ID': 'MONTH'}, inplace=True)\n",
    "\n",
    "# Reorder dataframe\n",
    "cols = ['DATEID', 'YEAR', 'SEMESTER', 'QUARTER', 'MONTHNAME', 'MONTH', 'MONTHNUMBERBYYEAR',\n",
    "        'WEEKNUMBER', 'DAYNAME', 'DAY', 'IS_WEEKDAY', 'FULLDATE']\n",
    "df_time = df_time.reindex(columns=cols)\n",
    "\n",
    "# Drop duplicates\n",
    "df_time.drop_duplicates(keep='first',inplace=True)\n",
    "\n",
    "# Sorting dataframe\n",
    "df_time.sort_values(by=['FULLDATE'], inplace=True)\n",
    "\n",
    "# Exporting Results\n",
    "df_time.to_csv('output_files/dim_date.csv', index=False)"
   ],
   "metadata": {
    "collapsed": false
   }
  },
  {
   "cell_type": "markdown",
   "source": [
    "## Working dimension Location/geography"
   ],
   "metadata": {
    "collapsed": false
   }
  },
  {
   "cell_type": "code",
   "execution_count": null,
   "outputs": [],
   "source": [
    "df.head()"
   ],
   "metadata": {
    "collapsed": false,
    "ExecuteTime": {
     "start_time": "2023-04-09T16:52:38.385062Z",
     "end_time": "2023-04-09T16:52:38.499879Z"
    }
   }
  },
  {
   "cell_type": "code",
   "execution_count": null,
   "outputs": [],
   "source": [
    "df_geo = df[['CITY', 'STATE', 'COUNTRY', 'TERRITORY']].copy(deep=True)\n",
    "df_geo.head()"
   ],
   "metadata": {
    "collapsed": false,
    "ExecuteTime": {
     "start_time": "2023-04-09T16:52:38.392890Z",
     "end_time": "2023-04-09T16:52:38.500095Z"
    }
   }
  },
  {
   "cell_type": "code",
   "execution_count": null,
   "outputs": [],
   "source": [
    "print(f'Dimension Location shape: {df_geo.shape}')"
   ],
   "metadata": {
    "collapsed": false,
    "ExecuteTime": {
     "start_time": "2023-04-09T16:52:38.401773Z",
     "end_time": "2023-04-09T16:52:38.504177Z"
    }
   }
  },
  {
   "cell_type": "code",
   "execution_count": null,
   "outputs": [],
   "source": [
    "df_geo.drop_duplicates(keep='first',inplace=True)\n",
    "print(f'Dimension Location shape after dedup: {df_geo.shape}')\n",
    "df_geo.to_csv('output_files/dim_location.csv', index=False)"
   ],
   "metadata": {
    "collapsed": false,
    "ExecuteTime": {
     "start_time": "2023-04-09T16:52:38.406778Z",
     "end_time": "2023-04-09T16:52:38.523273Z"
    }
   }
  },
  {
   "cell_type": "markdown",
   "source": [
    "## Working dimension Products"
   ],
   "metadata": {
    "collapsed": false
   }
  },
  {
   "cell_type": "code",
   "execution_count": null,
   "outputs": [],
   "source": [
    "df_prod = df[['PRODUCTCODE', 'PRODUCTLINE', 'MSRP']].copy(deep=True)\n",
    "df_prod.head()"
   ],
   "metadata": {
    "collapsed": false,
    "ExecuteTime": {
     "start_time": "2023-04-09T16:52:38.411893Z",
     "end_time": "2023-04-09T16:52:38.523600Z"
    }
   }
  },
  {
   "cell_type": "code",
   "execution_count": null,
   "outputs": [],
   "source": [
    "print(f'Dimension Product shape: {df_prod.shape}')"
   ],
   "metadata": {
    "collapsed": false,
    "ExecuteTime": {
     "start_time": "2023-04-09T16:52:38.417687Z",
     "end_time": "2023-04-09T16:52:38.523685Z"
    }
   }
  },
  {
   "cell_type": "code",
   "execution_count": null,
   "outputs": [],
   "source": [
    "df_prod.drop_duplicates(keep='first',inplace=True)\n",
    "df_prod.reset_index(drop=True, inplace=True)\n",
    "df_prod.index += 1"
   ],
   "metadata": {
    "collapsed": false,
    "ExecuteTime": {
     "start_time": "2023-04-09T16:52:38.421234Z",
     "end_time": "2023-04-09T16:52:38.523730Z"
    }
   }
  },
  {
   "cell_type": "code",
   "execution_count": null,
   "outputs": [],
   "source": [
    "df_prod.reset_index(inplace=True)"
   ],
   "metadata": {
    "collapsed": false,
    "ExecuteTime": {
     "start_time": "2023-04-09T16:52:38.426153Z",
     "end_time": "2023-04-09T16:52:38.523789Z"
    }
   }
  },
  {
   "cell_type": "code",
   "execution_count": null,
   "outputs": [],
   "source": [
    "df_prod.head()"
   ],
   "metadata": {
    "collapsed": false,
    "ExecuteTime": {
     "start_time": "2023-04-09T16:52:38.433803Z",
     "end_time": "2023-04-09T16:52:38.524182Z"
    }
   }
  },
  {
   "cell_type": "code",
   "execution_count": null,
   "outputs": [],
   "source": [
    "df_prod.columns = ['PRODUCTID', 'PRODUCTCODE', 'PRODUCTLINE', 'MSRP']\n",
    "print(f'Dimension Product shape after dedup: {df_prod.shape}')\n",
    "df_prod.to_csv('output_files/dim_product.csv', index=False)"
   ],
   "metadata": {
    "collapsed": false,
    "ExecuteTime": {
     "start_time": "2023-04-09T16:52:38.439195Z",
     "end_time": "2023-04-09T16:52:38.524259Z"
    }
   }
  },
  {
   "cell_type": "markdown",
   "source": [
    "## Working dimension Customer"
   ],
   "metadata": {
    "collapsed": false
   }
  },
  {
   "cell_type": "code",
   "execution_count": null,
   "outputs": [],
   "source": [
    "df.head()"
   ],
   "metadata": {
    "collapsed": false,
    "ExecuteTime": {
     "start_time": "2023-04-09T16:52:38.451429Z",
     "end_time": "2023-04-09T16:52:38.524347Z"
    }
   }
  },
  {
   "cell_type": "code",
   "execution_count": null,
   "outputs": [],
   "source": [
    "df_customer = df[['CUSTOMERNAME', 'PHONE', 'CONTACTFIRSTNAME', 'CONTACTLASTNAME', 'ADDRESSLINE1', 'ADDRESSLINE2', 'CITY', 'STATE', 'POSTALCODE', 'COUNTRY', 'TERRITORY', ]].copy(deep=True)\n",
    "df_customer.head()"
   ],
   "metadata": {
    "collapsed": false,
    "ExecuteTime": {
     "start_time": "2023-04-09T16:52:38.455944Z",
     "end_time": "2023-04-09T16:52:38.524429Z"
    }
   }
  },
  {
   "cell_type": "code",
   "execution_count": null,
   "outputs": [],
   "source": [
    "print(f'Dimension Customer shape: {df_customer.shape}')"
   ],
   "metadata": {
    "collapsed": false,
    "ExecuteTime": {
     "start_time": "2023-04-09T16:52:38.466141Z",
     "end_time": "2023-04-09T16:52:38.535892Z"
    }
   }
  },
  {
   "cell_type": "code",
   "execution_count": null,
   "outputs": [],
   "source": [
    "df_customer.drop_duplicates(keep='first',inplace=True)\n",
    "df_customer.reset_index(drop=True, inplace=True)\n",
    "df_customer.index += 1"
   ],
   "metadata": {
    "collapsed": false,
    "ExecuteTime": {
     "start_time": "2023-04-09T16:52:38.471126Z",
     "end_time": "2023-04-09T16:52:38.558125Z"
    }
   }
  },
  {
   "cell_type": "code",
   "execution_count": null,
   "outputs": [],
   "source": [
    "df_customer.reset_index(inplace=True)\n",
    "# df_customer['LOCATIONID'] = df_customer['index']"
   ],
   "metadata": {
    "collapsed": false,
    "ExecuteTime": {
     "start_time": "2023-04-09T16:52:38.478904Z",
     "end_time": "2023-04-09T16:52:38.558342Z"
    }
   }
  },
  {
   "cell_type": "code",
   "execution_count": null,
   "outputs": [],
   "source": [
    "df_customer.columns"
   ],
   "metadata": {
    "collapsed": false,
    "ExecuteTime": {
     "start_time": "2023-04-09T16:52:38.483117Z",
     "end_time": "2023-04-09T16:52:38.565695Z"
    }
   }
  },
  {
   "cell_type": "code",
   "execution_count": null,
   "outputs": [],
   "source": [
    "df_customer = df_customer[['index', 'CUSTOMERNAME', 'PHONE', 'CONTACTFIRSTNAME', 'CONTACTLASTNAME',\n",
    "                           'ADDRESSLINE1', 'ADDRESSLINE2', 'CITY', 'STATE', 'POSTALCODE',\n",
    "                           'COUNTRY', 'TERRITORY']]\n",
    "df_customer.rename(columns={'index': 'CUSTOMERID'}, inplace=True)\n",
    "df_customer.head()"
   ],
   "metadata": {
    "collapsed": false,
    "ExecuteTime": {
     "start_time": "2023-04-09T16:52:38.492026Z",
     "end_time": "2023-04-09T16:52:38.565929Z"
    }
   }
  },
  {
   "cell_type": "code",
   "execution_count": null,
   "outputs": [],
   "source": [
    "df_customer.drop_duplicates(keep='first',inplace=True)\n",
    "print(f'Dimension Customer shape after dedup: {df_customer.shape}')\n",
    "df_customer.to_csv('output_files/dim_customer.csv', index=False)"
   ],
   "metadata": {
    "collapsed": false,
    "ExecuteTime": {
     "start_time": "2023-04-09T16:52:38.496498Z",
     "end_time": "2023-04-09T16:52:38.566229Z"
    }
   }
  },
  {
   "cell_type": "markdown",
   "source": [
    "## Work in factorderlines"
   ],
   "metadata": {
    "collapsed": false
   }
  },
  {
   "cell_type": "code",
   "execution_count": null,
   "outputs": [],
   "source": [
    "df.head()"
   ],
   "metadata": {
    "collapsed": false,
    "ExecuteTime": {
     "start_time": "2023-04-09T16:52:38.512115Z",
     "end_time": "2023-04-09T16:52:38.566341Z"
    }
   }
  },
  {
   "cell_type": "code",
   "execution_count": null,
   "outputs": [],
   "source": [
    "df[df.ORDERNUMBER == 10145]"
   ],
   "metadata": {
    "collapsed": false,
    "ExecuteTime": {
     "start_time": "2023-04-09T16:52:38.515832Z",
     "end_time": "2023-04-09T16:52:38.663024Z"
    }
   }
  },
  {
   "cell_type": "code",
   "execution_count": null,
   "outputs": [],
   "source": [
    "df_factorderlines = df[['ORDERNUMBER', 'ORDERLINENUMBER', 'ORDERDATE', 'CUSTOMERNAME', 'PRODUCTCODE', 'QUANTITYORDERED', 'PRICEEACH', 'SALES','DEALSIZE']].copy(deep=True)\n",
    "df_factorderlines.reset_index(drop=True, inplace=True)\n",
    "df_factorderlines.head()"
   ],
   "metadata": {
    "collapsed": false,
    "ExecuteTime": {
     "start_time": "2023-04-09T16:52:38.532354Z",
     "end_time": "2023-04-09T16:52:38.688686Z"
    }
   }
  },
  {
   "cell_type": "code",
   "execution_count": null,
   "outputs": [],
   "source": [
    "# Add CustomerId\n",
    "df_merged = df_factorderlines.merge(df_customer[['CUSTOMERNAME', 'CUSTOMERID']], on='CUSTOMERNAME', how='left')\n",
    "df_merged.head()"
   ],
   "metadata": {
    "collapsed": false,
    "ExecuteTime": {
     "start_time": "2023-04-09T16:52:38.541842Z",
     "end_time": "2023-04-09T16:52:38.693119Z"
    }
   }
  },
  {
   "cell_type": "code",
   "execution_count": null,
   "outputs": [],
   "source": [
    "# Add DateID\n",
    "df_merged = df_merged.merge(df_time[['FULLDATE', 'DATEID']], left_on='ORDERDATE', right_on='FULLDATE', how='left')\n",
    "df_merged.head()"
   ],
   "metadata": {
    "collapsed": false,
    "ExecuteTime": {
     "start_time": "2023-04-09T16:52:38.553072Z",
     "end_time": "2023-04-09T16:52:38.711157Z"
    }
   }
  },
  {
   "cell_type": "code",
   "execution_count": null,
   "outputs": [],
   "source": [
    "# Add ProductID\n",
    "df_merged = df_merged.merge(df_prod[['PRODUCTCODE', 'PRODUCTID']], on='PRODUCTCODE', how='left')\n",
    "df_merged.head()"
   ],
   "metadata": {
    "collapsed": false,
    "ExecuteTime": {
     "start_time": "2023-04-09T16:52:38.565380Z",
     "end_time": "2023-04-09T16:52:38.769235Z"
    }
   }
  },
  {
   "cell_type": "code",
   "execution_count": null,
   "outputs": [],
   "source": [
    "# Drop ORDERDATE, FULLDATE, CUSTOMERNAME, AND PRODUCTCODE\n",
    "df_merged.drop(columns=['ORDERDATE', 'FULLDATE', 'CUSTOMERNAME', 'PRODUCTCODE'], inplace=True)\n",
    "df_merged.head()"
   ],
   "metadata": {
    "collapsed": false,
    "ExecuteTime": {
     "start_time": "2023-04-09T16:52:38.581293Z",
     "end_time": "2023-04-09T16:52:38.788616Z"
    }
   }
  },
  {
   "cell_type": "code",
   "execution_count": null,
   "outputs": [],
   "source": [
    "df_merged = df_merged[['PRODUCTID', 'CUSTOMERID', 'DATEID', 'ORDERNUMBER', 'ORDERLINENUMBER', 'QUANTITYORDERED', 'PRICEEACH', 'SALES','DEALSIZE']]\n",
    "df_merged['TOTAL_ORDERLINE_AMOUNT'] = df_merged.apply(lambda row: round(row['PRICEEACH'] * row['QUANTITYORDERED'],2), axis=1)\n",
    "df_merged.head()"
   ],
   "metadata": {
    "collapsed": false,
    "ExecuteTime": {
     "start_time": "2023-04-09T16:52:38.586711Z",
     "end_time": "2023-04-09T16:52:38.833457Z"
    }
   }
  },
  {
   "cell_type": "code",
   "execution_count": null,
   "outputs": [],
   "source": [
    "df_merged = df_merged[['PRODUCTID', 'CUSTOMERID', 'DATEID', 'ORDERNUMBER', 'ORDERLINENUMBER', 'DEALSIZE', 'QUANTITYORDERED', 'PRICEEACH', 'SALES', 'TOTAL_ORDERLINE_AMOUNT']]\n",
    "df_merged[df_merged['SALES'].round(2) != df_merged['TOTAL_ORDERLINE_AMOUNT'].round(2)].head()"
   ],
   "metadata": {
    "collapsed": false,
    "ExecuteTime": {
     "start_time": "2023-04-09T16:52:38.646176Z",
     "end_time": "2023-04-09T16:52:38.833728Z"
    }
   }
  },
  {
   "cell_type": "code",
   "execution_count": null,
   "outputs": [],
   "source": [
    "df_merged.drop_duplicates(keep='first', inplace=True)\n",
    "df_merged.to_csv('output_files/factorderlines.csv', index=False)"
   ],
   "metadata": {
    "collapsed": false,
    "ExecuteTime": {
     "start_time": "2023-04-09T16:52:38.655160Z",
     "end_time": "2023-04-09T16:52:38.834069Z"
    }
   }
  },
  {
   "cell_type": "markdown",
   "source": [
    "## Work in factorders"
   ],
   "metadata": {
    "collapsed": false
   }
  },
  {
   "cell_type": "code",
   "execution_count": null,
   "outputs": [],
   "source": [
    "df_factorders = df[['CUSTOMERNAME', 'ORDERDATE', 'ORDERNUMBER', 'ORDERLINENUMBER', 'STATUS']].copy(deep=True)\n",
    "df_factorders.head()"
   ],
   "metadata": {
    "collapsed": false,
    "ExecuteTime": {
     "start_time": "2023-04-09T16:52:38.673115Z",
     "end_time": "2023-04-09T16:52:38.834220Z"
    }
   }
  },
  {
   "cell_type": "code",
   "execution_count": null,
   "outputs": [],
   "source": [
    "df_join = df_factorders.merge(df_merged[['ORDERNUMBER', 'ORDERLINENUMBER', 'CUSTOMERID', 'DATEID', 'SALES']], on=['ORDERNUMBER', 'ORDERLINENUMBER'], how='left')\n",
    "df_join.head()"
   ],
   "metadata": {
    "collapsed": false,
    "ExecuteTime": {
     "start_time": "2023-04-09T16:52:38.687136Z",
     "end_time": "2023-04-09T16:52:38.856132Z"
    }
   }
  },
  {
   "cell_type": "code",
   "execution_count": null,
   "outputs": [],
   "source": [
    "# Drop columns 'CUSTOMERNAME', AND 'ORDERDATE'\n",
    "df_join.drop(columns=['CUSTOMERNAME', 'ORDERDATE'], inplace=True)\n",
    "df_join.head()"
   ],
   "metadata": {
    "collapsed": false,
    "ExecuteTime": {
     "start_time": "2023-04-09T16:52:38.696857Z",
     "end_time": "2023-04-09T16:52:38.856275Z"
    }
   }
  },
  {
   "cell_type": "code",
   "execution_count": null,
   "outputs": [],
   "source": [
    "factorders = df_join.groupby(['ORDERNUMBER', 'DATEID', 'CUSTOMERID', 'STATUS'])[['SALES']].sum()"
   ],
   "metadata": {
    "collapsed": false,
    "ExecuteTime": {
     "start_time": "2023-04-09T16:52:38.705176Z",
     "end_time": "2023-04-09T16:52:38.856365Z"
    }
   }
  },
  {
   "cell_type": "code",
   "execution_count": null,
   "outputs": [],
   "source": [
    "factorders.head()"
   ],
   "metadata": {
    "collapsed": false,
    "ExecuteTime": {
     "start_time": "2023-04-09T16:52:38.715247Z",
     "end_time": "2023-04-09T16:52:38.856452Z"
    }
   }
  },
  {
   "cell_type": "code",
   "execution_count": null,
   "outputs": [],
   "source": [
    "factorders.reset_index(inplace=True)\n",
    "factorders = factorders[['CUSTOMERID', 'DATEID','ORDERNUMBER', 'STATUS', 'SALES']]"
   ],
   "metadata": {
    "collapsed": false,
    "ExecuteTime": {
     "start_time": "2023-04-09T16:52:38.721518Z",
     "end_time": "2023-04-09T16:52:38.856490Z"
    }
   }
  },
  {
   "cell_type": "code",
   "execution_count": null,
   "outputs": [],
   "source": [
    "factorders.rename(columns={'SALES': 'TOTAL_ORDER_AMOUNT'}, inplace=True)\n",
    "factorders.head()"
   ],
   "metadata": {
    "collapsed": false,
    "ExecuteTime": {
     "start_time": "2023-04-09T16:52:38.727613Z",
     "end_time": "2023-04-09T16:52:38.856563Z"
    }
   }
  },
  {
   "cell_type": "code",
   "execution_count": null,
   "outputs": [],
   "source": [
    "factorders.to_csv('output_files/factorders.csv', index=False)"
   ],
   "metadata": {
    "collapsed": false,
    "ExecuteTime": {
     "start_time": "2023-04-09T16:52:43.108042Z",
     "end_time": "2023-04-09T16:52:43.142151Z"
    }
   }
  },
  {
   "cell_type": "code",
   "execution_count": null,
   "outputs": [],
   "source": [
    "df_customer.head()"
   ],
   "metadata": {
    "collapsed": false,
    "ExecuteTime": {
     "start_time": "2023-04-10T12:46:02.962020Z",
     "end_time": "2023-04-10T12:46:02.984323Z"
    }
   }
  },
  {
   "cell_type": "code",
   "execution_count": null,
   "outputs": [],
   "source": [
    "len(df_customer.columns)"
   ],
   "metadata": {
    "collapsed": false,
    "ExecuteTime": {
     "start_time": "2023-04-10T12:46:47.288272Z",
     "end_time": "2023-04-10T12:46:47.302494Z"
    }
   }
  },
  {
   "cell_type": "code",
   "execution_count": null,
   "outputs": [],
   "source": [],
   "metadata": {
    "collapsed": false
   }
  }
 ],
 "metadata": {
  "kernelspec": {
   "display_name": "Python 3",
   "language": "python",
   "name": "python3"
  },
  "language_info": {
   "codemirror_mode": {
    "name": "ipython",
    "version": 2
   },
   "file_extension": ".py",
   "mimetype": "text/x-python",
   "name": "python",
   "nbconvert_exporter": "python",
   "pygments_lexer": "ipython2",
   "version": "2.7.6"
  }
 },
 "nbformat": 4,
 "nbformat_minor": 0
}
